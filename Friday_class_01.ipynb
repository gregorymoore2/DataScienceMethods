{
 "cells": [
  {
   "cell_type": "markdown",
   "id": "42c48f28-6ac6-4a77-8e90-976f53990ccf",
   "metadata": {},
   "source": [
    "## Quick Introduction to Python"
   ]
  },
  {
   "cell_type": "markdown",
   "id": "76341d69-9423-43dd-b944-608b69f7b2b5",
   "metadata": {},
   "source": [
    "### 1 Notebook Navigation"
   ]
  },
  {
   "cell_type": "markdown",
   "id": "cc5880e1-84fc-433a-94b3-85510f0d0966",
   "metadata": {},
   "source": [
    "To run code in a code cell, press enter/return while holding the shift key. Try with the cell below:"
   ]
  },
  {
   "cell_type": "code",
   "execution_count": null,
   "id": "d66354b3-3af8-4895-b091-e1e181448ce1",
   "metadata": {},
   "outputs": [],
   "source": [
    "1 + 1"
   ]
  },
  {
   "cell_type": "markdown",
   "id": "98ed6370-ee10-4d07-9d17-6d44516f257b",
   "metadata": {},
   "source": [
    "You can change the type of a cell using the dropdown selector in the toolbar above (should be showing Markdown currently). Code cells hold python code, and Markdown cells hold markdown. Try changing the type of the cell below to a code cell, and run the code. "
   ]
  },
  {
   "cell_type": "markdown",
   "id": "dbf9ca05-9c92-480e-a43c-07eff12f598f",
   "metadata": {},
   "source": [
    "import this"
   ]
  },
  {
   "cell_type": "markdown",
   "id": "b2e82c32-e45a-476a-9af2-5252a118f2b2",
   "metadata": {},
   "source": [
    "Using the $+$ in the toolbar above (or the buttons displayed to the right when in a cell) you can add more cells, try adding one below this one."
   ]
  },
  {
   "cell_type": "markdown",
   "id": "9290833a-821b-48a7-9922-848b2e7c5273",
   "metadata": {},
   "source": [
    "#### Markdown\n",
    "Markdown cells use the markdown markup language to format text. To see the markdown creating this text just double click this cell. \n",
    "Markdown can be used to create **bold** test, or *italicized* text. It can show headers of different sizes:\n",
    "#### Header 4\n",
    "and lists, \n",
    "* Which can\n",
    "* use bullet points\n",
    "\n",
    "1. or\n",
    "2. numbers\n",
    "\n",
    "Additionally, you can use latex in markdown cells to write equations, such as Fick's law of diffusion:  \n",
    "$J=-D\\frac{d\\varphi}{dx}$  \n",
    "\n",
    "You can also create hyperlinks: [like this](https://www.youtube.com/watch?v=dQw4w9WgXcQ)"
   ]
  },
  {
   "cell_type": "markdown",
   "id": "675880e8-34c2-46e5-ab51-8896eb8dd708",
   "metadata": {},
   "source": [
    "### 2 Doing Math with Python"
   ]
  },
  {
   "cell_type": "markdown",
   "id": "7c046973-f72e-4c40-8870-a1aea34ecd2b",
   "metadata": {},
   "source": [
    "Python can be used as a calculator, with operations such as ``+``,``-``,``*``, ``/``, and ``()`` having their normal mathematical meaning. "
   ]
  },
  {
   "cell_type": "markdown",
   "id": "dc176974-6251-4f41-b2d5-c8b90a8c3989",
   "metadata": {},
   "source": [
    "To do exponentiation use ``**`` (``^`` means something else). "
   ]
  },
  {
   "cell_type": "markdown",
   "id": "36f8a37a-189a-4b51-9bfe-435a9f137f8e",
   "metadata": {},
   "source": [
    "What is $199 - \\frac{27^2}{43}$?"
   ]
  },
  {
   "cell_type": "code",
   "execution_count": null,
   "id": "c41ac38e-2870-4cbd-a70c-5f8f86b3eba8",
   "metadata": {},
   "outputs": [],
   "source": []
  },
  {
   "cell_type": "markdown",
   "id": "805ea133-22d7-4aa0-95d2-aa4b7d2976e2",
   "metadata": {},
   "source": [
    "There are some additional, more obscure operations as well, such as ``//``, and ``%``"
   ]
  },
  {
   "cell_type": "markdown",
   "id": "e13b9eb4-891c-4ffc-8cf5-b12a9928de50",
   "metadata": {},
   "source": [
    "What is ``10//3``?"
   ]
  },
  {
   "cell_type": "code",
   "execution_count": null,
   "id": "28654eeb-957b-403a-99bf-dc848013387f",
   "metadata": {},
   "outputs": [],
   "source": []
  },
  {
   "cell_type": "markdown",
   "id": "a7523bf8-ac87-4028-8ee2-5aaf65c8e6ca",
   "metadata": {},
   "source": [
    "How about ``10%3``?"
   ]
  },
  {
   "cell_type": "code",
   "execution_count": null,
   "id": "b30e9c33-fdd0-4cb4-8be6-86ae23ed442a",
   "metadata": {},
   "outputs": [],
   "source": []
  },
  {
   "cell_type": "raw",
   "id": "df8c268d-2abd-4ba8-a90e-95e6506b4f11",
   "metadata": {},
   "source": [
    "Try these with some different inputs, see if you can figure out what they do."
   ]
  },
  {
   "cell_type": "markdown",
   "id": "f94791ed-f7a3-47ef-8ecc-febbfd95494d",
   "metadata": {},
   "source": [
    "There are a lot of other operators in python, here is a list of many of them:"
   ]
  },
  {
   "cell_type": "markdown",
   "id": "0c069043-e7d7-446b-81a6-ba30b00ccf98",
   "metadata": {},
   "source": [
    "Operation | Syntax | Function\n",
    "|:-:|:-:|:-:|\n",
    "|Addition | a + b | add(a, b)|\n",
    "|Concatenation|seq1 + seq2|concat(seq1, seq2)|\n",
    "|Containment Test|obj in seq|contains(seq, obj)|\n",
    "|Division|a / b|truediv(a, b)|\n",
    "|Division|a // b|floordiv(a, b)|\n",
    "|Bitwise And|a & b|and_(a, b)|\n",
    "|Bitwise Exclusive Or|a ^ b|xor(a, b)|\n",
    "|Bitwise Inversion|~ a|invert(a)|\n",
    "|Bitwise Or| a \\| b|or_(a, b)|\n",
    "|Exponentiation|a ** b|pow(a, b)|\n",
    "|Identity|a is b|is_(a, b)|\n",
    "|Identity|a is not b|is_not(a, b)|\n",
    "|Indexed Assignment|obj\\[k\\] = v|setitem(obj, k, v)|\n",
    "|Indexed Deletion|del obj\\[k\\]|delitem(obj, k)|\n",
    "|Indexing|obj[k]|getitem(obj, k)|\n",
    "|Left Shift|a << b|lshift(a, b)|\n",
    "|Modulo|a % b|mod(a, b)|\n",
    "|Multiplication|a * b|mul(a, b)|\n",
    "|Matrix Multiplication|a @ b|matmul(a, b)|\n",
    "|Negation (Arithmetic)|\\- a|neg(a)|\n",
    "|Negation (Logical)|not a|not_(a)|\n",
    "|Positive|\\+ a|pos(a)|\n",
    "|Right Shift|a >> b|rshift(a, b)|\n",
    "|Slice Assignment|seq\\[i:j\\] = values|setitem(seq, slice(i, j), values)|\n",
    "|Slice Deletion|del seq\\[i:j\\]|delitem(seq, slice(i, j))|\n",
    "|Slicing|seq\\[i:j\\]|getitem(seq, slice(i, j))|\n",
    "|String Formatting|s % obj|mod(s, obj)|\n",
    "|Subtraction|a - b|sub(a, b)|\n",
    "|Truth Test|obj|truth(obj)|\n",
    "|Ordering|a < b|lt(a, b)|\n",
    "|Ordering|a <= b|le(a, b)|\n",
    "|Equality|a == b|eq(a, b)|\n",
    "|Difference|a != b|ne(a, b)|\n",
    "|Ordering|a >= b|ge(a, b)|\n",
    "|Ordering|a > b|gt(a, b)|"
   ]
  },
  {
   "cell_type": "markdown",
   "id": "ef7e5b11-569b-47b8-8e4d-ee11f66be279",
   "metadata": {},
   "source": [
    "In addition to these operations, many more mathematical functions are defined in the math module. To import a library in python, simply use the `import` statement:"
   ]
  },
  {
   "cell_type": "code",
   "execution_count": null,
   "id": "24298da0-b8e4-45f8-a370-dd96fa4d1652",
   "metadata": {},
   "outputs": [],
   "source": [
    "import math"
   ]
  },
  {
   "cell_type": "markdown",
   "id": "a1b2fac1-33c9-4e48-8c77-8c2713e71e95",
   "metadata": {},
   "source": [
    "To access elements of the ``math`` module, use ```math.XXX```, where ```XXX``` is the name of a variable, function, or other object defined in the math module. Some examples:"
   ]
  },
  {
   "cell_type": "code",
   "execution_count": null,
   "id": "37bed5c9-0af4-4795-826b-48d0755675ce",
   "metadata": {},
   "outputs": [],
   "source": [
    "# Variable with the value of π\n",
    "math.pi"
   ]
  },
  {
   "cell_type": "code",
   "execution_count": null,
   "id": "4f70d3c5-dfe4-4569-89e5-3c5ab65a1df4",
   "metadata": {},
   "outputs": [],
   "source": [
    "# Function to compute the square root of a number\n",
    "math.sqrt(2)"
   ]
  },
  {
   "cell_type": "markdown",
   "id": "ca5df505-9010-48c4-8d23-219c64d46ad1",
   "metadata": {},
   "source": [
    "For more information on the math module, see the documentation [here](https://docs.python.org/3/library/math.html). If the math module doesn't have the function that you want, the [numpy](https://numpy.org/doc/stable/) or [scipy](https://docs.scipy.org/doc/scipy/) packages probably do, and we will talk more about these two packages later. "
   ]
  },
  {
   "cell_type": "markdown",
   "id": "46238042-a1d6-4fae-ac23-6b1ab66491dd",
   "metadata": {},
   "source": [
    "### 3 Variables"
   ]
  },
  {
   "cell_type": "markdown",
   "id": "06771842-75f3-4d3e-a7a0-3faeba265527",
   "metadata": {},
   "source": [
    "Variables are names given to data. In python variables are usually named using snake_case, using all lowercase characters with optional underscores ('``_``') to seperate words.   \n",
    "\n",
    "You can't use any of the ***reserved words*** for variable names, as they have a special meaning in python.  \n",
    "\n",
    "Examples of __reserved words__ you shouldn't use as variable names: \n",
    "|  |  |  |  |  |  |  |\n",
    "|:---:|:---:|:---:|:---:|:---:|:---:|:---:|\n",
    "| import | True | False | if | else | def | in |\n",
    "| not | and | or | None | from | continue | pass |\n",
    "| class | await | raise | del | lambda | return | elif |\n",
    "| with | as | finally | nonlocal | while | assert | except | \n",
    "| global | yield | break | try | global | \n"
   ]
  },
  {
   "cell_type": "markdown",
   "id": "b35796ff-1e77-4453-bfc1-ab45f68087b0",
   "metadata": {},
   "source": [
    "To assign data to a variable, use the `=` operator, for example ```diffusivity=1860```. "
   ]
  },
  {
   "cell_type": "markdown",
   "id": "4727a188-c7d3-4e54-a73c-e3e1e51da092",
   "metadata": {},
   "source": [
    "Python variables have different data types depending on what they are holding. For example the type `int` holds integers, `str` holds strings, ```bool``` holds True/False values, and `float` holds floating point numbers. Floating point numbers (approximately) represent decimal numbers such as `2.7182818`. "
   ]
  },
  {
   "cell_type": "code",
   "execution_count": null,
   "id": "c51b8440-fdfe-4d67-aecf-c3754eeaaa39",
   "metadata": {},
   "outputs": [],
   "source": [
    "# int type variables hold integer numbers\n",
    "my_int = 5\n",
    "print(my_int)"
   ]
  },
  {
   "cell_type": "code",
   "execution_count": null,
   "id": "d1f493f7-2877-4d49-b29c-7a4fe0bff66a",
   "metadata": {},
   "outputs": [],
   "source": [
    "# Floating point numbers hold decimal numbers, but they are approximate which can lead to some odd behavior such as\n",
    "print(0.1+0.2)\n",
    "# These approximations tend to be good enough for most calculations, but it is important to keep in mind that they aren't exact"
   ]
  },
  {
   "cell_type": "code",
   "execution_count": null,
   "id": "f0735ea9-a9c5-401f-9344-011e0585808e",
   "metadata": {},
   "outputs": [],
   "source": [
    "# str type variables hold strings of characters\n",
    "my_string = \"This is a string\"\n",
    "print(my_string)"
   ]
  },
  {
   "cell_type": "code",
   "execution_count": null,
   "id": "1f83402d-426c-47ca-9e6b-c4f3a0b37214",
   "metadata": {},
   "outputs": [],
   "source": [
    "# bool type variables hold True or False\n",
    "true_bool = True\n",
    "false_bool = False"
   ]
  },
  {
   "cell_type": "code",
   "execution_count": null,
   "id": "462a60db-a490-43bf-bb0a-d0b4451c0c8c",
   "metadata": {},
   "outputs": [],
   "source": [
    "# To find out the type of a variable use the type function\n",
    "type(my_string)"
   ]
  },
  {
   "cell_type": "markdown",
   "id": "3b67d864-1e9b-4634-ab25-cd7c60a7bed4",
   "metadata": {},
   "source": [
    "#### Collections"
   ]
  },
  {
   "cell_type": "markdown",
   "id": "cd5501a7-c87f-404f-ba60-982499fa3e7b",
   "metadata": {},
   "source": [
    "Python also includes 4 collection data types which hold a collection of objects. They are:  \n",
    "* List\n",
    "* Tuple\n",
    "* Set\n",
    "* Dictionary"
   ]
  },
  {
   "cell_type": "markdown",
   "id": "b7708097-1d77-4684-a317-5f60cf1651c2",
   "metadata": {},
   "source": [
    "**Lists** are ordered mutable sequences. Mutable means that the values in the list can be changed after the list is created. Lists can be declared either using ```[]```. The items in the list do not have to be the same type, they can be numbers, strings, and even other lists, or functions. "
   ]
  },
  {
   "cell_type": "code",
   "execution_count": null,
   "id": "83a55719-36f6-425b-b095-34711f5eb74a",
   "metadata": {},
   "outputs": [],
   "source": [
    "# Declare a list using []\n",
    "primes = [2,3,5,7]\n",
    "# Lists can hold a variety of datatypes\n",
    "mylist = [\"this\", \"list\", 1, 3.14, [1,2,3], \"last\"]\n",
    "# You can access elements of the list using [], and the index of the element (starting from 0)\n",
    "print(\"First element of primes list: \",primes[0])\n",
    "# You can also access elements starting from the end using negative numbers\n",
    "print(\"This is the last value in mylist: \", mylist[-1])\n",
    "# You can also change the elements of a list\n",
    "print(\"mylist before: \", mylist)\n",
    "mylist[0]=\"FIRST!\"\n",
    "print(\"mylist after: \",mylist)\n",
    "# Or add elements\n",
    "mylist.append(\"really last\")\n",
    "# Or remove elements\n",
    "mylist.remove(\"last\")\n",
    "# Or remove the last element\n",
    "_=mylist.pop()"
   ]
  },
  {
   "cell_type": "markdown",
   "id": "4aaee756-d767-4536-88e5-e46f9e25ebe1",
   "metadata": {},
   "source": [
    "**Tuples** are a lot like lists, except that they are immutable, that is you can't change the values after you have declared the tuple. They can be declared using ```()```."
   ]
  },
  {
   "cell_type": "code",
   "execution_count": null,
   "id": "759bca16-e9d3-4f9f-b1ed-29372e55163a",
   "metadata": {},
   "outputs": [],
   "source": [
    "# Declare tuples using ()\n",
    "point = (1.3, 4.5)\n",
    "# Tuples can actually be declared without paratheses as well\n",
    "another_tuple = 1,2,3,4,5\n",
    "# They can also hold a variety of data types\n",
    "weird_tuple = (\"first\",2,4.5,[1,2,3])\n",
    "# But you can't change elements after you have created the tuple:\n",
    "weird_tuple[0]=1 # This will cause an error"
   ]
  },
  {
   "cell_type": "markdown",
   "id": "1ccb2d72-5ce6-4232-827c-93f8adf26818",
   "metadata": {},
   "source": [
    "**Slicing** is an operation that can be done on lists and tuples, (and some other data structures like numpy arrays). It is a way to access multiple elements at once. The syntax is `list[start:stop+1(:step)]`. The start is the first index you want, the stop is the last, and the optional step allows you to determine the step (or stride). The `+1` is because it slices are **[_half-open intervals_](https://en.wikipedia.org/wiki/Interval_(mathematics))** where the lower bound is inclusive and the upper bound is not. "
   ]
  },
  {
   "cell_type": "code",
   "execution_count": null,
   "id": "b3ed2629-310f-41bf-8fd6-024eb5c51ac0",
   "metadata": {},
   "outputs": [],
   "source": [
    "index_list = [0,1,2,3,4,5,6]\n",
    "# Access the first 4 elements\n",
    "print(index_list[0:4])"
   ]
  },
  {
   "cell_type": "code",
   "execution_count": null,
   "id": "3d633448-9ddd-4195-8a55-b58a469f6702",
   "metadata": {},
   "outputs": [],
   "source": [
    "# If you don't set the start, it defaults to 0 so the above is equivalent to\n",
    "print(index_list[:4])"
   ]
  },
  {
   "cell_type": "code",
   "execution_count": null,
   "id": "e4d985c2-ab05-4180-b5bd-ed3dba235089",
   "metadata": {},
   "outputs": [],
   "source": [
    "# You can access any range withing the list\n",
    "print(index_list[1:4])"
   ]
  },
  {
   "cell_type": "code",
   "execution_count": null,
   "id": "6d1604c1-1801-4baf-b658-e4dc194938b0",
   "metadata": {},
   "outputs": [],
   "source": [
    "# You can also use negative indexing in slices (remember that the stop will be the first element not included, so this is the elements \n",
    "# starting from index 1, up to, but not including, the last element)\n",
    "print(index_list[1:-1])"
   ]
  },
  {
   "cell_type": "code",
   "execution_count": null,
   "id": "c7987b23-708e-44e0-852b-ec077e36bf66",
   "metadata": {},
   "outputs": [],
   "source": [
    "# If you want to access everything until the end leave the stop empty\n",
    "print(index_list[3:])"
   ]
  },
  {
   "cell_type": "code",
   "execution_count": null,
   "id": "a19601c8-b320-4880-ba5e-f85eaaf1d558",
   "metadata": {},
   "outputs": [],
   "source": [
    "# You can specify step to access every other element\n",
    "print(index_list[::2])"
   ]
  },
  {
   "cell_type": "code",
   "execution_count": null,
   "id": "627d98f6-8ed4-45f9-87af-d54d5ebf7ba7",
   "metadata": {},
   "outputs": [],
   "source": [
    "# Or even to reverse the list\n",
    "print(index_list[::-1])"
   ]
  },
  {
   "cell_type": "markdown",
   "id": "3996eb0a-ecdb-462b-ab0a-302c431be0dc",
   "metadata": {},
   "source": [
    "**Sets** are unordered collections of unique objects. They are created using `{}`, or the `set()` function. They can't be indexed, but you can perform union, intersections, and difference operations. If you want to turn a list into a set, use the set() function. "
   ]
  },
  {
   "cell_type": "code",
   "execution_count": null,
   "id": "be821823-a2e1-4f90-834f-9715892ac1dd",
   "metadata": {},
   "outputs": [],
   "source": [
    "set_a = {1,5,6,7}\n",
    "set_b = {2,3,4,5,6}\n",
    "set_c = {1,2,3,4,5,6,7,8,9,10}\n",
    "# Note that operators can be defined differently depending on what they are operating on\n",
    "print(\"Union: \", set_a | set_b)\n",
    "print(\"Intersection: \", set_a & set_b)\n",
    "print(\"Difference (a-b): \", set_a-set_b)\n",
    "print(\"Difference (b-a): \", set_b-set_a)\n",
    "print(\"Symmetric Difference: \", set_a^set_b)\n",
    "print(\"Is set a a subset of b?: \", set_a<=set_b)\n",
    "print(\"Is set a a subset of c?: \", set_a<=set_c)\n",
    "print(\"Is set a a subset of a?: \", set_a<=set_a)\n",
    "print(\"Is set a a proper subset of a?: \", set_a<set_a)\n",
    "print(\"Set a before: \", set_a)\n",
    "# You can add elements to a set\n",
    "set_a.add(13)\n",
    "# You can also remove elements\n",
    "set_a.discard(6)\n",
    "# You can convert lists into sets\n",
    "mylist = [1,2,2,3,4,4,4,5,6]\n",
    "set_from_list = set(mylist) # This will include only the unique elements of the list\n",
    "print(\"The set created from the list: \", set_from_list)"
   ]
  },
  {
   "cell_type": "markdown",
   "id": "055179d7-69b9-4d33-9efc-7a97c5a58a9e",
   "metadata": {},
   "source": [
    "**Dicts** are a set of key value pairs (also known as a hash table, or hash map). They can be created with `{key:value,...}`. "
   ]
  },
  {
   "cell_type": "code",
   "execution_count": null,
   "id": "915f3ccf-87c1-4c4a-bd60-1a436d1ddf45",
   "metadata": {},
   "outputs": [],
   "source": [
    "# Create a disctionary with {}\n",
    "mydict = {'a':1, 'b':2, 'c':3}\n",
    "scores = {\"Mike\":15, \"Dea\":16, \"Leo\":14}\n",
    "# The keys can be any IMMUTABLE TYPE\n",
    "another_dict = {1:'c', 2:'b', 3:'p'}"
   ]
  },
  {
   "cell_type": "code",
   "execution_count": null,
   "id": "4151b951-54c4-4be4-9754-8c81d938b74e",
   "metadata": {},
   "outputs": [],
   "source": [
    "# Mutable types, such as a list, can't be used as the key\n",
    "error_dict = {[1,2,3]:\"list\", {\"key\":\"value\"}:\"dict\"} # Will raise an error"
   ]
  },
  {
   "cell_type": "code",
   "execution_count": null,
   "id": "71d37d00-b22b-4e87-8752-7b8658c1c96a",
   "metadata": {},
   "outputs": [],
   "source": [
    "# The values can be any type (including lists and functions)\n",
    "yet_another = {1:3.14, \"d\":[1,2,3], \"p\":print}"
   ]
  },
  {
   "cell_type": "code",
   "execution_count": null,
   "id": "972535aa-ebad-4176-8bd4-660a54b77255",
   "metadata": {},
   "outputs": [],
   "source": [
    "# You access elements of a dict using [key]\n",
    "mydict['a']"
   ]
  },
  {
   "cell_type": "code",
   "execution_count": null,
   "id": "75c41471-79bd-47c6-bdaa-4d12abc7899e",
   "metadata": {},
   "outputs": [],
   "source": [
    "# You can change values in a dictionary\n",
    "mydict['a']=15\n",
    "mydict['a']"
   ]
  },
  {
   "cell_type": "code",
   "execution_count": null,
   "id": "9c197b89-253c-4213-bc0d-cd0178dbeda4",
   "metadata": {},
   "outputs": [],
   "source": [
    "# You can also remove keys from a dict\n",
    "mydict.pop('a')\n",
    "mydict"
   ]
  },
  {
   "cell_type": "markdown",
   "id": "262b18ac-f80c-48af-b304-e38db7e6f338",
   "metadata": {},
   "source": [
    "### 4 Conditionals: To be or not to be?"
   ]
  },
  {
   "cell_type": "markdown",
   "id": "01fdc114-7ea8-4682-98b5-55331bb25fc4",
   "metadata": {},
   "source": [
    "Sometimes you want to execute different code depending on some condition, for this python offers the if."
   ]
  },
  {
   "cell_type": "markdown",
   "id": "10ae1515-6d9f-427a-8cc4-eff30647a26c",
   "metadata": {},
   "source": [
    "If statements are used to execute a block of code when a condition is met, the syntax is:\n",
    "```\n",
    "if condition:\n",
    "    code\n",
    "```\n",
    "\n",
    "**Notice how the code above is indented, Python uses significant white space so the indentation is part of the syntax!**"
   ]
  },
  {
   "cell_type": "code",
   "execution_count": null,
   "id": "aa4a6090-2f75-4e00-989a-7ceae45450b1",
   "metadata": {},
   "outputs": [],
   "source": [
    "if True:\n",
    "    print(\"The if worked!\")"
   ]
  },
  {
   "cell_type": "markdown",
   "id": "3e0d2c51-1a4f-4038-a431-cd212c867d60",
   "metadata": {},
   "source": [
    "You can also include another block of code that executes if the condition is false, using `else`."
   ]
  },
  {
   "cell_type": "code",
   "execution_count": null,
   "id": "c013e870-19c5-49cc-a281-6cac838b007c",
   "metadata": {},
   "outputs": [],
   "source": [
    "# Create a totally exhaustive list\n",
    "programming_languages = [\"Python\", \"Perl\", \"Go\", \"PHP\", \"Java\", \"JavaScript\", \"Rust\", \n",
    "                         \"Lisp\", \"Clojure\", \"Racket\", \"Elixir\",\n",
    "                         \"C\", \"C++\"]\n",
    "# Check if an element is in the list\n",
    "if 'ChickenScratch' in programming_languages:\n",
    "    print(\"ChickenScratch is a programming language\")\n",
    "else:\n",
    "    print(\"ChickenScratch is not a programming language\")"
   ]
  },
  {
   "cell_type": "markdown",
   "id": "b815ebf3-2e73-4c61-a80c-38e0d0b9f5ba",
   "metadata": {},
   "source": [
    "Further, you can include more branches using `elif` (else if). You can have as many `elif` statements as you want. "
   ]
  },
  {
   "cell_type": "code",
   "execution_count": null,
   "id": "d48353ae-13e8-4f1f-a275-94616f305c4b",
   "metadata": {},
   "outputs": [],
   "source": [
    "number = 1_000_000_001\n",
    "if number%2==0:\n",
    "    print(\"Number is a multiple of 2\")\n",
    "elif number%3==0:\n",
    "    print(\"Number is divisible by 3\")\n",
    "elif number%4==0:\n",
    "    print(\"Number is divisible by 4\")\n",
    "elif number%5==0:\n",
    "    print(\"Number is divisible by 5\")\n",
    "elif number%6==0:\n",
    "    print(\"Number is divisible by 6\")\n",
    "elif number%7==0:\n",
    "    print(\"Number is divisible by 7\")\n",
    "elif number%8==0:\n",
    "    print(\"Number is divisible by 8\")\n",
    "elif number%9==0:\n",
    "    print(\"Number is divisible by 9\")\n",
    "else:\n",
    "    print(\"Number is not divisible by 2,3,4,5,6,7,8 or 9\")"
   ]
  },
  {
   "cell_type": "markdown",
   "id": "b5d2259c-85c4-4ec5-9c85-332a68fb8d2c",
   "metadata": {},
   "source": [
    "You can use `and`, `or`, and `not` in conditions for more complicated logic. "
   ]
  },
  {
   "cell_type": "code",
   "execution_count": null,
   "id": "e2d28a04-e3eb-4dcb-994e-dd24ccac53fa",
   "metadata": {},
   "outputs": [],
   "source": [
    "number = 11\n",
    "if number<=10 and number >=5:\n",
    "    print(\"Number is between 5 and 10\")\n",
    "elif number <5 or number >100:\n",
    "    print(\"Number is less than 5 or greater than 100\")\n",
    "elif not number <50:\n",
    "    print(\"Number is not less than 50\")\n",
    "else:\n",
    "    pass"
   ]
  },
  {
   "cell_type": "markdown",
   "id": "017badde-47cd-42da-9b3e-93c44b63d7c8",
   "metadata": {},
   "source": [
    "As shown in the code above, you can use pass to do nothing on a certain branch. This is mainly useful to make sure you have considered all the cases, or for scaffolding something you want to implement later. "
   ]
  },
  {
   "cell_type": "markdown",
   "id": "33572cdf-0e26-4e88-be68-5426e69339c3",
   "metadata": {},
   "source": [
    "### 5 Loopy Python: For and While"
   ]
  },
  {
   "cell_type": "markdown",
   "id": "c4ddc6d2-6971-4523-83c3-f56603bab1ad",
   "metadata": {},
   "source": [
    "#### For Loops\n",
    "`for` is allows you to repeat code without having to type it over and over again  \n",
    "The syntax is \n",
    "```\n",
    "for items in list:\n",
    "    do stuff\n",
    "```"
   ]
  },
  {
   "cell_type": "code",
   "execution_count": null,
   "id": "d0dee1ad-4193-4a37-ba92-086d7b572b00",
   "metadata": {},
   "outputs": [],
   "source": [
    "primes = [2,3,5,7,11,13,17]\n",
    "for number in primes:\n",
    "    print(number, \" is prime\")"
   ]
  },
  {
   "cell_type": "code",
   "execution_count": null,
   "id": "765ad6ec-5ca3-4938-b876-0ef089988a4e",
   "metadata": {},
   "outputs": [],
   "source": [
    "for language in programming_languages:\n",
    "    if language == \"Python\":\n",
    "        print(\"Python is great!\")\n",
    "    else:\n",
    "        print(language, \" is okay I guess\")\n",
    "language"
   ]
  },
  {
   "cell_type": "markdown",
   "id": "368d1495-3413-442b-947f-3a794fad4c28",
   "metadata": {},
   "source": [
    "Note that after iteration has finished, the variable remains defined and contains the last value of the list that was iterated over. "
   ]
  },
  {
   "cell_type": "markdown",
   "id": "2c24a3da-8973-43fe-b21c-d2a038cbdaf3",
   "metadata": {},
   "source": [
    "If you want to iterate over a certain set of numbers, you can combine `for` with the `range()` function. "
   ]
  },
  {
   "cell_type": "code",
   "execution_count": null,
   "id": "49612d39-c2d0-4a6d-9904-4915c4788b15",
   "metadata": {},
   "outputs": [],
   "source": [
    "for i in range(10):\n",
    "    print(i)"
   ]
  },
  {
   "cell_type": "code",
   "execution_count": null,
   "id": "4ef6931e-793e-40d9-ac5b-502ad62437d3",
   "metadata": {},
   "outputs": [],
   "source": [
    "# Like slicing, range also has arguments for stop, and step\n",
    "for i in range(1,15,2):\n",
    "    print(i, \" is an odd number\")"
   ]
  },
  {
   "cell_type": "code",
   "execution_count": null,
   "id": "c197f345-0101-423f-8fb5-da14428bcf48",
   "metadata": {},
   "outputs": [],
   "source": [
    "# You can also iterate over tuples\n",
    "for i in (2,3,5,7):\n",
    "    print(i, \"is prime\")"
   ]
  },
  {
   "cell_type": "code",
   "execution_count": null,
   "id": "d13a1cf9-4fc5-4173-841f-ce1d4d01f6e4",
   "metadata": {},
   "outputs": [],
   "source": [
    "south_america_countries = {\n",
    "    \"Argentina\":\"Buenos Aires\",\n",
    "    \"Bolivia\":[\"La Paz\", \"Sucre\"],\n",
    "    \"Brazil\":\"Brasilia\",\n",
    "    \"Chile\":\"Santiago\",\n",
    "    \"Colombia\":\"Bogotá\",\n",
    "    \"Ecuador\":\"Quito\",\n",
    "    \"France (French Guiana)\":\"Cayenne\",\n",
    "    \"Guyana\":\"Georgetown\",\n",
    "    \"Paraguay\":\"Asunción\",\n",
    "    \"Peru\":\"Lima\",\n",
    "    \"Suriname\":\"Paramaribo\",\n",
    "    \"Uruguay\":\"Montevideo\",\n",
    "    \"Venezuela\":\"Caracas\"\n",
    "}\n",
    "# When iterating through a dictionary, it will be by key\n",
    "for country in south_america_countries:\n",
    "    print(country)"
   ]
  },
  {
   "cell_type": "code",
   "execution_count": null,
   "id": "66c39999-5d73-4170-a2f6-ec74f7dcdf4b",
   "metadata": {},
   "outputs": [],
   "source": [
    "# If you also want the value, use .items()|\n",
    "for country, capital in south_america_countries.items():\n",
    "    print(\"The capital of \", country, \" is \", capital)"
   ]
  },
  {
   "cell_type": "code",
   "execution_count": null,
   "id": "df37d72c-7662-44e2-a928-d13d145b4ce7",
   "metadata": {},
   "outputs": [],
   "source": [
    "# You can also iterate through sets, though the order is not garunteed\n",
    "for val in {5,4,3,2,1}:\n",
    "    print(val)"
   ]
  },
  {
   "cell_type": "markdown",
   "id": "c909a06d-b69b-4b25-b47f-b87c9fa6880c",
   "metadata": {},
   "source": [
    "#### While Loop\n",
    "If you want to keep doing something as long as a condition is True, then you want a while loop."
   ]
  },
  {
   "cell_type": "code",
   "execution_count": null,
   "id": "7e108c99-ef5b-4de2-bcfd-580f16abd3b7",
   "metadata": {},
   "outputs": [],
   "source": [
    "# You can iterate over a list (though for loop is better for this)\n",
    "index = 0\n",
    "while index < len(primes):\n",
    "    print(primes[index])\n",
    "    index+=1"
   ]
  },
  {
   "cell_type": "code",
   "execution_count": null,
   "id": "a2792a25-8739-4bcc-8a28-8d3cb6e5ad7c",
   "metadata": {},
   "outputs": [],
   "source": [
    "# You could also count down from a number\n",
    "n = 15\n",
    "while n>0:\n",
    "    print(n)\n",
    "    n-=1"
   ]
  },
  {
   "cell_type": "code",
   "execution_count": null,
   "id": "7f47f440-ec61-4be5-99c2-adb279d2704d",
   "metadata": {},
   "outputs": [],
   "source": [
    "# Or even implement euclids algorithm for finding the greatest common divisor\n",
    "a=54\n",
    "b=24\n",
    "while b!=0:\n",
    "    t=b\n",
    "    b=a%b\n",
    "    a=t\n",
    "print(\"The greatest common divisor of a and b is: \",a)"
   ]
  },
  {
   "cell_type": "markdown",
   "id": "5eaf716f-1369-4fa6-8124-fc11494abaf1",
   "metadata": {},
   "source": [
    "#### Continue and Break"
   ]
  },
  {
   "cell_type": "markdown",
   "id": "2f1fdf44-f1f7-423c-bb0d-fefd75536543",
   "metadata": {},
   "source": [
    "**break** can be used to stop iteration  \n",
    "**continue** can be used to skip a single iteration"
   ]
  },
  {
   "cell_type": "code",
   "execution_count": null,
   "id": "5e0e951a-8cff-478a-8494-aa758279c7e9",
   "metadata": {},
   "outputs": [],
   "source": [
    "# Use break to stop iteration early\n",
    "for i in range(10):\n",
    "    if i==6:\n",
    "        break\n",
    "    print(i)"
   ]
  },
  {
   "cell_type": "code",
   "execution_count": null,
   "id": "a3642926-e477-4041-a77b-20b1e406ab93",
   "metadata": {},
   "outputs": [],
   "source": [
    "# Use continue to skip a single iteration\n",
    "for i in range(10):\n",
    "    if i==6:\n",
    "        continue\n",
    "    print(i)"
   ]
  },
  {
   "cell_type": "code",
   "execution_count": null,
   "id": "82cc7584-911c-49e1-a84e-bd2b67c41560",
   "metadata": {},
   "outputs": [],
   "source": [
    "# You can also test for if a break occured with an else statement\n",
    "# Try changing the conditional to get the loop to not break\n",
    "for i in range(10):\n",
    "    if i==6:\n",
    "        break\n",
    "    print(i)\n",
    "else:\n",
    "    print(\"This only prints if the loop did NOT break\")"
   ]
  },
  {
   "cell_type": "markdown",
   "id": "a81e6acc-ed3b-4114-9320-d7f6e15db200",
   "metadata": {},
   "source": [
    "#### Itertools"
   ]
  },
  {
   "cell_type": "markdown",
   "id": "db6182bd-45b6-4287-bde6-290751485c60",
   "metadata": {},
   "source": [
    "Python has a module that can help with iterating over objects in a variety of different ways called [itertools](https://docs.python.org/3/library/itertools.html). For example, if you want to get all the combinations of elements from a list, you can use the combinations function from this module. "
   ]
  },
  {
   "cell_type": "code",
   "execution_count": null,
   "id": "62c589b1-2923-4362-a0d9-a0e75ea026f7",
   "metadata": {},
   "outputs": [],
   "source": [
    "import itertools\n",
    "# Print all the combinations of 3\n",
    "for i in itertools.combinations([1,2,3,4,5,6], 3):\n",
    "    print(i)"
   ]
  },
  {
   "cell_type": "markdown",
   "id": "758b033e-16a9-405d-915f-9d84c1662dbc",
   "metadata": {},
   "source": [
    "### 6 Function function what's your function? (Functions in python)"
   ]
  },
  {
   "cell_type": "markdown",
   "id": "3085fe13-9a14-43fa-920a-5e2835a20bbc",
   "metadata": {},
   "source": [
    "Like loops, functions allow you to repeat yourself less when coding. Functions allow you to reuse code for different values, instead of having to rewrite it over an over again. \n",
    "You can define a function like this:\n",
    "```\n",
    "def function_name(parameters):\n",
    "    \"\"\"\n",
    "    Optional Docstring\n",
    "    \"\"\"\n",
    "    code\n",
    "    return [variable]\n",
    "```\n",
    "\n",
    "Here is a simple example that just prints the string it is given\n",
    "```\n",
    "def print_string(string):\n",
    "    \"\"\"\n",
    "    Prints out the string passed as a parameter.\n",
    "    \"\"\"\n",
    "    print(str)\n",
    "    return\n",
    "```\n",
    "(note: return is optional if you are returning nothing)  \n",
    "\n",
    "To call the function, use:\n",
    "```\n",
    "print_string(\"Braden is awesome\")\n",
    "```"
   ]
  },
  {
   "cell_type": "code",
   "execution_count": null,
   "id": "ffd3454d-8300-409f-ba80-0ea89aa9c162",
   "metadata": {},
   "outputs": [],
   "source": [
    "def fancy_print(input):\n",
    "    \"\"\"\n",
    "    Function to print a string...but fancy.\n",
    "    \"\"\"\n",
    "    for i in range(len(input)):\n",
    "        print(\"*\", end=\"\")\n",
    "    print(\"\\n\")\n",
    "    print(input)\n",
    "    for i in range(len(input)):\n",
    "        print(\"*\", end=\"\")\n",
    "    print(\"\\n\")\n",
    "fancy_print(\"Data Science is cool\")"
   ]
  },
  {
   "cell_type": "markdown",
   "id": "851e8c47-9bfb-442e-a974-0bd947ef12ae",
   "metadata": {},
   "source": [
    "If you provide the wrong number of arguments, "
   ]
  },
  {
   "cell_type": "code",
   "execution_count": null,
   "id": "fd7321f9-c5c3-44df-a214-8c95dabc4b5e",
   "metadata": {},
   "outputs": [],
   "source": [
    "fancy_print()"
   ]
  },
  {
   "cell_type": "markdown",
   "id": "f1db0511-cc46-4c1b-a830-9f17cd54b380",
   "metadata": {},
   "source": [
    "or call a function before it is defined"
   ]
  },
  {
   "cell_type": "code",
   "execution_count": null,
   "id": "8213f4c3-e8da-479d-8e05-407444699412",
   "metadata": {},
   "outputs": [],
   "source": [
    "divide_by_3(166)\n",
    "\n",
    "def divide_by_3(n):\n",
    "    return n/3"
   ]
  },
  {
   "cell_type": "markdown",
   "id": "0270095a-0c92-4eb9-a357-a3190be4fc7b",
   "metadata": {},
   "source": [
    "You will get an error"
   ]
  },
  {
   "cell_type": "markdown",
   "id": "0a9f3f52-a16f-40be-80af-7a9ab38c0935",
   "metadata": {},
   "source": [
    "#### Function Parameters\n",
    "Also known as arguments, these are values passed to the function. \n",
    "\n",
    "Parameters have different types: \n",
    "| type | behavior |\n",
    "|------|----------|\n",
    "| required | positional, must be present or error, e.g. `my_func(first_name, last_name)` |\n",
    "| keyword | position independent, e.g. `my_func(first_name, last_name)` can be called `my_func(first_name='Dave', last_name='Beck')` or `my_func(last_name='Beck', first_name='Dave')` |\n",
    "| default | keyword params that default to a value if not provided |"
   ]
  },
  {
   "cell_type": "code",
   "execution_count": null,
   "id": "6ada4ce4-62df-4417-bc55-366f1b164d41",
   "metadata": {},
   "outputs": [],
   "source": [
    "def print_name(first, last=\"the incredible\"):\n",
    "    print(\"Your name is %s %s\" % (first, last)) # c-style string formatting\n",
    "    return None"
   ]
  },
  {
   "cell_type": "code",
   "execution_count": null,
   "id": "26ca8e5f-b0a8-4272-a0be-0ebd872ebf6a",
   "metadata": {},
   "outputs": [],
   "source": [
    "print_name(\"Braden\")\n",
    "print_name(\"Braden\", last=\"Griebel\")"
   ]
  },
  {
   "cell_type": "markdown",
   "id": "ff70886b-7749-4938-8a27-e37b84ad721c",
   "metadata": {},
   "source": [
    "Functions can include any code you can use outside of a function. `for`, `while`, `if`, `elif`, function calls, and even function declarations can all be used in a function. You can even call a function from within itself, which is called recursion. "
   ]
  },
  {
   "cell_type": "markdown",
   "id": "337b3e26-8b88-4737-a83f-1c2f63687809",
   "metadata": {},
   "source": [
    "**Note:** Parameters in Python are all passed by reference, that means if you mutate them within a function it will affect the variable outside of the function. "
   ]
  },
  {
   "cell_type": "code",
   "execution_count": null,
   "id": "05609db7-09ab-4c89-8d40-0ddc9c3ce706",
   "metadata": {},
   "outputs": [],
   "source": [
    "def change_list(my_list):\n",
    "   \"\"\"This changes a passed list into this function\"\"\"\n",
    "   my_list.append('four');\n",
    "   print('list inside the function: ', my_list)\n",
    "   return\n",
    "\n",
    "my_list = [1, 2, 3];\n",
    "print('list before the function: ', my_list)\n",
    "change_list(my_list);\n",
    "print('list after the function: ', my_list)"
   ]
  },
  {
   "cell_type": "markdown",
   "id": "812723fa-b8d7-4b3d-98d6-6e7750917d24",
   "metadata": {},
   "source": [
    "However, if you reassign a parameter within a function, the variable won't be altered, for example:"
   ]
  },
  {
   "cell_type": "code",
   "execution_count": null,
   "id": "ad7df917-7c2b-4c35-976c-2d25d12798e3",
   "metadata": {},
   "outputs": [],
   "source": [
    "def add_3(number):\n",
    "    number = number+3\n",
    "    print(\"Number inside of function: \", number)\n",
    "    return number\n",
    "my_number = 10\n",
    "print(\"Number before function: \", my_number)\n",
    "add_3(number)\n",
    "print(\"Number after function: \", my_number)"
   ]
  },
  {
   "cell_type": "markdown",
   "id": "e5c0ba6c-ca04-4739-b8d1-03d56f0950e5",
   "metadata": {},
   "source": [
    "This is because it actually creates a new locally scoped variable, which is dropped when the function returns. (Don't worry too much about scope for now). "
   ]
  },
  {
   "cell_type": "markdown",
   "id": "adcc42eb-da82-4b8c-8b90-67af419bf8bf",
   "metadata": {},
   "source": [
    "### 7 Practice Problems"
   ]
  },
  {
   "cell_type": "markdown",
   "id": "674ba6c9-3e8c-495d-a473-2547cf571d0c",
   "metadata": {},
   "source": [
    "#### Notebook Navigation"
   ]
  },
  {
   "cell_type": "markdown",
   "id": "d2e1f736-134f-449d-9a1b-1da8118053e6",
   "metadata": {},
   "source": [
    "1. Create a new notebook cell above this one\n",
    "2. Change it to a markdown cell\n",
    "3. Experiment with markdown, make some words bold, some italic. Give the cell a header."
   ]
  },
  {
   "cell_type": "markdown",
   "id": "ea7a468d-ddcd-4aa8-ac6e-9a8dfd67dcc4",
   "metadata": {},
   "source": [
    "#### Math in Python"
   ]
  },
  {
   "cell_type": "markdown",
   "id": "47d8d6b9-da48-42c3-b78b-d4326929cac4",
   "metadata": {},
   "source": [
    "1. What is $4235+3145$?\n",
    "2. What is $4235-3145$?\n",
    "3. What is $4235 \\times 3145$?\n",
    "4. What is $\\frac{4235}{3145}$?\n",
    "5. What is $\\frac{4235 - 3154}{2752 + 5013}$?\n",
    "6. What is $\\frac{-(4315 + 378)}{2(65 - 328)}$?\n",
    "7. What is the remainder when you divide 645 by 21?"
   ]
  },
  {
   "cell_type": "code",
   "execution_count": null,
   "id": "068f6cdb-59e6-427e-9ded-653e1b186325",
   "metadata": {},
   "outputs": [],
   "source": []
  },
  {
   "cell_type": "markdown",
   "id": "a793487d-2cb6-4d4a-89ec-8787e3307a49",
   "metadata": {},
   "source": [
    "#### Variables"
   ]
  },
  {
   "cell_type": "markdown",
   "id": "3d12382f-4e3d-4f16-90ae-1687136f1c4e",
   "metadata": {},
   "source": [
    "1. What type is the value 10?\n",
    "2. What type is the value 1.618?\n",
    "3. What type is \"Hello World!\"?\n",
    "4. Create a list of your 5 favorite places\n",
    "5. Print the last value of the list\n",
    "6. Print the first value of the list\n",
    "7. Print the 2nd through the 4th value using slices\n",
    "8. Print the list in reverse order"
   ]
  },
  {
   "cell_type": "code",
   "execution_count": null,
   "id": "9b5d23f3-82c8-4925-a2df-7521c498cd87",
   "metadata": {},
   "outputs": [],
   "source": []
  },
  {
   "cell_type": "markdown",
   "id": "cb78dd3e-a7e9-4325-8c66-bc79733e4b5c",
   "metadata": {},
   "source": [
    "#### Conditionals\n",
    "1. Choose a random number between 1 and 10 and assign it to the variable `secret` (if you want a challenge, use the [random module](https://docs.python.org/3/library/random.html) to generate this for you)\n",
    "2. Assign another number between 1 and 10 to the variable `guess`\n",
    "3. Write a conditional, using `if`, `elif`, and `else` to print 'too low' if `guess` is less than `secret`, 'too high' if `guess` is greater than `secret`, and 'perfect' if `guess` is equal to `secret`\n",
    "4. Try using [], {}, (), '', 0, and 0.0 as the conditions in an if statement"
   ]
  },
  {
   "cell_type": "code",
   "execution_count": null,
   "id": "611070c5-c280-43ce-8ea7-d3b0c180b630",
   "metadata": {},
   "outputs": [],
   "source": []
  },
  {
   "cell_type": "markdown",
   "id": "17003549-522d-444a-b771-42d5f9d01005",
   "metadata": {},
   "source": [
    "#### Loops\n",
    "1. Use a for loop to print the square of every number between 1 and 15\n",
    "2. Use a for loop (and optionally if statements) to print all the numbers between 1 and 100 divisible by 17\n",
    "3. Create a list of 10 random numbers, use a for loop to calculate the mean of this list"
   ]
  },
  {
   "cell_type": "code",
   "execution_count": null,
   "id": "3a44ef01-de9e-4a39-a998-a3e577a9f8ec",
   "metadata": {},
   "outputs": [],
   "source": []
  },
  {
   "cell_type": "markdown",
   "id": "de133834-67be-4072-9047-9f7a320eb072",
   "metadata": {},
   "source": [
    "#### Functions"
   ]
  },
  {
   "cell_type": "markdown",
   "id": "cda5a559-ba88-4461-bf66-c7685b14f091",
   "metadata": {},
   "source": [
    "1. Write a function which calculates the mean of a list provided as an argument\n",
    "2. Write a function which takes a list, and a number as input, and returns a list with the number appended\n",
    "3. Write a function which takes a string s, and an integer n as input, then prints the string s n times\n",
    "4. Write a function which takes a list as an argument, and prints all the unique elements (hint: set)\n",
    "5. Write a function which takes a string as an argument and checks if it's a palindrome (hint: string can be sliced like lists)"
   ]
  },
  {
   "cell_type": "code",
   "execution_count": null,
   "id": "651113b8-517d-49f2-a028-4745c3364d2f",
   "metadata": {},
   "outputs": [],
   "source": []
  },
  {
   "cell_type": "markdown",
   "id": "b7684162-42ed-4fcf-986f-46631e01c585",
   "metadata": {},
   "source": [
    "#### Even or Odd"
   ]
  },
  {
   "cell_type": "markdown",
   "id": "100988b6-f8d4-4d09-8e2d-689201cebd0e",
   "metadata": {},
   "source": [
    "Write a function which takes a number as an argument, and returns \"even\" if the number is even, or \"odd\" if the number is odd.\n",
    "\n",
    "Hint: The % operator is your friend"
   ]
  },
  {
   "cell_type": "code",
   "execution_count": null,
   "id": "bbf0b667-83b4-4b6e-843d-79a4daecddb2",
   "metadata": {},
   "outputs": [],
   "source": []
  },
  {
   "cell_type": "markdown",
   "id": "9eb4f0f3-b06d-4fac-b5de-02c0cb980acb",
   "metadata": {},
   "source": [
    "#### FizzBuzz"
   ]
  },
  {
   "cell_type": "markdown",
   "id": "17cd2434-4757-402e-ba25-45138618bfdd",
   "metadata": {},
   "source": [
    "Fizzbuzz is a game where people take turns counting up from 1, replacing every number divisible by 3 with Fizz, and every number divisible by 5 with Buzz. Any number divisible by both 3 and 5 is replaced with FizzBuzz. For example, 1,2,Fizz, 4, Buzz, 6, 7, 8, Fizz, Buzz, 11, Fizz, 13, 14, FizzBuzz.  \n",
    "\n",
    "Write a function which takes a number as an argument, and prints this sequence up to that number, \n",
    "\n",
    "for example if given 7, the function will print  \n",
    "1  \n",
    "2  \n",
    "Fizz  \n",
    "4  \n",
    "Buzz  \n",
    "Fizz  \n",
    "\n",
    "Hint: Start with a for loop that just prints the numbers"
   ]
  },
  {
   "cell_type": "code",
   "execution_count": null,
   "id": "7299dcf7-1742-40a9-afcd-785e4da2dfa3",
   "metadata": {},
   "outputs": [],
   "source": []
  },
  {
   "cell_type": "markdown",
   "id": "c3ccccb1-9c2c-4d3a-b820-5fa78f668b48",
   "metadata": {},
   "source": [
    "#### Fibonacci"
   ]
  },
  {
   "cell_type": "markdown",
   "id": "6cb1d76c-fe99-4a81-9808-fe3acc0c2872",
   "metadata": {},
   "source": [
    "The Fibonacci sequence is a sequence starting with 1,1, where each subsequent number is the sum of the two that preceed it, i.e. 1,1,2,3,5,8,...  \n",
    "Write a function to print the first n Fibonacci numbers.\n",
    "\n",
    "Hint: you will need to store the previous two numbers as variables, and update them as you go along"
   ]
  },
  {
   "cell_type": "code",
   "execution_count": null,
   "id": "704061f1-b0eb-4f45-b5f7-e99268a153cd",
   "metadata": {},
   "outputs": [],
   "source": []
  },
  {
   "cell_type": "markdown",
   "id": "23d1fc95-3693-4f2c-bbc8-c21b61769e06",
   "metadata": {},
   "source": [
    "#### Primes"
   ]
  },
  {
   "cell_type": "markdown",
   "id": "e8c11a0d-4edc-46ec-9912-bc1930578315",
   "metadata": {},
   "source": [
    "Write a function to determine if a number given as an argument is prime or not. The function should return True if the number is prime, and False otherwise.  \n",
    "\n",
    "Hint: Check if the number is divisible by any numbers less than sqrt(number). "
   ]
  },
  {
   "cell_type": "code",
   "execution_count": null,
   "id": "dad35056-f0d2-4d5a-9cbb-d7ad9a7bb600",
   "metadata": {},
   "outputs": [],
   "source": []
  },
  {
   "cell_type": "markdown",
   "id": "3e3e7fa1-44e9-4abe-8597-972aaa268706",
   "metadata": {},
   "source": [
    "#### Factorials"
   ]
  },
  {
   "cell_type": "markdown",
   "id": "7ad1ed07-1614-430c-9be2-2d653ee15469",
   "metadata": {},
   "source": [
    "Write a function for calculating a factorial. \n",
    "Recall that a factorial is defined as n!=n*(n-1)\\*...\\*3\\*2\\*1\n",
    "\n",
    "Hint: It might be easier going up from 1. If you want a challenge try to use recursion. "
   ]
  },
  {
   "cell_type": "code",
   "execution_count": null,
   "id": "41652b6d-938f-4810-acbe-b4abd2443feb",
   "metadata": {},
   "outputs": [],
   "source": []
  },
  {
   "cell_type": "markdown",
   "id": "8e9a1549-4fd1-4921-94c4-893e51d79d77",
   "metadata": {},
   "source": [
    "### 8 Python Gotchas\n",
    "Some things that you should be careful of when working in python"
   ]
  },
  {
   "cell_type": "markdown",
   "id": "3f111b17-7f1f-40ab-8b7b-9ec5b8400825",
   "metadata": {},
   "source": [
    "In python, when you declare that another variable is equal to a list, both those variables actually point at the same memory. This means that if you update the list using either variable, both will change. For example:"
   ]
  },
  {
   "cell_type": "code",
   "execution_count": null,
   "id": "c974cda1-6ec3-4e3b-922e-7c2969f9c16c",
   "metadata": {},
   "outputs": [],
   "source": [
    "# Declare a list\n",
    "a = [1,2,3,4]\n",
    "# Set b equal to a\n",
    "b=a\n",
    "# Update b\n",
    "b[2]=100\n",
    "# a is also changed\n",
    "print(a)"
   ]
  },
  {
   "cell_type": "markdown",
   "id": "40435756-9596-4131-b5ae-2984ada18937",
   "metadata": {},
   "source": [
    "If you want a copy of the list, you can use the .copy() method"
   ]
  },
  {
   "cell_type": "code",
   "execution_count": null,
   "id": "c811b756-33b4-475c-8f96-3555b935fee0",
   "metadata": {},
   "outputs": [],
   "source": [
    "# Declare a list\n",
    "a = [1,2,3,4]\n",
    "# Set b equal to a copy of a\n",
    "b=a.copy()\n",
    "# Update b\n",
    "b[2]=100\n",
    "# a is now unchanged\n",
    "print(a)"
   ]
  }
 ],
 "metadata": {
  "kernelspec": {
   "display_name": "Python 3 (ipykernel)",
   "language": "python",
   "name": "python3"
  },
  "language_info": {
   "codemirror_mode": {
    "name": "ipython",
    "version": 3
   },
   "file_extension": ".py",
   "mimetype": "text/x-python",
   "name": "python",
   "nbconvert_exporter": "python",
   "pygments_lexer": "ipython3",
   "version": "3.11.5"
  }
 },
 "nbformat": 4,
 "nbformat_minor": 5
}
