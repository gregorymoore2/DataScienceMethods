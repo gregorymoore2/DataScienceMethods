{
 "cells": [
  {
   "cell_type": "code",
   "execution_count": null,
   "id": "4372b331-271a-4e21-a8d1-6335b4989976",
   "metadata": {
    "tags": []
   },
   "outputs": [],
   "source": [
    "# importing all the packages\n",
    "import numpy as np\n",
    "import pandas as pd\n",
    "import matplotlib.pyplot as plt \n"
   ]
  },
  {
   "cell_type": "markdown",
   "id": "b34c2b32-ba8f-4121-8984-df21b97a8389",
   "metadata": {},
   "source": [
    "### Classes "
   ]
  },
  {
   "cell_type": "code",
   "execution_count": null,
   "id": "5930858e-eb65-4025-bd95-1a1d10137c3c",
   "metadata": {
    "tags": []
   },
   "outputs": [],
   "source": [
    "class Dog:\n",
    "\n",
    "    tricks = []             # mistaken use of a class variable\n",
    "\n",
    "    def __init__(self, name):\n",
    "        self.name = name\n",
    "        #self.tricks =[]  # creates an empty list for each dog\n",
    "\n",
    "    def add_trick(self, trick):\n",
    "        self.tricks.append(trick)\n",
    "\n",
    "d = Dog('Fido')\n",
    "e = Dog('Buddy')\n",
    "d.add_trick('roll over')\n",
    "e.add_trick('play dead')\n",
    "d.tricks                # unexpectedly shared by all dogs\n"
   ]
  },
  {
   "cell_type": "markdown",
   "id": "1e963261-cc5f-4d9b-bb07-cb3a8c6399e6",
   "metadata": {},
   "source": [
    "### Pandas "
   ]
  },
  {
   "cell_type": "code",
   "execution_count": null,
   "id": "4a960295-f6fb-49a8-bdf7-c4bd2a2f037c",
   "metadata": {},
   "outputs": [],
   "source": [
    "# making a dataframe\n",
    "data = {'color':['red','yellow','blue','orange'],'number':[100,500,400,300],'diameter':[1.0,2.5,1.5,3.0]}\n",
    "frame = pd.DataFrame(data)"
   ]
  },
  {
   "cell_type": "code",
   "execution_count": null,
   "id": "503c1578-2a02-4870-a635-de65b9be6e7a",
   "metadata": {},
   "outputs": [],
   "source": [
    "# visualizing the frame\n",
    "frame\n"
   ]
  },
  {
   "cell_type": "code",
   "execution_count": null,
   "id": "dca92f07-4524-44bb-8045-5f0496287af1",
   "metadata": {},
   "outputs": [],
   "source": [
    "# missing values \n",
    "frame2 = pd.DataFrame(data, columns = ['color','number','diameter','shape'],\n",
    "                      index = ['one','two','three','four'])\n",
    "frame2"
   ]
  },
  {
   "cell_type": "code",
   "execution_count": null,
   "id": "58a43120-ad82-4d0a-af25-dae4a2027985",
   "metadata": {},
   "outputs": [],
   "source": [
    "#retrieving a row\n",
    "frame2.loc['two']"
   ]
  },
  {
   "cell_type": "code",
   "execution_count": null,
   "id": "b021c220-7e5b-4322-b6f3-8417f01af1ee",
   "metadata": {},
   "outputs": [],
   "source": [
    "# substituting for missing values\n",
    "frame2['shape'] = 'circle'\n",
    "frame2"
   ]
  },
  {
   "cell_type": "code",
   "execution_count": null,
   "id": "6971d006-4f05-444c-a091-3ca6a2c28c1f",
   "metadata": {},
   "outputs": [],
   "source": [
    "# substituting for missing values\n",
    "frame2['shape'] = ['circle','oval','triangle','square']\n",
    "frame2"
   ]
  },
  {
   "cell_type": "code",
   "execution_count": null,
   "id": "e9d02794-1979-427d-886a-e562aa0aec2c",
   "metadata": {},
   "outputs": [],
   "source": [
    "# you can also use a series to insert specific missing values at given locations \n",
    "val = pd.Series(['circle','oval','triangle'],index=['two','three','four'])\n",
    "frame2['shape'] = val\n",
    "frame2"
   ]
  },
  {
   "cell_type": "markdown",
   "id": "0cff0d53-1f1f-46f2-a15d-f8321e3a3738",
   "metadata": {},
   "source": [
    "### Loading data with pandas"
   ]
  },
  {
   "cell_type": "markdown",
   "id": "a3bdd065-7b50-4791-a1bf-7627b7ac3e3d",
   "metadata": {},
   "source": [
    "Now we can use the ``read_csv`` command to read the comma-separated-value data.  This command is pretty sophisticated.  It can read data via a URL (Uniform Resource Locator, see Lecture 2).  Not only that, it can load data from a `.zip` file by on the fly decompressing it and opening the first `.csv` it finds.  You can open different `.csv` files in the `.zip` file with additional arguments.  See the [docs](https://pandas.pydata.org/docs/reference/api/pandas.read_csv.html) for more information."
   ]
  },
  {
   "cell_type": "code",
   "execution_count": null,
   "id": "191912de-f6ea-4485-aff6-a9282f09d6c6",
   "metadata": {
    "tags": []
   },
   "outputs": [],
   "source": [
    "# reading a csv file using pandas\n",
    "data = pd.read_csv('http://faculty.washington.edu/dacb/HCEPDB_moldata.zip')"
   ]
  },
  {
   "cell_type": "code",
   "execution_count": null,
   "id": "2d0822fb-f07a-4f8e-b4f3-6ef370aaa045",
   "metadata": {
    "tags": []
   },
   "outputs": [],
   "source": [
    "data.head()"
   ]
  },
  {
   "cell_type": "markdown",
   "id": "f1df7dfd-b107-426a-b893-3bdd5395c446",
   "metadata": {},
   "source": [
    "The ``shape`` attribute shows us the number of elements:\n",
    "\n",
    "```\n",
    "data.shape\n",
    "```"
   ]
  },
  {
   "cell_type": "code",
   "execution_count": null,
   "id": "3858364b-7b73-42f0-85d7-d4679b52ea8c",
   "metadata": {
    "tags": []
   },
   "outputs": [],
   "source": [
    "data.shape"
   ]
  },
  {
   "cell_type": "markdown",
   "id": "07b3d29a-a086-4de8-8d00-d0f3865517ad",
   "metadata": {},
   "source": [
    "The ``columns`` attribute gives us the column names\n",
    "\n",
    "```\n",
    "data.columns\n",
    "```"
   ]
  },
  {
   "cell_type": "code",
   "execution_count": null,
   "id": "5d5b1836-0302-431b-b89b-4b1be38a987c",
   "metadata": {
    "tags": []
   },
   "outputs": [],
   "source": [
    "data.columns"
   ]
  },
  {
   "cell_type": "markdown",
   "id": "da953a9b-6883-459c-b940-8f21c48d0116",
   "metadata": {},
   "source": [
    "#### Index Manipulations"
   ]
  },
  {
   "cell_type": "markdown",
   "id": "bd5d7b7b-3b07-4daf-bd9b-3bb2c94cc2d8",
   "metadata": {},
   "source": [
    "The ``index`` attribute gives us the index names\n",
    "\n",
    "```\n",
    "data.index\n",
    "```\n",
    "Let's make our ``id`` column the ``index``\n",
    "\n",
    "```\n",
    "data.set_index('id', inplace=True)\n",
    "```\n",
    "\n",
    "*Note:* the use of `inplace=True`.  This cases the original data frame to be modified *in place* instead of creating a new data frame and returning the result to be stored in a new variable."
   ]
  },
  {
   "cell_type": "code",
   "execution_count": null,
   "id": "d23aff40-4940-439f-9722-8e980413f6e3",
   "metadata": {
    "tags": []
   },
   "outputs": [],
   "source": [
    "data.index"
   ]
  },
  {
   "cell_type": "code",
   "execution_count": null,
   "id": "5ae69657-dd09-4610-ab34-bd2a2fd3131e",
   "metadata": {
    "tags": []
   },
   "outputs": [],
   "source": [
    "data.set_index('id', inplace=True)"
   ]
  },
  {
   "cell_type": "code",
   "execution_count": null,
   "id": "6ac3139a-6ef6-48ab-b7c3-00eae2a0ffdc",
   "metadata": {
    "tags": []
   },
   "outputs": [],
   "source": [
    "data.index"
   ]
  },
  {
   "cell_type": "markdown",
   "id": "5fc5548a-d0ab-4ddc-bb63-394e2a258b9f",
   "metadata": {},
   "source": [
    "The ``dtypes`` attribute gives the data types of each column:"
   ]
  },
  {
   "cell_type": "code",
   "execution_count": null,
   "id": "e7bb4af1-dc73-4dbb-b50b-7e56e38aebc4",
   "metadata": {
    "tags": []
   },
   "outputs": [],
   "source": [
    "data.dtypes"
   ]
  },
  {
   "cell_type": "code",
   "execution_count": null,
   "id": "ff30cd0d-6d39-4902-9583-8c3ac16ac644",
   "metadata": {},
   "outputs": [],
   "source": []
  },
  {
   "cell_type": "markdown",
   "id": "3699649f-29e9-45ad-910d-2fb41d3a1447",
   "metadata": {},
   "source": [
    "### Manipulating data with Pandas "
   ]
  },
  {
   "cell_type": "code",
   "execution_count": null,
   "id": "7817fc7f-6c15-4e7c-b022-1589cf75e08a",
   "metadata": {
    "tags": []
   },
   "outputs": [],
   "source": [
    "data['mass_ratio_H2O'] = data['mass'] / 18.01528"
   ]
  },
  {
   "cell_type": "code",
   "execution_count": null,
   "id": "98c32eb9-a485-416d-a09e-261520f14c3c",
   "metadata": {
    "tags": []
   },
   "outputs": [],
   "source": [
    "data.head()"
   ]
  },
  {
   "cell_type": "markdown",
   "id": "503721d1-063a-4125-9644-b8e70a3132ce",
   "metadata": {},
   "source": [
    "#### Data Grouping"
   ]
  },
  {
   "cell_type": "markdown",
   "id": "1fd56b8c-bbb6-4ea8-8500-1656864c17e5",
   "metadata": {},
   "source": [
    "* In preparation for grouping the data, let's bin the molecules by their molecular mass. For that, we'll use ``pd.cut``.  Documentation of [cut](https://pandas.pydata.org/docs/reference/api/pandas.cut.html).  Cut is used when you want to bin numeric values into discrete intervals.  This is useful for discretizing continuous data and for making histograms.\n",
    "\n",
    "```\n",
    "data['mass_group'] = pd.cut(data['mass'], 10)\n",
    "```"
   ]
  },
  {
   "cell_type": "code",
   "execution_count": null,
   "id": "f5c0240a-9ddb-4e11-9364-c80050be9d8f",
   "metadata": {},
   "outputs": [],
   "source": []
  },
  {
   "cell_type": "code",
   "execution_count": null,
   "id": "e9edb17f-92e8-400b-96ef-e04776e6fae2",
   "metadata": {
    "tags": []
   },
   "outputs": [],
   "source": [
    "data['mass_group'] = pd.cut(data['mass'], 10)\n",
    "data.head()"
   ]
  },
  {
   "cell_type": "markdown",
   "id": "7c7c8bd8-11e8-46f1-bfb8-d605fb313a33",
   "metadata": {},
   "source": [
    "* The ``pandas.value_counts`` returns statistics on the unique values within each column. We can use it, for example, to break down the molecules by their mass group that we just created:"
   ]
  },
  {
   "cell_type": "code",
   "execution_count": null,
   "id": "e0f4efc7-cd51-47f7-812d-552e26fa3cac",
   "metadata": {
    "tags": []
   },
   "outputs": [],
   "source": [
    "pd.value_counts(data['mass_group'])"
   ]
  },
  {
   "cell_type": "code",
   "execution_count": null,
   "id": "b2a590a4-6df7-4667-81a8-4956c5133255",
   "metadata": {
    "tags": []
   },
   "outputs": [],
   "source": [
    "pd.value_counts(data['mass'])"
   ]
  },
  {
   "cell_type": "code",
   "execution_count": null,
   "id": "5c930fcd-3602-4c5c-ae5e-0fafffb9aa6d",
   "metadata": {
    "tags": []
   },
   "outputs": [],
   "source": [
    "pd.value_counts(data['pce'])"
   ]
  },
  {
   "cell_type": "code",
   "execution_count": null,
   "id": "b1323e45-4cd2-423d-944c-044cd827b190",
   "metadata": {
    "tags": []
   },
   "outputs": [],
   "source": [
    "data.groupby(['mass_group']).count()\n"
   ]
  },
  {
   "cell_type": "code",
   "execution_count": null,
   "id": "2a0c8f63-e501-4784-89bb-156680a7fee0",
   "metadata": {
    "tags": []
   },
   "outputs": [],
   "source": [
    "data.groupby(['mass_group'])['pce'].mean()"
   ]
  },
  {
   "cell_type": "code",
   "execution_count": null,
   "id": "fa757e1b-225d-4652-82fb-a7df16002e94",
   "metadata": {
    "tags": []
   },
   "outputs": [],
   "source": [
    "data.groupby(['mass_group'])['pce'].describe()"
   ]
  },
  {
   "cell_type": "code",
   "execution_count": null,
   "id": "464a0952-40e8-421c-838b-6e3d2ffd2f3e",
   "metadata": {},
   "outputs": [],
   "source": [
    "# reading an excel file using pandas\n",
    "#df_2 = pd.read_excel('./data/Iris_excel.xlsx', index_col=0)"
   ]
  },
  {
   "cell_type": "markdown",
   "id": "3788582c-c306-42c8-b1cb-08c3899ecc77",
   "metadata": {},
   "source": [
    "### Data Visualization"
   ]
  },
  {
   "cell_type": "markdown",
   "id": "31095440-4381-48dd-9b77-8363133c0088",
   "metadata": {
    "tags": []
   },
   "source": [
    "#### Scatter Plots "
   ]
  },
  {
   "cell_type": "code",
   "execution_count": null,
   "id": "24c6e6cb-a96f-4910-b238-81cdebcc2b86",
   "metadata": {
    "tags": []
   },
   "outputs": [],
   "source": [
    "df = data.sample(500, random_state=200)"
   ]
  },
  {
   "cell_type": "code",
   "execution_count": null,
   "id": "77553fb8-8c70-43db-8154-ea8d67f6d6fb",
   "metadata": {
    "tags": []
   },
   "outputs": [],
   "source": [
    "df.shape"
   ]
  },
  {
   "cell_type": "code",
   "execution_count": null,
   "id": "2aed675a-2301-4735-a311-6306fb5f2cee",
   "metadata": {
    "tags": []
   },
   "outputs": [],
   "source": [
    "# plotting with python \n",
    "plt.scatter(df['jsc'], df['voc'])\n",
    "#asthetics\n",
    "plt.xlabel('Jsc')\n",
    "plt.ylabel('VOC')\n",
    "plt.title('VOC vs Jsc')\n",
    "#Show the plot\n",
    "plt.show()\n",
    "\n"
   ]
  },
  {
   "cell_type": "code",
   "execution_count": null,
   "id": "6661c322-226d-436d-a78a-9a3f2e0358fd",
   "metadata": {
    "tags": []
   },
   "outputs": [],
   "source": [
    "#changing the color of the markers\n",
    "plt.scatter(df['jsc'], df['voc'], color='red')\n",
    "plt.xlabel('Jsc')\n",
    "plt.ylabel('VOC')\n",
    "plt.title('VOC vs Jsc')"
   ]
  },
  {
   "cell_type": "code",
   "execution_count": null,
   "id": "3fd2bfba-fc03-4b69-ba43-d4048f253c2c",
   "metadata": {
    "tags": []
   },
   "outputs": [],
   "source": [
    "# changing marker type and size\n",
    "plt.scatter(df['jsc'], df['voc'], color='green', marker='s', s=10)\n",
    "plt.xlabel('Jsc')\n",
    "plt.ylabel('VOC')\n",
    "plt.title('VOC vs Jsc')"
   ]
  },
  {
   "cell_type": "markdown",
   "id": "55013a54-6117-4a3f-9a35-15143957e023",
   "metadata": {},
   "source": [
    "#### Subplots"
   ]
  },
  {
   "cell_type": "code",
   "execution_count": null,
   "id": "070dcf8b-3f03-4cac-a994-08b6bfda653c",
   "metadata": {
    "tags": []
   },
   "outputs": [],
   "source": [
    "# Plotting two types of data points in the same subplot\n",
    "small_mass = df[df['mass'] < 500] # data has mass less than 300\n",
    "large_mass = df[df['mass'] >= 500] # data has mass greater than 300\n",
    "\n",
    "fig, ax = plt.subplots()\n",
    "\n",
    "# plot the different data groups as different colors\n",
    "ax.scatter(small_mass['jsc'], small_mass['voc'], color='green', label='mass < 500')\n",
    "ax.scatter(large_mass['jsc'], large_mass['voc'], color='blue', label='mass >= 500')\n",
    "\n",
    "ax.set_xlabel('Jsc')\n",
    "ax.set_ylabel('VOC')\n",
    "ax.set_title('VOC vs Jsc')\n",
    "plt.legend() # add a legend"
   ]
  },
  {
   "cell_type": "code",
   "execution_count": null,
   "id": "8e2786e3-079e-4b27-8f4c-c7d681a35993",
   "metadata": {
    "tags": []
   },
   "outputs": [],
   "source": [
    "# subplots with 2 plots in two rows\n",
    "fig, axes = plt.subplots(2,1, figsize=(5,10), sharex=True)\n",
    "\n",
    "print(axes) # axes is now an array of axes objects instead of just one\n",
    "\n",
    "# first plot\n",
    "axes[0].scatter(df['jsc'], df['voc'])\n",
    "axes[0].set_xlabel('Jsc')\n",
    "axes[0].set_ylabel('VOC')\n",
    "\n",
    "# second plot\n",
    "axes[1].scatter(df['jsc'], df['mass'])\n",
    "axes[1].set_xlabel('Jsc')\n",
    "axes[1].set_ylabel('Mass')"
   ]
  },
  {
   "cell_type": "code",
   "execution_count": null,
   "id": "66603001-f57a-4b72-9a64-cce39c10a75e",
   "metadata": {},
   "outputs": [],
   "source": []
  }
 ],
 "metadata": {
  "kernelspec": {
   "display_name": "Python 3 (ipykernel)",
   "language": "python",
   "name": "python3"
  },
  "language_info": {
   "codemirror_mode": {
    "name": "ipython",
    "version": 3
   },
   "file_extension": ".py",
   "mimetype": "text/x-python",
   "name": "python",
   "nbconvert_exporter": "python",
   "pygments_lexer": "ipython3",
   "version": "3.10.10"
  }
 },
 "nbformat": 4,
 "nbformat_minor": 5
}
