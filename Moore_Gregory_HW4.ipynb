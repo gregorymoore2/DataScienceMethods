{
 "cells": [
  {
   "cell_type": "markdown",
   "id": "a6b030fa-6dfa-45e2-b685-d8f555d1fc7b",
   "metadata": {},
   "source": [
    "# CHEM E 545 Homework 4 (30 points) "
   ]
  },
  {
   "cell_type": "markdown",
   "id": "edcc1cd8-34a2-4296-9e93-284902e042ff",
   "metadata": {},
   "source": [
    "### Problem 1 "
   ]
  },
  {
   "cell_type": "markdown",
   "id": "365dc1e0-3fdf-4553-8d1c-1e411e2acbcf",
   "metadata": {},
   "source": [
    "Present your midterm project in class (15 points). If presented in class, answer Yes otherwise No"
   ]
  },
  {
   "cell_type": "markdown",
   "id": "ddf3738c-7d6e-4daf-a262-29c58d29faae",
   "metadata": {
    "tags": []
   },
   "source": [
    "Yes!"
   ]
  },
  {
   "cell_type": "markdown",
   "id": "ae9e43de-6c24-4b61-9529-fcc969a8381d",
   "metadata": {},
   "source": [
    "### Problem 2 "
   ]
  },
  {
   "cell_type": "markdown",
   "id": "b69a5db2-4ffb-450d-9c59-d33e867fcba9",
   "metadata": {},
   "source": [
    "(a) Identify errors and review concepts in the HW assignment you scored the least on out of your three submissions. If you scored equally on all, choose any. If you scored perfectly on all assignments so far, you can reflect on a few concepts in any assignment in more depth (10 points)"
   ]
  },
  {
   "cell_type": "markdown",
   "id": "dc1c16dc-357a-4c83-86ce-051f67ece0ed",
   "metadata": {},
   "source": [
    "The homework in which I scored the lowest was Homework 3 with a score of 36/40. The first error I identified was in Question 1. I had the right idea of the equation of the linear regression model, including the concept of the interaction terms. The mistake I made was matching the weight vector values as the coefficients of the model parameters. This is because the first term in the weight vector (50) corresponds to x0, so it is actually the y-intercept. I started with 50 being the coefficient for x1 and so on down the list, and ended with the last term (-10) to be the y-intercept. Consequently, my part b was incorrect, which I will elaborate on later in this assignment. I had a conceptual error in Question 1c about the evidence of an interaction effect. I understand now from looking at the solution that one cannot determine if there is little evidence of an interaction effect just by looking at the coefficient of interaction.\n",
    "\n",
    "Question 2 I got correct by calculating the test statistic and comparing it to the critical value for an alpha of 0.025. \n",
    "\n",
    "In question 3 I got the correct theta_best parameters for y-intercept and coefficient of X when I used the least squares method to calculate them using np.dot and np.linalg.inv. Using the sklearn package LinearRegression() tool I was expecting to get the same predicted line through the data because it utilizes the same \"least squares\" approach that I did manually. My line was slightly different, but upon closer inspection now I realize that that was due to me using random_state = 101, and including a train_test_split rather than training on all of the data. "
   ]
  },
  {
   "cell_type": "markdown",
   "id": "c5778efa-b306-4e15-bf16-cf5a18a4a42b",
   "metadata": {},
   "source": [
    "(b) For each problem in the assignment, whether you recieved full credit on that problem or not, answer the following questions (5 points)"
   ]
  },
  {
   "cell_type": "markdown",
   "id": "4839eb2d-fc0a-48dc-8d74-ff827f8b4630",
   "metadata": {},
   "source": [
    "(1) Did you get the problem completely correct? Only respond with Yes or No"
   ]
  },
  {
   "cell_type": "markdown",
   "id": "24fe978c-b841-4c6b-b424-ef221b3f4d81",
   "metadata": {},
   "source": [
    "Question 1: No\n",
    "\n",
    "Question 2: Yes\n",
    "\n",
    "Question 3: No"
   ]
  },
  {
   "cell_type": "markdown",
   "id": "744725fb-d046-4af1-977c-df2823dc52d7",
   "metadata": {},
   "source": [
    "(2) If you didn't get the problem completely correct, what is the (a) corrected way of thinking, (b) change you’d need to make, and/or (c) error you’d need to fix so that you would get the question correct?"
   ]
  },
  {
   "cell_type": "markdown",
   "id": "7144d149-0322-4bad-ac38-46da0bed734a",
   "metadata": {},
   "source": [
    "Question 1: The first change I would need to make for part a of this question would be to fix my linear regression equation so that x0 (50) is the y-intercept term and the rest of the terms are matched correctly with their corresponding model parameters. For part b, I corrected my way of thinking. I was simply looking at whether or not the coefficient of the x3 term is positive and used that to determine that the salaries of graduates are always higher than the salaries of undergraduates. I failed to take into account the interaction (x5) between experience and degree. If I had done this I would have arrived to the conclusion that we cannot compare the salaries of graduates vs undergraduates without also knowing something about their experience in data science, because of the interaction effect. Likewise for part c I had concluded that a small coefficient means little evidence of interaction without considering the scale of the two terms. \n",
    "\n",
    "Question 2: N/A\n",
    "\n",
    "Question 3: My way of thinking on this problem was correct but there are changes I'd need to make to correct errors I was getting and make my question correct. My sklearn LinearRegression() predicted line was not exactly the same as my manually calculated one (I was expecting them to be the same). This is because I included a train_test_split with an arbitrary random_state = 42 and trained the model on the training data and plotted the testing data, so it is ever-so-slightly different from the manually calculated line due to the nature of train_test_split and whatever 20% of the data happened to be used in the training. Likewise my approach for the gradient descent part of this problem was correct, and my code for updating the theta after each epoch according to the gradient worked as it should have and I got a graph that made sense, where after each subsequent epoch the line got better and better (more accurate representation of the trend). However, all of my epoch regression lines consistently have a slightly steeper slope than all of those in the answer key, again becaus I calculated my y_pred values using X_test, which is a result of the train_test_split I performed earlier in the problem. To fix these mistakes I could take out the train_test_split and simply only use X and y, and get similar results to the answer key."
   ]
  },
  {
   "cell_type": "markdown",
   "id": "f8050e6a-c58f-41e9-8c0d-287bae416cc5",
   "metadata": {},
   "source": [
    "(3) Whether you got the question correct or not, what is the key point of the problem with regards to the course concepts? What can you learn from this problem? Answer in no more than 2-3 sentences"
   ]
  },
  {
   "cell_type": "markdown",
   "id": "317db4a6-e6bb-4102-9ec0-1769ce9b0831",
   "metadata": {},
   "source": [
    "Question 1: The key point of this problem was to understand building linear models and the regression equation as the dot product of the weight vector and the parameter vector. Additionally, to qualitatively understand the coefficients of model parameters and their effect on the reseponse. The ability from a regression model equation to see the important parameters and trends of a model. \n",
    "\n",
    "Question 2: The key point of this problem as it relates to the course was to practice the concepts of statistical significance, as well as alternate and null hypotheses. It was also to have the students think about how to approach a statistical question and coming to a conclusion themselves.\n",
    "\n",
    "Question 3: The point of this problem was to introduce us to the least squares method of determining the best parameters for regression manually so that we know the math behind the sklearn LinearRegression() function. Also in this problem I learned how gradient descent works and how to implement it in code. "
   ]
  }
 ],
 "metadata": {
  "kernelspec": {
   "display_name": "Python 3 (ipykernel)",
   "language": "python",
   "name": "python3"
  },
  "language_info": {
   "codemirror_mode": {
    "name": "ipython",
    "version": 3
   },
   "file_extension": ".py",
   "mimetype": "text/x-python",
   "name": "python",
   "nbconvert_exporter": "python",
   "pygments_lexer": "ipython3",
   "version": "3.10.10"
  }
 },
 "nbformat": 4,
 "nbformat_minor": 5
}
