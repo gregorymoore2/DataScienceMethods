{
 "cells": [
  {
   "cell_type": "markdown",
   "id": "6f6b0b0f-429e-4436-80e7-d7cbd5cb064b",
   "metadata": {
    "tags": []
   },
   "source": [
    "## Imports"
   ]
  },
  {
   "cell_type": "code",
   "execution_count": null,
   "id": "3ac197bb-adc7-49b9-9f63-0e6f583f0e00",
   "metadata": {
    "tags": []
   },
   "outputs": [],
   "source": [
    "# Some imports\n",
    "import matplotlib.pyplot as plt\n",
    "import numpy as np\n",
    "import pandas as pd\n",
    "import seaborn as sns"
   ]
  },
  {
   "cell_type": "markdown",
   "id": "b6b2c56d-db62-4a5b-a020-6f3436bce8f0",
   "metadata": {},
   "source": [
    "## Help in Jupyter"
   ]
  },
  {
   "cell_type": "markdown",
   "id": "1b54135b-7ffb-4dab-af50-c1cecae0d0ac",
   "metadata": {},
   "source": [
    "If you write ?function name, jupyter will print out the doctring which will include parameters, descriptions, examples, etc. "
   ]
  },
  {
   "cell_type": "code",
   "execution_count": null,
   "id": "b052f191-74b0-4891-b02d-75ef1cbf66da",
   "metadata": {
    "tags": []
   },
   "outputs": [],
   "source": [
    "?plt.boxplot"
   ]
  },
  {
   "cell_type": "markdown",
   "id": "632bffbe-9e8a-45a6-a06c-482f450abc2a",
   "metadata": {},
   "source": [
    "## Pandas"
   ]
  },
  {
   "cell_type": "markdown",
   "id": "329ea9d1-28af-47e2-a9e8-410671951093",
   "metadata": {},
   "source": [
    "### Filtering\n",
    "In pandas, you can use boolean series along either axis to perform more complicated data filtering and selection\n",
    "\n",
    "To construct a boolean series you perform logical operations on a pandas series, which can be a column or row from a dataframe."
   ]
  },
  {
   "cell_type": "code",
   "execution_count": null,
   "id": "86cfb813-d97e-4758-a96a-ad313463b315",
   "metadata": {
    "tags": []
   },
   "outputs": [],
   "source": [
    "# Lets get the HCEPDB data, and select 500 random row\n",
    "data = pd.read_csv('http://faculty.washington.edu/dacb/HCEPDB_moldata.zip')\n",
    "df = data.sample(500, random_state=42)"
   ]
  },
  {
   "cell_type": "code",
   "execution_count": null,
   "id": "bdf7e285-bfd6-46a9-b096-a16b19b61230",
   "metadata": {
    "tags": []
   },
   "outputs": [],
   "source": [
    "# View the first 10 rows\n",
    "df.head(10)"
   ]
  },
  {
   "cell_type": "code",
   "execution_count": null,
   "id": "761b4b14-3c3e-44c9-b231-4b7c503524be",
   "metadata": {
    "tags": []
   },
   "outputs": [],
   "source": [
    "# Lets say we want to find materials with mass less than 400, and pce greater than 2\n",
    "# First construct the boolean series\n",
    "bool_series = (df[\"mass\"]<400)&(df[\"pce\"]>2)\n",
    "# Now, select all the rows where this is true\n",
    "low_mass_high_pce = df[bool_series]\n",
    "low_mass_high_pce.describe()"
   ]
  },
  {
   "cell_type": "code",
   "execution_count": null,
   "id": "1fafa614-4ae2-4a91-98e6-64dbf99bfc9a",
   "metadata": {
    "tags": []
   },
   "outputs": [],
   "source": [
    "# This can all be done in a single step\n",
    "df[(df[\"mass\"]<400)&(df[\"pce\"]>2)].describe()"
   ]
  },
  {
   "cell_type": "markdown",
   "id": "ee8f1307-8050-40ae-a7a0-3275cab3b7f6",
   "metadata": {},
   "source": [
    "### Cheatsheet\n",
    "Pandas has made a \"cheatsheet\" to help with remembering how to perform data manipulation with pandas which can be found [here](https://pandas.pydata.org/Pandas_Cheat_Sheet.pdf)."
   ]
  },
  {
   "cell_type": "markdown",
   "id": "99f770b1-a964-4491-adda-f9ae6c168e45",
   "metadata": {},
   "source": [
    "## Data Visualization"
   ]
  },
  {
   "cell_type": "markdown",
   "id": "4485575b-5f90-41e1-900c-dd7768a369b4",
   "metadata": {},
   "source": [
    "Data visualization allows you to understand relationships between variables much more easily than just pure numbers. Data visualization can happen at the end of a project as a way to share your results, but can also be an important part of exploring the data and understanding it, part of what is known as \"exploratory data analysis\".   \n",
    "\n",
    "\n",
    "What is the relationship between voc and jsc?"
   ]
  },
  {
   "cell_type": "code",
   "execution_count": null,
   "id": "b4922d01-4f3c-49cb-9738-cdafe25cf66d",
   "metadata": {
    "tags": []
   },
   "outputs": [],
   "source": [
    "df[[\"voc\",\"jsc\"]] # You can select multiple columns and only show those"
   ]
  },
  {
   "cell_type": "markdown",
   "id": "d476faf9-117d-4935-a4ab-71ed670d7d58",
   "metadata": {},
   "source": [
    "From the pure numbers this is not easy to determine. But what if we make use of visualization to try and get a better understanding?"
   ]
  },
  {
   "cell_type": "code",
   "execution_count": null,
   "id": "ba0191fd-c37b-44ba-805c-651e4ba511c1",
   "metadata": {
    "tags": []
   },
   "outputs": [],
   "source": [
    "plt.scatter(df[\"voc\"], df[\"jsc\"])"
   ]
  },
  {
   "cell_type": "markdown",
   "id": "65ba65f6-1946-4cdf-9557-03a3ecfc868e",
   "metadata": {},
   "source": [
    "Though the above plot can give you some clues to the relationship, it still isn't that easy to tell what is going on. Maybe another variable from the data would help, we can add this additional information using another 'encoding'. Encodings are ways to visually represent a variable. so far we have used position to encode the information, but using another encoding, like color, can enable us to see how another variable affects this distribution. "
   ]
  },
  {
   "cell_type": "code",
   "execution_count": null,
   "id": "06fedb42-4516-4b16-9de9-95f86158aab3",
   "metadata": {
    "tags": []
   },
   "outputs": [],
   "source": [
    "small_mass = df[df[\"mass\"]<300]\n",
    "large_mass = df[df[\"mass\"]>=300]\n",
    "fig, ax = plt.subplots()\n",
    "\n",
    "ax.scatter(small_mass['jsc'], small_mass[\"voc\"], color = 'red', label = \"Small Mass\")\n",
    "ax.scatter(large_mass['jsc'], large_mass[\"voc\"], color = 'blue', label = \"Large Mass\")\n",
    "\n",
    "ax.set_xlabel(\"Jsc\")\n",
    "ax.set_ylabel(\"VOC\")\n",
    "ax.set_title(\"VOC vs Jsc\")\n",
    "\n",
    "plt.legend()"
   ]
  },
  {
   "cell_type": "code",
   "execution_count": null,
   "id": "e9596141-63d3-4581-8c8d-f9c78560bcea",
   "metadata": {
    "tags": []
   },
   "outputs": [],
   "source": [
    "fig, ax = plt.subplots()\n",
    "scatter = ax.scatter(df[\"voc\"], df[\"jsc\"], c= df[\"mass\"])\n",
    "legend = ax.legend(*scatter.legend_elements(num=7), loc=\"upper right\", title=\"Mass\")\n",
    "ax.add_artist(legend)\n",
    "plt.show()"
   ]
  },
  {
   "cell_type": "markdown",
   "id": "d23d0324-f4da-40d3-ab21-6e0b5be04d51",
   "metadata": {},
   "source": [
    "Using the additional encoding, we are able to visualize more information on this single plot, and get a little bit more understanding of the relationship between these variables. "
   ]
  },
  {
   "cell_type": "markdown",
   "id": "a7270c68-dc44-4274-a369-2a612fef4694",
   "metadata": {},
   "source": [
    "Lets look at another dataset about flower species (because it lends itself well to some easy visualizations). Iris is a dataset that records several variables about irises of different species. It is a very common dataset to use for practicing machine learning techniques, and available as one of the toy datasets in sklearn (a library we will talk much more about later). "
   ]
  },
  {
   "cell_type": "code",
   "execution_count": null,
   "id": "4180f546-3066-4d19-9b66-b5e41ca84bb8",
   "metadata": {
    "tags": []
   },
   "outputs": [],
   "source": [
    "# Don't worry too much about this cell, I am just grabbing some data from sklearn\n",
    "from sklearn import datasets\n",
    "iris_data = datasets.load_iris() # Load the dataset, which is a dictionary\n",
    "iris = pd.DataFrame(iris_data['data'], columns=iris_data['feature_names']) # Change the data into a dataframe\n",
    "target_dict = {i:iris_data[\"target_names\"][i] for i in range(len(iris_data[\"target_names\"]))} # Dict comprehension\n",
    "target_series = pd.Series(iris_data[\"target\"]).replace(target_dict) # Change from numbers to species names\n",
    "iris[\"species\"] = target_series # Add the species names"
   ]
  },
  {
   "cell_type": "markdown",
   "id": "94362ecc-e0fa-4610-847b-2748c2260424",
   "metadata": {},
   "source": [
    "<div>\n",
    "    <img src = \"https://www.sciencefacts.net/wp-content/uploads/2021/12/Sepals.jpg\" width =200/>\n",
    "</div>"
   ]
  },
  {
   "cell_type": "code",
   "execution_count": null,
   "id": "58db3806-a51f-4b4a-9ad0-cdbc7c5d64e4",
   "metadata": {
    "tags": []
   },
   "outputs": [],
   "source": [
    "sns.pairplot(data = iris, hue = \"species\") # We will talk more about Seaborn in a bit"
   ]
  },
  {
   "cell_type": "markdown",
   "id": "93ac9dc5-f13d-492d-9479-43b1c461a5e4",
   "metadata": {},
   "source": [
    "#### Types of Data"
   ]
  },
  {
   "cell_type": "markdown",
   "id": "d9f6faa1-2ef8-4df7-8e12-9bf85ad1c35d",
   "metadata": {},
   "source": [
    "There are different types of data that you may want to represent\n",
    "* Nominal (labels/categories)\n",
    "* Ordinal (ordered labels)\n",
    "* Quantitative (continous data)"
   ]
  },
  {
   "cell_type": "markdown",
   "id": "f00eb478-ada7-434e-a981-97a73fb1c1e8",
   "metadata": {},
   "source": [
    "#### Encodings"
   ]
  },
  {
   "cell_type": "markdown",
   "id": "57aea7a7-3172-4ea1-a142-ee78d5dd9d63",
   "metadata": {},
   "source": [
    "The above plot allows us to explore the relationship between a variety of different variables at once, again using a color encoding to get more information about the relationship in a single plot. There are a lot more encodings that just color though, here are the "
   ]
  },
  {
   "cell_type": "markdown",
   "id": "1ffd4ec4-3587-4213-8d2f-f121276e1c31",
   "metadata": {},
   "source": [
    "<div>\n",
    "    <img src = \"https://ltb.itc.utwente.nl/uploads/studyarea/509/Pics_2015_jpg/Fig10_11.jpg\" width =700/>\n",
    "</div>\n",
    "<a href=https://ltb.itc.utwente.nl/509/concept/88863>https://ltb.itc.utwente.nl/509/concept/88863 </a>"
   ]
  },
  {
   "cell_type": "markdown",
   "id": "51cf4581-7377-4e17-9f54-9e0574f17447",
   "metadata": {},
   "source": [
    "#### Question:\n",
    "What types of data can be represented by which types of encodings? Are there encodings which are better at representing different types of data?"
   ]
  },
  {
   "cell_type": "markdown",
   "id": "8146e914-8f80-4d21-a7d0-cd07b3446f90",
   "metadata": {},
   "source": [
    "### Expressiveness vs Effectiveness\n",
    "* Expressiveness: How much information we can convey\n",
    "* Effectiveness: How easy is the information to digest\n",
    "\n",
    "We can include a huge amount of information in a single plot, using a different encoding for each element, but it can get very confused"
   ]
  },
  {
   "cell_type": "code",
   "execution_count": null,
   "id": "b24d4490-ddcd-4c11-91a8-0ebbf62f1c1c",
   "metadata": {
    "tags": []
   },
   "outputs": [],
   "source": [
    "df[\"jsc_cut\"] = pd.cut(df[\"jsc\"], 5)\n",
    "\n",
    "sns.scatterplot(data=df, x = \"pce\", y=\"voc\", hue=\"mass\", size = \"e_homo_alpha\", style=\"jsc_cut\",\n",
    "               palette = sns.color_palette(\"vlag\", as_cmap=True))"
   ]
  },
  {
   "cell_type": "markdown",
   "id": "d26f228b-ad13-48a4-952b-d23524781d1c",
   "metadata": {
    "tags": []
   },
   "source": [
    "As seen above, a plot containing a lot of information (pce, voc, mass, e_homo_alpha, jsc) but is bad at conveying a message because it is hard to digest. On the other hand, the early plots were too simple to really convey much of anything. This is a tradeoff that you should keep in mind. Just adding information to a plot won't make it better, and being thoughtful about how you combine different encodings can make what you are trying to convey much clearer. "
   ]
  },
  {
   "cell_type": "markdown",
   "id": "d48e9560-2c03-4aa3-b046-3edd43123497",
   "metadata": {},
   "source": [
    "### Python Plotting Options\n",
    "* Directly from pandas using DataFrame.plot()\n",
    "* Using Matplotlib \n",
    "* Using Seaborn"
   ]
  },
  {
   "cell_type": "markdown",
   "id": "c69f643b-62da-4159-8407-5f3a59077078",
   "metadata": {},
   "source": [
    "### Examples of Data Visualization (The Good, The Bad, The ugly)"
   ]
  },
  {
   "cell_type": "markdown",
   "id": "11c9fe38-f9e1-47b8-9cad-4447338c4126",
   "metadata": {},
   "source": [
    "#### Below examples from: [https://www.syntaxtechs.com/blog/data-visualization-examples](https://www.syntaxtechs.com/blog/data-visualization-examples)"
   ]
  },
  {
   "cell_type": "markdown",
   "id": "42e40664-56ac-4cff-912c-940f215752be",
   "metadata": {},
   "source": [
    "Overly complex graphics are hard to understand\n",
    "\n",
    "![Overly Complex Graphics](https://assets.website-files.com/60078f9b9c5ea6f60974b74b/61bdf49e384b99811891b691_Blog%2049.8..png)"
   ]
  },
  {
   "cell_type": "markdown",
   "id": "fb8671c4-86aa-4619-b19c-54bd0eb3bea8",
   "metadata": {},
   "source": [
    "Plots with too much information can be bad at conveying their purpose\n",
    "\n",
    "![Overly Expressive Pie Chart](https://assets.website-files.com/60078f9b9c5ea6f60974b74b/61bdf4c6ea186da5af170265_Blog%2049.10..png)"
   ]
  },
  {
   "cell_type": "markdown",
   "id": "e4b9036c-e94e-4a26-8f29-1a475773a046",
   "metadata": {},
   "source": [
    "Pie charts should always add up to 100%  \n",
    "\n",
    "![Pie Chart](https://assets.website-files.com/60078f9b9c5ea6f60974b74b/61bdf4f1649499ea50046dfa_Blog%2049.12..png)"
   ]
  },
  {
   "cell_type": "markdown",
   "id": "c2f57e5a-fd84-465f-b9e7-24232419711c",
   "metadata": {},
   "source": [
    "Data Visualization can be misleading  \n",
    "\n",
    "![Bad Bar Chart](https://assets.website-files.com/60078f9b9c5ea6f60974b74b/61bdf500194ffa8799a8400c_Blog%2049.13..jpg)"
   ]
  },
  {
   "cell_type": "markdown",
   "id": "d0ff2182-854f-46b1-b30c-2a7c03e81dda",
   "metadata": {},
   "source": [
    "#### Examples Below From [https://www.oldstreetsolutions.com/good-and-bad-data-visualization](https://www.oldstreetsolutions.com/good-and-bad-data-visualization)"
   ]
  },
  {
   "cell_type": "markdown",
   "id": "49b50d6e-de38-419c-b672-d13c49eb9bd7",
   "metadata": {},
   "source": [
    "Bad Heat Map: Darker colors should represent higher values (notice none is darker than 1-100)\n",
    "\n",
    "![Bad Heat Map](https://www.oldstreetsolutions.com/wp-content/uploads/2021/05/Bad-Heat-Map.png)"
   ]
  },
  {
   "cell_type": "markdown",
   "id": "9012dbec-1650-4e79-a774-abfaf5936295",
   "metadata": {},
   "source": [
    "Even simple graphics can have low effectiveness (aka areas are harder to understand)\n",
    "\n",
    "![Weird Groceries Chart](https://www.oldstreetsolutions.com/wp-content/uploads/2021/05/Groceries-Weird-Chart.jpg)"
   ]
  },
  {
   "cell_type": "markdown",
   "id": "f8684243-37ed-4bf0-95bf-e9b108bfc1ea",
   "metadata": {},
   "source": [
    "Including more information can be used to make visualization more clear\n",
    "\n",
    "![Population Density](https://www.oldstreetsolutions.com/wp-content/uploads/2021/05/Proper-Heat-Map.png)"
   ]
  },
  {
   "cell_type": "markdown",
   "id": "107d8734-8c5e-4c44-8bb1-3db83ef2eec4",
   "metadata": {},
   "source": [
    "#### From [https://en.wikipedia.org/wiki/1854_Broad_Street_cholera_outbreak](https://en.wikipedia.org/wiki/1854_Broad_Street_cholera_outbreak)\n",
    "\n",
    "<div>\n",
    "    <img src = \"https://upload.wikimedia.org/wikipedia/commons/thumb/2/27/Snow-cholera-map-1.jpg/1024px-Snow-cholera-map-1.jpg\" width =700/>\n",
    "</div>"
   ]
  },
  {
   "cell_type": "markdown",
   "id": "9bb8b8de-aaee-4976-b3a3-a073870657ce",
   "metadata": {},
   "source": [
    "### Plotting Zoo"
   ]
  },
  {
   "cell_type": "markdown",
   "id": "eee5acdf-dcaa-4d17-9e62-a0a7b6c0a6e6",
   "metadata": {},
   "source": [
    "#### Line Plot"
   ]
  },
  {
   "cell_type": "code",
   "execution_count": null,
   "id": "a636a7c3-ab9d-4c57-8ae1-5b59bc15dcc4",
   "metadata": {
    "tags": []
   },
   "outputs": [],
   "source": [
    "df.plot(kind='line', x='jsc', y='voc')"
   ]
  },
  {
   "cell_type": "markdown",
   "id": "41bd117e-03bc-4561-8080-bf87c6cc294c",
   "metadata": {},
   "source": [
    "#### Scatter"
   ]
  },
  {
   "cell_type": "code",
   "execution_count": null,
   "id": "25871f72-0cc2-4e5b-afc2-879856d4a516",
   "metadata": {
    "tags": []
   },
   "outputs": [],
   "source": [
    "df.plot(kind='scatter', x='jsc', y='voc')"
   ]
  },
  {
   "cell_type": "markdown",
   "id": "b4c024f9-d409-44ee-bb7a-3deb1c43c785",
   "metadata": {},
   "source": [
    "#### Bar plot"
   ]
  },
  {
   "cell_type": "code",
   "execution_count": null,
   "id": "f8982c5b-dbae-43a7-a92a-3c971ea4193b",
   "metadata": {
    "tags": []
   },
   "outputs": [],
   "source": [
    "df[\"has_si\"] = df[\"SMILES_str\"].apply(lambda s: 'Si' in s) # Add column that indicates if material contains silicon"
   ]
  },
  {
   "cell_type": "code",
   "execution_count": null,
   "id": "74896b89-374c-46a2-95e2-89e330be427b",
   "metadata": {
    "tags": []
   },
   "outputs": [],
   "source": [
    "numeric_cols = [\"mass\", \"pce\", \"voc\", \"jsc\", \"e_homo_alpha\", \"e_gap_alpha\", \n",
    "                \"e_lumo_alpha\"]\n",
    "df.groupby('has_si')[numeric_cols].mean().reset_index().plot(kind=\"bar\", x=\"has_si\", y=\"jsc\")"
   ]
  },
  {
   "cell_type": "markdown",
   "id": "ccc133b5-c768-48a1-916a-da93c637e368",
   "metadata": {
    "tags": []
   },
   "source": [
    "#### Histogram"
   ]
  },
  {
   "cell_type": "code",
   "execution_count": null,
   "id": "507bf2fc-bfe2-4d24-80f0-c74fa39fa185",
   "metadata": {
    "tags": []
   },
   "outputs": [],
   "source": [
    "df.plot(kind='hist', y=\"mass\")"
   ]
  },
  {
   "cell_type": "markdown",
   "id": "cd04d83b-ebcf-40f6-a92d-6ea78ebba59c",
   "metadata": {},
   "source": [
    "#### Box and Whisker Plot"
   ]
  },
  {
   "cell_type": "code",
   "execution_count": null,
   "id": "95dafccd-68e4-45d3-875e-000e64bc5859",
   "metadata": {
    "tags": []
   },
   "outputs": [],
   "source": [
    "df.plot(kind=\"box\", by=\"has_si\", column=[\"mass\", \"jsc\"], subplots=True)"
   ]
  },
  {
   "cell_type": "markdown",
   "id": "52ee1d0e-4bbd-4335-b178-2db91f41acfd",
   "metadata": {
    "tags": []
   },
   "source": [
    "#### Density Estimate"
   ]
  },
  {
   "cell_type": "code",
   "execution_count": null,
   "id": "95a10150-3e69-4d3c-b5ca-2d99fca0dd92",
   "metadata": {
    "tags": []
   },
   "outputs": [],
   "source": [
    "df.plot(kind=\"kde\", y=\"mass\")"
   ]
  },
  {
   "cell_type": "code",
   "execution_count": null,
   "id": "69b6e224-de22-4798-b9f1-d3e441f65dc6",
   "metadata": {
    "tags": []
   },
   "outputs": [],
   "source": [
    "df.plot(kind = \"kde\", y = [\"e_homo_alpha\", \"e_lumo_alpha\"])"
   ]
  },
  {
   "cell_type": "markdown",
   "id": "94caa076-c663-4b21-8fef-12fcb6565a30",
   "metadata": {},
   "source": [
    "#### Pie"
   ]
  },
  {
   "cell_type": "code",
   "execution_count": null,
   "id": "cc15b0fa-0771-4755-8a92-e50b5299e80a",
   "metadata": {
    "tags": []
   },
   "outputs": [],
   "source": [
    "df.groupby(\"has_si\").count().plot(kind=\"pie\", y=\"id\")"
   ]
  },
  {
   "cell_type": "markdown",
   "id": "b8029645-cebc-4cb5-857f-af8a80421a9a",
   "metadata": {},
   "source": [
    "### Seaborn"
   ]
  },
  {
   "cell_type": "markdown",
   "id": "b1205160-0fa2-4457-8e35-c1e4f301cdb0",
   "metadata": {},
   "source": [
    "Seaborn is a wrapper library around matplotlib that allows you to easily create more complex plots. Everything in seaborn can be done in matplotlib, but it will take longer. "
   ]
  },
  {
   "cell_type": "code",
   "execution_count": null,
   "id": "d31041ee-ba73-4db0-9ed7-d60dd7686ec3",
   "metadata": {
    "tags": []
   },
   "outputs": [],
   "source": [
    "df[\"mass_cut\"] = pd.cut(df[\"mass\"], 5)\n",
    "fig, ax = plt.subplots()\n",
    "\n",
    "sns.kdeplot(data=df, x='e_gap_alpha', hue=\"mass_cut\", common_norm=False, palette=\"viridis\", ax=ax)"
   ]
  },
  {
   "cell_type": "code",
   "execution_count": null,
   "id": "094821e9-c93d-4928-a2f1-0fbc03bb0b78",
   "metadata": {
    "tags": []
   },
   "outputs": [],
   "source": [
    "fig, ax = plt.subplots()\n",
    "plot = sns.barplot(data=df, x='mass_cut', y=\"e_gap_alpha\", hue=\"has_si\")\n",
    "plt.xticks(rotation=30)"
   ]
  },
  {
   "cell_type": "markdown",
   "id": "92b03767-805a-4bfd-bedf-98970e683433",
   "metadata": {},
   "source": [
    "You can also easily set default stylization"
   ]
  },
  {
   "cell_type": "code",
   "execution_count": null,
   "id": "0114922e-82de-4bcc-90a6-4727d241ef46",
   "metadata": {
    "tags": []
   },
   "outputs": [],
   "source": [
    "sns.set_style('whitegrid') # Colors, grids, etc.\n",
    "sns.set_context(\"talk\") # Font and line sizes"
   ]
  },
  {
   "cell_type": "markdown",
   "id": "87f040d7-5876-45e3-92cf-4d61808a0cec",
   "metadata": {},
   "source": [
    "#### Heatmap"
   ]
  },
  {
   "cell_type": "code",
   "execution_count": null,
   "id": "3a424cfd-a36c-4cce-b857-efaf96b31d35",
   "metadata": {
    "tags": []
   },
   "outputs": [],
   "source": [
    "sns.heatmap(data=df[numeric_cols].corr())"
   ]
  },
  {
   "cell_type": "markdown",
   "id": "425ef477-0370-4698-83d9-7434a7e81b14",
   "metadata": {},
   "source": [
    "#### 2D KDE"
   ]
  },
  {
   "cell_type": "code",
   "execution_count": null,
   "id": "f3060b87-083f-4ea6-9406-f494e3f6781b",
   "metadata": {
    "tags": []
   },
   "outputs": [],
   "source": [
    "sns.kdeplot(data = df, x=\"jsc\", y=\"voc\") "
   ]
  },
  {
   "cell_type": "markdown",
   "id": "f143c4a6-b420-4ffe-8667-16711ccd5db2",
   "metadata": {},
   "source": [
    "Note how this shows the high density around 0? This might be due to some missing data..."
   ]
  },
  {
   "cell_type": "markdown",
   "id": "b4af8c0c-bf21-4bfd-ac88-6f0c1c1e474b",
   "metadata": {},
   "source": [
    "#### Joint Plot"
   ]
  },
  {
   "cell_type": "code",
   "execution_count": null,
   "id": "95e40f4c-bed6-4ba4-86c8-269eb3768b64",
   "metadata": {
    "tags": []
   },
   "outputs": [],
   "source": [
    "sns.jointplot(data=df, x='jsc', y=\"voc\")"
   ]
  },
  {
   "cell_type": "markdown",
   "id": "c09654ea-5194-463d-b16b-cb170119b852",
   "metadata": {},
   "source": [
    "#### Violin Plot"
   ]
  },
  {
   "cell_type": "code",
   "execution_count": null,
   "id": "3bbea8a9-d572-4070-bbff-4913bd55aff1",
   "metadata": {
    "tags": []
   },
   "outputs": [],
   "source": [
    "sns.violinplot(data=df, x=\"e_gap_alpha\", y=\"mass_cut\")"
   ]
  },
  {
   "cell_type": "markdown",
   "id": "64d51e77-50bb-4c3f-a9fb-d2de81ba13b1",
   "metadata": {},
   "source": [
    "#### Pair Plot"
   ]
  },
  {
   "cell_type": "code",
   "execution_count": null,
   "id": "aab760ff-96ef-4862-88f5-462969b225c6",
   "metadata": {
    "tags": []
   },
   "outputs": [],
   "source": [
    "sns.pairplot(data=df[numeric_cols], kind=\"scatter\")"
   ]
  },
  {
   "cell_type": "markdown",
   "id": "369b4f01-1471-4361-9fe4-5190eca2a964",
   "metadata": {},
   "source": [
    "## Excecises"
   ]
  },
  {
   "cell_type": "markdown",
   "id": "41a03bb7-a5fa-4771-b380-00416b218f3f",
   "metadata": {},
   "source": [
    "1. Filter the HCEPDB data for data where voc is between 0.5 and 0.75"
   ]
  },
  {
   "cell_type": "code",
   "execution_count": null,
   "id": "af48c11b-c955-4292-b613-e874a5f1b713",
   "metadata": {},
   "outputs": [],
   "source": []
  },
  {
   "cell_type": "markdown",
   "id": "511bf2e3-af2a-4d43-98d7-0b7b371b8473",
   "metadata": {},
   "source": [
    "2. Create a plot of JSC vs PCE using square markers of size 2 using matplotlib\n",
    "\n",
    "hint: [Documentation for Matplotlib Scatter](https://matplotlib.org/stable/api/_as_gen/matplotlib.pyplot.scatter.html)"
   ]
  },
  {
   "cell_type": "code",
   "execution_count": null,
   "id": "011af249-e942-46cb-8353-8d66bed7dd48",
   "metadata": {},
   "outputs": [],
   "source": []
  },
  {
   "cell_type": "markdown",
   "id": "e4ad5ef6-73f6-41d4-a970-b2f336704d12",
   "metadata": {},
   "source": [
    "3. Create a plot to show how the difference in HOMO and LUMO energy gap (e_gap_alpha) affected by molar mass"
   ]
  },
  {
   "cell_type": "code",
   "execution_count": null,
   "id": "c0d884bc-0c0c-4fc7-937f-d7c9708f5773",
   "metadata": {},
   "outputs": [],
   "source": []
  },
  {
   "cell_type": "markdown",
   "id": "1263b28d-baf1-4cea-8cae-76d0ef3eb618",
   "metadata": {},
   "source": [
    "4. Recreate the pairplot for the HCEPDB above, except filter out data where voc is approximately 0\n",
    "\n",
    "hint: np.isclose can be used to check if a number is close to 0"
   ]
  },
  {
   "cell_type": "code",
   "execution_count": null,
   "id": "de4b5b7b-49ae-49ca-b181-5f696bff4310",
   "metadata": {},
   "outputs": [],
   "source": []
  },
  {
   "cell_type": "markdown",
   "id": "567a74d7-e1ec-4324-bd39-a7b0bd18a7f4",
   "metadata": {},
   "source": [
    "5. Pick any three variables in the HCEPDB data set, and create a plot or plots to explore the relationship between these variables"
   ]
  },
  {
   "cell_type": "code",
   "execution_count": null,
   "id": "4361663c-ff71-40f8-94f7-d17e35c51e2f",
   "metadata": {},
   "outputs": [],
   "source": []
  },
  {
   "cell_type": "markdown",
   "id": "1a5e4403-0cee-4079-8915-4fda126ed542",
   "metadata": {},
   "source": [
    "6. Below I create a dataframe `diabetes` with a new dataset from sklearn, use different plots to explore the relationships between the variables\n",
    "\n",
    "Data Description: Ten baseline variables, age, sex, body mass index, average blood pressure, and six blood serum measurements were obtained for each of n = 442 diabetes patients, as well as the response of interest, a quantitative measure of disease progression one year after baseline.\n",
    "\n",
    "Variables:\n",
    "- age: age in years\n",
    "- sex\n",
    "- bmi: body mass index\n",
    "- bp: average blood pressure\n",
    "- s1: tc, total serum cholesterol\n",
    "- s2: ldl, low-density lipoproteins\n",
    "- s3: hdl, high-density lipoproteins\n",
    "- s4: tch, total cholesterol / HDL\n",
    "- s5: ltg, possibly log of serum triglycerides level\n",
    "- s6: glu, blood sugar level\n",
    "- progression: Quantitative measure of disease progression\n",
    "\n"
   ]
  },
  {
   "cell_type": "code",
   "execution_count": null,
   "id": "316abba3-233b-421b-84fe-d97f2afa1d8a",
   "metadata": {
    "tags": []
   },
   "outputs": [],
   "source": [
    "diabetes_data = datasets.load_diabetes()\n",
    "diabetes = pd.DataFrame(diabetes_data[\"data\"], columns = diabetes_data[\"feature_names\"])\n",
    "diabetes[\"progression\"] = diabetes_data[\"target\"]"
   ]
  },
  {
   "cell_type": "markdown",
   "id": "f20bc436-67ac-4e50-9fbb-6642d70af7d0",
   "metadata": {},
   "source": [
    "Some possible questions to explore (fell free to create your own instead): \n",
    " - Do the men and women in the dataset have simmilar age distributions?\n",
    " - How are the serum measurements affected by age?\n",
    " - What is the relationship between age, bp, and progression?\n",
    " - Create age groups, then create subplots of bmi vs s2 for each of the age groups (try using just matplotlib, try with [Seaborn Facetgrid](https://seaborn.pydata.org/generated/seaborn.FacetGrid.html))"
   ]
  },
  {
   "cell_type": "code",
   "execution_count": null,
   "id": "d34769bb-9a0f-4e5d-a570-9f10bdc8b04f",
   "metadata": {},
   "outputs": [],
   "source": []
  },
  {
   "cell_type": "markdown",
   "id": "0a9ae57b-4fed-4a24-bab0-cca87893cad9",
   "metadata": {},
   "source": [
    "## Other Visualization Libraries and Methods"
   ]
  },
  {
   "cell_type": "markdown",
   "id": "9f5c2b4a-6936-4294-b4b1-2f2cdf2d2f80",
   "metadata": {},
   "source": [
    "### Altair:\n",
    "(Available in this jupyter hub)  \n",
    "A plotting library that is for declaritively creating data visualiztions. It is built around vega-light grammar, the developement of which is led by the alumni and members of the University of Washington Interactive Data Lab (UW IDL).  \n",
    "[Altair Documentation](https://altair-viz.github.io/)"
   ]
  },
  {
   "cell_type": "code",
   "execution_count": null,
   "id": "1620acb1-03f5-41f9-b654-f10c6aa8ce46",
   "metadata": {
    "tags": []
   },
   "outputs": [],
   "source": [
    "# import altair with an abbreviated alias\n",
    "import altair as alt\n",
    "\n",
    "# make the chart\n",
    "alt.Chart(diabetes).mark_point().encode(\n",
    "    x='age',\n",
    "    y='bp',\n",
    "    color='progression',\n",
    ").interactive()"
   ]
  },
  {
   "cell_type": "markdown",
   "id": "7e9c742a-4ad1-408d-a9a5-7fd1021adab0",
   "metadata": {},
   "source": [
    "From: [https://altair-viz.github.io/getting_started/overview.html#overview](https://altair-viz.github.io/getting_started/overview.html#overview)"
   ]
  },
  {
   "cell_type": "markdown",
   "id": "b084a49b-48d9-4ca8-bd6f-69e2d50bb96d",
   "metadata": {},
   "source": [
    "### Plotly\n",
    "(Available in this Jupyter Hub)  \n",
    "Available for python (and a large number of other languages)  \n",
    "Based on plotly javascript library, very good at making a variety of interactive plots, and these can also easily be made into web apps for others to explore.  \n",
    "[Plotly Documentation](https://plotly.com/python/)  \n",
    "[Dash User Guide](https://dash.plotly.com/)"
   ]
  },
  {
   "cell_type": "code",
   "execution_count": null,
   "id": "b95f3a25-eb99-48b0-973d-d93f89f64830",
   "metadata": {
    "tags": []
   },
   "outputs": [],
   "source": [
    "import plotly.express as px\n",
    "df = px.data.gapminder().query(\"year==2007\")\n",
    "fig = px.scatter_geo(df, locations=\"iso_alpha\", color=\"continent\",\n",
    "                     hover_name=\"country\", size=\"pop\",\n",
    "                     projection=\"natural earth\")\n",
    "fig.show()"
   ]
  },
  {
   "cell_type": "markdown",
   "id": "3c3278a9-ceca-4110-9ab7-93d07f633eb5",
   "metadata": {},
   "source": [
    "From [https://plotly.com/python/bubble-maps/](https://plotly.com/python/bubble-maps/)"
   ]
  },
  {
   "cell_type": "code",
   "execution_count": null,
   "id": "df4b18e9-b36b-4816-9daf-54934561c1ef",
   "metadata": {
    "tags": []
   },
   "outputs": [],
   "source": [
    "# Import data\n",
    "import time\n",
    "import numpy as np\n",
    "\n",
    "from skimage import io\n",
    "\n",
    "vol = io.imread(\"https://s3.amazonaws.com/assets.datacamp.com/blog_assets/attention-mri.tif\")\n",
    "volume = vol.T\n",
    "r, c = volume[0].shape\n",
    "\n",
    "# Define frames\n",
    "import plotly.graph_objects as go\n",
    "nb_frames = 68\n",
    "\n",
    "fig = go.Figure(frames=[go.Frame(data=go.Surface(\n",
    "    z=(6.7 - k * 0.1) * np.ones((r, c)),\n",
    "    surfacecolor=np.flipud(volume[67 - k]),\n",
    "    cmin=0, cmax=200\n",
    "    ),\n",
    "    name=str(k) # you need to name the frame for the animation to behave properly\n",
    "    )\n",
    "    for k in range(nb_frames)])\n",
    "\n",
    "# Add data to be displayed before animation starts\n",
    "fig.add_trace(go.Surface(\n",
    "    z=6.7 * np.ones((r, c)),\n",
    "    surfacecolor=np.flipud(volume[67]),\n",
    "    colorscale='Gray',\n",
    "    cmin=0, cmax=200,\n",
    "    colorbar=dict(thickness=20, ticklen=4)\n",
    "    ))\n",
    "\n",
    "\n",
    "def frame_args(duration):\n",
    "    return {\n",
    "            \"frame\": {\"duration\": duration},\n",
    "            \"mode\": \"immediate\",\n",
    "            \"fromcurrent\": True,\n",
    "            \"transition\": {\"duration\": duration, \"easing\": \"linear\"},\n",
    "        }\n",
    "\n",
    "sliders = [\n",
    "            {\n",
    "                \"pad\": {\"b\": 10, \"t\": 60},\n",
    "                \"len\": 0.9,\n",
    "                \"x\": 0.1,\n",
    "                \"y\": 0,\n",
    "                \"steps\": [\n",
    "                    {\n",
    "                        \"args\": [[f.name], frame_args(0)],\n",
    "                        \"label\": str(k),\n",
    "                        \"method\": \"animate\",\n",
    "                    }\n",
    "                    for k, f in enumerate(fig.frames)\n",
    "                ],\n",
    "            }\n",
    "        ]\n",
    "\n",
    "# Layout\n",
    "fig.update_layout(\n",
    "         title='Slices in volumetric data',\n",
    "         width=600,\n",
    "         height=600,\n",
    "         scene=dict(\n",
    "                    zaxis=dict(range=[-0.1, 6.8], autorange=False),\n",
    "                    aspectratio=dict(x=1, y=1, z=1),\n",
    "                    ),\n",
    "         updatemenus = [\n",
    "            {\n",
    "                \"buttons\": [\n",
    "                    {\n",
    "                        \"args\": [None, frame_args(50)],\n",
    "                        \"label\": \"&#9654;\", # play symbol\n",
    "                        \"method\": \"animate\",\n",
    "                    },\n",
    "                    {\n",
    "                        \"args\": [[None], frame_args(0)],\n",
    "                        \"label\": \"&#9724;\", # pause symbol\n",
    "                        \"method\": \"animate\",\n",
    "                    },\n",
    "                ],\n",
    "                \"direction\": \"left\",\n",
    "                \"pad\": {\"r\": 10, \"t\": 70},\n",
    "                \"type\": \"buttons\",\n",
    "                \"x\": 0.1,\n",
    "                \"y\": 0,\n",
    "            }\n",
    "         ],\n",
    "         sliders=sliders\n",
    ")\n",
    "\n",
    "fig.show()"
   ]
  },
  {
   "cell_type": "markdown",
   "id": "74f18a65-6d39-4a10-ab83-2382853291ec",
   "metadata": {},
   "source": [
    "From [https://plotly.com/python/visualizing-mri-volume-slices/](https://plotly.com/python/visualizing-mri-volume-slices/)"
   ]
  },
  {
   "cell_type": "markdown",
   "id": "d8c72596-7af1-4dd2-9c9b-147361773bf4",
   "metadata": {},
   "source": [
    "### Bokeh\n",
    "(Available in this Jupyter Hub)  \n",
    "Based on Bokeh javascript library, good at making interactive plots, and can also be used to create web apps.   \n",
    "[Bokeh Website](http://bokeh.org/)  \n",
    "[Bokeh Documentation](https://docs.bokeh.org/en/latest/)  \n",
    "[Bokeh Server](https://docs.bokeh.org/en/latest/docs/user_guide/server.html)  "
   ]
  },
  {
   "cell_type": "code",
   "execution_count": null,
   "id": "5bfddfc7-a08a-4a8e-bd8d-c9c4ed4f6b33",
   "metadata": {
    "tags": []
   },
   "outputs": [],
   "source": [
    "# activate Bokeh output in Jupyter notebook\n",
    "from bokeh.io import output_notebook\n",
    "\n",
    "output_notebook()\n",
    "\n",
    "# create a complex chart with mouse-over tooltips\n",
    "\n",
    "from bokeh.palettes import HighContrast3\n",
    "from bokeh.plotting import figure, show\n",
    "\n",
    "fruits = [\"Apples\", \"Pears\", \"Nectarines\", \"Plums\", \"Grapes\", \"Strawberries\"]\n",
    "years = [\"2015\", \"2016\", \"2017\"]\n",
    "\n",
    "data = {\"fruits\": fruits, \"2015\": [2, 1, 4, 3, 2, 4], \"2016\": [5, 3, 4, 2, 4, 6], \"2017\": [3, 2, 4, 4, 5, 3]}\n",
    "\n",
    "p = figure(x_range=fruits, height=250, title=\"Fruit Counts by Year\", toolbar_location=None, tools=\"hover\", tooltips=\"$name @fruits: @$name\")\n",
    "\n",
    "p.vbar_stack(years, x=\"fruits\", width=0.9, color=HighContrast3, source=data, legend_label=years)\n",
    "\n",
    "p.y_range.start = 0\n",
    "p.x_range.range_padding = 0.1\n",
    "p.xgrid.grid_line_color = None\n",
    "p.axis.minor_tick_line_color = None\n",
    "p.outline_line_color = None\n",
    "p.legend.location = \"top_left\"\n",
    "p.legend.orientation = \"horizontal\"\n",
    "\n",
    "show(p)"
   ]
  },
  {
   "cell_type": "markdown",
   "id": "02e57092-dbe9-46ab-bffb-8e5ae9e0e425",
   "metadata": {},
   "source": [
    "From tutorial at [http://bokeh.org/](http://bokeh.org/)"
   ]
  },
  {
   "cell_type": "markdown",
   "id": "54fdc8e7-b001-4b72-b959-1d227b5ec027",
   "metadata": {},
   "source": [
    "### Shiny\n",
    "(Not available in this Jupyter Hub)  \n",
    "Available for python and R  \n",
    "Library for creating interactive web visualization, can be a good way of sharing data that can be more easily explored for people unfamiliar with python   \n",
    "[Shiny Example Gallery](https://shiny.posit.co/py/gallery/)  \n",
    "[Shiny Example App](https://shinylive.io/py/app/#orbit-simulation)  \n",
    "[Shiny Documentation](https://shiny.posit.co/py/docs/overview.html)  "
   ]
  },
  {
   "cell_type": "markdown",
   "id": "dd7f2807-930d-4aed-a410-48b259ddfe6d",
   "metadata": {},
   "source": [
    "This is just a small sample of some other visualization libraries, there are a huge number of other libraries. In this class we will focus only on matplotlib and seaborn, but if you want to create interactive visualizations, and/or data dashboards, these libraries provide some options you may want to use later."
   ]
  }
 ],
 "metadata": {
  "kernelspec": {
   "display_name": "Python 3 (ipykernel)",
   "language": "python",
   "name": "python3"
  },
  "language_info": {
   "codemirror_mode": {
    "name": "ipython",
    "version": 3
   },
   "file_extension": ".py",
   "mimetype": "text/x-python",
   "name": "python",
   "nbconvert_exporter": "python",
   "pygments_lexer": "ipython3",
   "version": "3.11.5"
  }
 },
 "nbformat": 4,
 "nbformat_minor": 5
}
