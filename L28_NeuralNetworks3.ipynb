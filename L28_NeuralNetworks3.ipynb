{
 "cells": [
  {
   "cell_type": "code",
   "execution_count": null,
   "id": "4bd044f6-6f3d-48ec-af9d-8706dd5ad9d9",
   "metadata": {
    "tags": []
   },
   "outputs": [],
   "source": [
    "#importing all the packages \n",
    "import numpy as np\n",
    "import matplotlib \n",
    "from matplotlib import pyplot as plt\n",
    "matplotlib.rcParams.update({'font.size': 20})\n",
    "plt.rcParams.update({'font.size': 22})\n",
    "\n",
    "import pandas as pd\n",
    "from sklearn import datasets, linear_model\n",
    "from sklearn.datasets import load_iris\n",
    "from sklearn.datasets import make_regression\n",
    "from sklearn.metrics import mean_squared_error, r2_score\n",
    "from sklearn.model_selection import train_test_split"
   ]
  },
  {
   "cell_type": "code",
   "execution_count": null,
   "id": "93aa385e-17dd-4741-94fd-6534a360aed9",
   "metadata": {},
   "outputs": [],
   "source": []
  },
  {
   "cell_type": "code",
   "execution_count": null,
   "id": "86c5cd9b-b9a7-4794-8c91-d0be2ab48c61",
   "metadata": {},
   "outputs": [],
   "source": [
    "import tensorflow as tf\n",
    "from sklearn.model_selection import cross_val_score\n",
    "from sklearn.model_selection import KFold\n",
    "from sklearn.preprocessing import StandardScaler"
   ]
  },
  {
   "cell_type": "markdown",
   "id": "9db18b5d-ae60-463e-a386-aab4e7d2cc40",
   "metadata": {},
   "source": [
    "### Loading and preprocessing the dataset"
   ]
  },
  {
   "cell_type": "code",
   "execution_count": null,
   "id": "83d112ea-a712-493f-81f1-a1facc918a4d",
   "metadata": {
    "tags": []
   },
   "outputs": [],
   "source": [
    "# we will use the handwritten MNIST digit dataset\n",
    "\n",
    "digits_mnist = tf.keras.datasets.mnist.load_data()"
   ]
  },
  {
   "cell_type": "code",
   "execution_count": null,
   "id": "e323d5a5-2342-4be9-89c0-d8a72db5c2ab",
   "metadata": {
    "tags": []
   },
   "outputs": [],
   "source": [
    "(X_train_full, y_train_full), (X_test, y_test) = digits_mnist"
   ]
  },
  {
   "cell_type": "code",
   "execution_count": null,
   "id": "b34430f5-ec34-4e56-b496-9dadba5360d2",
   "metadata": {
    "tags": []
   },
   "outputs": [],
   "source": [
    "X_train, y_train = X_train_full[:-5000], y_train_full[:-5000]\n",
    "X_valid, y_valid = X_train_full[-5000:], y_train_full[-5000:]"
   ]
  },
  {
   "cell_type": "code",
   "execution_count": null,
   "id": "aadf340c-af60-4891-a056-8bfc15c4dfbd",
   "metadata": {
    "tags": []
   },
   "outputs": [],
   "source": [
    "X_train.shape\n"
   ]
  },
  {
   "cell_type": "code",
   "execution_count": null,
   "id": "5a7f6513-248e-4232-9958-a1932bb7374e",
   "metadata": {
    "tags": []
   },
   "outputs": [],
   "source": [
    "X_train.dtype"
   ]
  },
  {
   "cell_type": "code",
   "execution_count": null,
   "id": "42159d3c-1cbc-49aa-8d97-7523b155c1ae",
   "metadata": {
    "tags": []
   },
   "outputs": [],
   "source": [
    "# scaling the pixel intensities\n",
    "X_train, X_valid, X_test = X_train / 255., X_valid / 255., X_test / 255.\n"
   ]
  },
  {
   "cell_type": "markdown",
   "id": "05a3e5f9-3fb7-42ff-951e-1c6fb959a44e",
   "metadata": {},
   "source": [
    "### Defining the model Architecture "
   ]
  },
  {
   "cell_type": "code",
   "execution_count": null,
   "id": "8c274c85-049a-4fb6-99d3-efc5539a6726",
   "metadata": {
    "tags": []
   },
   "outputs": [],
   "source": [
    "# defining the model (one way to do it) \n",
    "tf.random.set_seed(42)\n",
    "model = tf.keras.Sequential()\n",
    "model.add(tf.keras.layers.Input(shape=[28, 28]))\n",
    "model.add(tf.keras.layers.Flatten())\n",
    "model.add(tf.keras.layers.Dense(300, activation=\"relu\"))\n",
    "model.add(tf.keras.layers.Dense(100, activation=\"relu\"))\n",
    "model.add(tf.keras.layers.Dense(10, activation=\"softmax\"))"
   ]
  },
  {
   "cell_type": "code",
   "execution_count": null,
   "id": "d29a250c-8c1e-471e-946c-d4cbf8ef781f",
   "metadata": {},
   "outputs": [],
   "source": [
    "# same as above\n",
    "\n",
    "#model = tf.keras.Sequential([\n",
    "    #tf.keras.layers.Flatten(input_shape=[28, 28]),\n",
    "    #tf.keras.layers.Dense(300, activation=\"relu\"),\n",
    "    #tf.keras.layers.Dense(100, activation=\"relu\"),\n",
    "    #tf.keras.layers.Dense(10, activation=\"softmax\")\n",
    "#])"
   ]
  },
  {
   "cell_type": "markdown",
   "id": "d87fabe1-edea-4091-b5d4-a41aaf0d0b0e",
   "metadata": {},
   "source": [
    "### Displaying the model Architecture "
   ]
  },
  {
   "cell_type": "code",
   "execution_count": null,
   "id": "232ab032-9fab-4350-9f7b-0ce8fa249022",
   "metadata": {
    "tags": []
   },
   "outputs": [],
   "source": [
    "model.summary()"
   ]
  },
  {
   "cell_type": "markdown",
   "id": "b79ca656-3470-4826-b397-bc1c8aad5833",
   "metadata": {},
   "source": [
    "### Compiling the model "
   ]
  },
  {
   "cell_type": "code",
   "execution_count": null,
   "id": "de2d1741-1114-4d3a-8812-469e815cced9",
   "metadata": {
    "tags": []
   },
   "outputs": [],
   "source": [
    "model.compile(loss=\"sparse_categorical_crossentropy\",\n",
    "              optimizer=\"sgd\",\n",
    "              metrics=[\"accuracy\"])"
   ]
  },
  {
   "cell_type": "markdown",
   "id": "f7332283-9d9c-4159-b1f4-563a7e6dede4",
   "metadata": {},
   "source": [
    "### Saving and loading the model"
   ]
  },
  {
   "cell_type": "code",
   "execution_count": null,
   "id": "8217b67d-b60a-41b0-b2e4-c1d655b817cd",
   "metadata": {
    "tags": []
   },
   "outputs": [],
   "source": [
    "model.save(\"keras_digits_model\", save_format=\"tf\")\n"
   ]
  },
  {
   "cell_type": "code",
   "execution_count": null,
   "id": "b7c32b3a-5234-4213-bf96-764c2f287e07",
   "metadata": {
    "tags": []
   },
   "outputs": [],
   "source": [
    "# extra code – show the contents of the my_keras_model/ directory\n",
    "from pathlib import Path\n",
    "for path in sorted(Path(\"keras_digits_model\").glob(\"**/*\")):\n",
    "    print(path)"
   ]
  },
  {
   "cell_type": "code",
   "execution_count": null,
   "id": "7ac9be47-2451-413b-b834-9e44bae86211",
   "metadata": {
    "tags": []
   },
   "outputs": [],
   "source": [
    "model_load  = tf.keras.models.load_model(\"keras_digits_model\")"
   ]
  },
  {
   "cell_type": "markdown",
   "id": "7b0e1a19-4d06-43ef-82f7-bc589f10170e",
   "metadata": {},
   "source": [
    "### Model Callbacks"
   ]
  },
  {
   "cell_type": "code",
   "execution_count": null,
   "id": "d57dbfca-6a30-4dac-8284-5839cbe03598",
   "metadata": {
    "tags": []
   },
   "outputs": [],
   "source": [
    "checkpoint_cb = tf.keras.callbacks.ModelCheckpoint(\"my_mnist_model\", save_best_only=True)\n",
    "#history = model.fit(X_train, y_train, epochs=30,verbose =0, validation_data=(X_valid, y_valid), callbacks=[checkpoint_cb])"
   ]
  },
  {
   "cell_type": "code",
   "execution_count": null,
   "id": "154f9112-e591-4a79-99b6-ef9873c6ca5c",
   "metadata": {
    "tags": []
   },
   "outputs": [],
   "source": [
    "early_stopping_cb = tf.keras.callbacks.EarlyStopping(patience=10,\n",
    "                                                     restore_best_weights=True)\n",
    "history = model.fit(X_train, y_train, epochs=30,verbose =0, validation_data=(X_valid, y_valid), callbacks=[checkpoint_cb, early_stopping_cb])\n"
   ]
  },
  {
   "cell_type": "code",
   "execution_count": null,
   "id": "9df9ff11-d033-431a-b042-0860a0617861",
   "metadata": {
    "tags": []
   },
   "outputs": [],
   "source": [
    "model = tf.keras.models.load_model(\"my_mnist_model\") # rollback to best model\n",
    "model.evaluate(X_test, y_test)"
   ]
  },
  {
   "cell_type": "markdown",
   "id": "17e54e5d-d889-4a9f-bc09-64232bd169de",
   "metadata": {},
   "source": [
    "### Adding Batch Normalization "
   ]
  },
  {
   "cell_type": "code",
   "execution_count": null,
   "id": "2e689a68-08b5-4ad8-90be-14f4b25f657a",
   "metadata": {},
   "outputs": [],
   "source": [
    "model2 = tf.keras.Sequential([\n",
    "    tf.keras.layers.Flatten(input_shape=[28, 28]),\n",
    "    tf.keras.layers.BatchNormalization(),\n",
    "    tf.keras.layers.Dense(300, activation=\"relu\",\n",
    "                          kernel_initializer=\"he_normal\"),\n",
    "    tf.keras.layers.BatchNormalization(),\n",
    "    tf.keras.layers.Dense(100, activation=\"relu\",\n",
    "                          kernel_initializer=\"he_normal\"),\n",
    "    tf.keras.layers.BatchNormalization(),\n",
    "    tf.keras.layers.Dense(10, activation=\"softmax\")\n",
    "])"
   ]
  },
  {
   "cell_type": "code",
   "execution_count": null,
   "id": "92f97d6e-5895-4c83-b262-88b3117ea53f",
   "metadata": {},
   "outputs": [],
   "source": [
    "model.summary()"
   ]
  },
  {
   "cell_type": "markdown",
   "id": "a36385e3-c8be-47fc-a475-fdabb31fb590",
   "metadata": {},
   "source": [
    "### Adding BN layer before activation "
   ]
  },
  {
   "cell_type": "code",
   "execution_count": null,
   "id": "0187bab6-1d7c-4c86-a642-52544b3b3e13",
   "metadata": {},
   "outputs": [],
   "source": [
    "model = tf.keras.Sequential([\n",
    "    tf.keras.layers.Flatten(input_shape=[28, 28]),\n",
    "    tf.keras.layers.Dense(300, kernel_initializer=\"he_normal\", use_bias=False),\n",
    "    tf.keras.layers.BatchNormalization(),\n",
    "    tf.keras.layers.Activation(\"relu\"),\n",
    "    tf.keras.layers.Dense(100, kernel_initializer=\"he_normal\", use_bias=False),\n",
    "    tf.keras.layers.BatchNormalization(),\n",
    "    tf.keras.layers.Activation(\"relu\"),\n",
    "    tf.keras.layers.Dense(10, activation=\"softmax\")\n",
    "])"
   ]
  },
  {
   "cell_type": "markdown",
   "id": "d386dd16-2693-4713-8aaa-b3f8b1ac50a4",
   "metadata": {},
   "source": [
    "### Learning Rate Scheduler "
   ]
  },
  {
   "cell_type": "code",
   "execution_count": null,
   "id": "74cd5dde-7caa-4890-a86b-5286e9d9666a",
   "metadata": {},
   "outputs": [],
   "source": [
    "optimizer = tf.keras.optimizers.SGD(learning_rate=0.01, decay=1e-4)\n"
   ]
  },
  {
   "cell_type": "markdown",
   "id": "0f1d0d44-192b-4383-bf2f-58cf39a4c4ca",
   "metadata": {},
   "source": [
    "### layer with l2 regularization"
   ]
  },
  {
   "cell_type": "code",
   "execution_count": null,
   "id": "04f8abba-60b2-4075-8315-50d851cedf26",
   "metadata": {},
   "outputs": [],
   "source": [
    "layers.Dense(100, activation=\"relu\",\n",
    "                              kernel_initializer=\"he_normal\",\n",
    "                              kernel_regularizer=tf.keras.regularizers.l2(0.01))"
   ]
  },
  {
   "cell_type": "markdown",
   "id": "7d9e6f08-c103-4fb9-bca2-fb7a821e3b41",
   "metadata": {},
   "source": [
    "### Model with dropout"
   ]
  },
  {
   "cell_type": "code",
   "execution_count": null,
   "id": "2bd29f0a-d8fb-4bde-8b0e-6994c64792d6",
   "metadata": {},
   "outputs": [],
   "source": [
    "model = tf.keras.Sequential([\n",
    "    tf.keras.layers.Flatten(input_shape=[28, 28]),\n",
    "    tf.keras.layers.Dropout(rate=0.2),\n",
    "    tf.keras.layers.Dense(100, activation=\"relu\",\n",
    "                          kernel_initializer=\"he_normal\"),\n",
    "    tf.keras.layers.Dropout(rate=0.2),\n",
    "    tf.keras.layers.Dense(100, activation=\"relu\",\n",
    "                          kernel_initializer=\"he_normal\"),\n",
    "    tf.keras.layers.Dropout(rate=0.2),\n",
    "    tf.keras.layers.Dense(10, activation=\"softmax\")\n",
    "])"
   ]
  }
 ],
 "metadata": {
  "kernelspec": {
   "display_name": "Python 3 (ipykernel)",
   "language": "python",
   "name": "python3"
  },
  "language_info": {
   "codemirror_mode": {
    "name": "ipython",
    "version": 3
   },
   "file_extension": ".py",
   "mimetype": "text/x-python",
   "name": "python",
   "nbconvert_exporter": "python",
   "pygments_lexer": "ipython3",
   "version": "3.9.12"
  }
 },
 "nbformat": 4,
 "nbformat_minor": 5
}
