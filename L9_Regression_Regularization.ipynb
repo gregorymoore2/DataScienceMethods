{
 "cells": [
  {
   "cell_type": "code",
   "execution_count": null,
   "id": "4bd044f6-6f3d-48ec-af9d-8706dd5ad9d9",
   "metadata": {
    "tags": []
   },
   "outputs": [],
   "source": [
    "import numpy as np\n",
    "import matplotlib.pyplot as plt\n",
    "import pandas as pd\n",
    "from sklearn import datasets, linear_model\n",
    "from sklearn.datasets import load_iris\n",
    "from sklearn.datasets import make_regression\n",
    "from sklearn.metrics import mean_squared_error, r2_score\n",
    "from sklearn.model_selection import train_test_split"
   ]
  },
  {
   "cell_type": "markdown",
   "id": "ed567879-8d17-4f5a-8d80-a50bce4ab386",
   "metadata": {},
   "source": [
    "## data and true fit"
   ]
  },
  {
   "cell_type": "code",
   "execution_count": null,
   "id": "e5c295d4-300f-4b49-bd58-49dfdf01eb62",
   "metadata": {
    "tags": []
   },
   "outputs": [],
   "source": [
    "np.random.seed(42)  # to make this code example reproducible\n",
    "m = 100  # number of instances\n",
    "X = np.random.rand(m, 1)  # column vector\n",
    "y =  1+ 2 * X + np.random.randn(m, 1)  # column vector"
   ]
  },
  {
   "cell_type": "code",
   "execution_count": null,
   "id": "58cbfc94-0078-4629-bf7e-403de1e47a67",
   "metadata": {
    "tags": []
   },
   "outputs": [],
   "source": [
    "from sklearn.preprocessing import add_dummy_feature\n",
    "# the above function add x0 = 1 to your instances \n",
    "##### one line of code here ##### \n"
   ]
  },
  {
   "cell_type": "code",
   "execution_count": null,
   "id": "68d4a87a-2504-4956-bf16-75737c7b46c3",
   "metadata": {},
   "outputs": [],
   "source": [
    "### use least squares way to calculate your best parameters\n",
    "\n",
    "## theta_best = your code ###"
   ]
  },
  {
   "cell_type": "code",
   "execution_count": null,
   "id": "36544984-5933-46df-9b4c-ca3254179b93",
   "metadata": {},
   "outputs": [],
   "source": [
    "# print theta_best"
   ]
  },
  {
   "cell_type": "code",
   "execution_count": null,
   "id": "2bdf14d7-54c1-41ce-a757-84309d8fef4a",
   "metadata": {
    "tags": []
   },
   "outputs": [],
   "source": [
    "# make a prediction\n",
    "X_new = np.array ([[0]],[[1]])"
   ]
  },
  {
   "cell_type": "code",
   "execution_count": null,
   "id": "f64eaa98-15db-456a-9adc-9396be65a8fe",
   "metadata": {
    "tags": []
   },
   "outputs": [],
   "source": [
    "# plot the predictions and your data points "
   ]
  },
  {
   "cell_type": "code",
   "execution_count": null,
   "id": "3e301b79-01db-4d55-8bf7-8cb65cfd089a",
   "metadata": {
    "tags": []
   },
   "outputs": [],
   "source": [
    "from sklearn.linear_model import LinearRegression\n",
    "#fit a linear regression model and print the coefficients (look at sklearn documentation)\n",
    "## lin_reg = your code ### "
   ]
  },
  {
   "cell_type": "code",
   "execution_count": null,
   "id": "594544b6-2704-4d62-a052-d1f87f0f886d",
   "metadata": {
    "tags": []
   },
   "outputs": [],
   "source": [
    "# predict using linear and X_new as provided before "
   ]
  },
  {
   "cell_type": "code",
   "execution_count": null,
   "id": "460744da-5871-4629-9e5d-87cbde5f2d5b",
   "metadata": {
    "tags": []
   },
   "outputs": [],
   "source": [
    "# gradient descent\n",
    "r = 0.1  # learning rate\n",
    "n_epochs = 1000\n",
    "np.random.seed(42)\n",
    " # randomly initialized model parameters\n",
    "\n",
    "for epoch in range(n_epochs):\n",
    "    # Your code here "
   ]
  },
  {
   "cell_type": "code",
   "execution_count": null,
   "id": "4afa4727-799d-4447-94dc-fd3da5715ace",
   "metadata": {
    "tags": []
   },
   "outputs": [],
   "source": [
    "#print theta computed from gradient descent "
   ]
  },
  {
   "cell_type": "code",
   "execution_count": null,
   "id": "edd24140-922e-4f02-9018-cf9707691563",
   "metadata": {},
   "outputs": [],
   "source": []
  }
 ],
 "metadata": {
  "kernelspec": {
   "display_name": "Python 3 (ipykernel)",
   "language": "python",
   "name": "python3"
  },
  "language_info": {
   "codemirror_mode": {
    "name": "ipython",
    "version": 3
   },
   "file_extension": ".py",
   "mimetype": "text/x-python",
   "name": "python",
   "nbconvert_exporter": "python",
   "pygments_lexer": "ipython3",
   "version": "3.10.10"
  }
 },
 "nbformat": 4,
 "nbformat_minor": 5
}
