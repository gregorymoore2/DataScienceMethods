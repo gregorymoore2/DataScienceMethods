{
 "cells": [
  {
   "cell_type": "code",
   "execution_count": 38,
   "id": "7447bdd6-80ff-4a40-a49b-60cb8dbe3e26",
   "metadata": {
    "tags": []
   },
   "outputs": [],
   "source": [
    "# first step is to import all the desired packages \n",
    "import numpy as np"
   ]
  },
  {
   "cell_type": "markdown",
   "id": "e5290a70-de33-4b75-84c9-9c2aec899f46",
   "metadata": {
    "tags": []
   },
   "source": [
    "# Defining Variables"
   ]
  },
  {
   "cell_type": "code",
   "execution_count": 10,
   "id": "69b0e23b-3b97-4354-84ee-9a03ee30f2a8",
   "metadata": {
    "tags": []
   },
   "outputs": [],
   "source": [
    "# how to define variables\n",
    "course_code = 545"
   ]
  },
  {
   "cell_type": "code",
   "execution_count": 5,
   "id": "8afea901-8262-4a9d-8c3f-d748cc719a54",
   "metadata": {
    "tags": []
   },
   "outputs": [],
   "source": [
    "# mathematical operations\n",
    "Students = 42 # 36 in chemical engineering, 2 in chemistry and 4 in MSE\n",
    "team_size = 3 \n",
    "num_groups = np.divide(Students, team_size)\n"
   ]
  },
  {
   "cell_type": "code",
   "execution_count": 7,
   "id": "aeb4ab16-662a-46ab-a056-24e4ad02b286",
   "metadata": {
    "tags": []
   },
   "outputs": [
    {
     "name": "stdout",
     "output_type": "stream",
     "text": [
      "total number of groups in the course is  14.0\n"
     ]
    }
   ],
   "source": [
    "print('total number of groups in the course is ',num_groups)"
   ]
  },
  {
   "cell_type": "code",
   "execution_count": 8,
   "id": "e37c5cf6-5a3f-40f5-948e-3419c9a4d88e",
   "metadata": {
    "tags": []
   },
   "outputs": [
    {
     "name": "stdout",
     "output_type": "stream",
     "text": [
      "total number of groups in the course is  14\n"
     ]
    }
   ],
   "source": [
    "print('total number of groups in the course is ',int(num_groups))"
   ]
  },
  {
   "cell_type": "code",
   "execution_count": 11,
   "id": "55f1d821-8550-4554-97ae-256dcc2fb5e2",
   "metadata": {
    "tags": []
   },
   "outputs": [
    {
     "name": "stdout",
     "output_type": "stream",
     "text": [
      "the name of this course is CHEM E 545\n"
     ]
    }
   ],
   "source": [
    "print('the name of this course is CHEM E', course_code)"
   ]
  },
  {
   "cell_type": "code",
   "execution_count": 12,
   "id": "54453832-c708-4639-bf01-3b2a98823174",
   "metadata": {
    "tags": []
   },
   "outputs": [
    {
     "name": "stdout",
     "output_type": "stream",
     "text": [
      "total number of students in this course is 42\n"
     ]
    }
   ],
   "source": [
    "print('total number of students in this course is', 36+2+4)"
   ]
  },
  {
   "cell_type": "code",
   "execution_count": 15,
   "id": "e2b14989-1418-496d-82de-2e1965063e95",
   "metadata": {
    "tags": []
   },
   "outputs": [
    {
     "name": "stdout",
     "output_type": "stream",
     "text": [
      "total number of students in this course is 42.0\n"
     ]
    }
   ],
   "source": [
    "print('total number of students in this course is', num_groups*team_size)"
   ]
  },
  {
   "cell_type": "code",
   "execution_count": 16,
   "id": "11a2dfdb-8a02-4ffc-b506-3bd1cbfd39d0",
   "metadata": {
    "tags": []
   },
   "outputs": [
    {
     "name": "stdout",
     "output_type": "stream",
     "text": [
      "total number of students in this course is 42.0\n"
     ]
    }
   ],
   "source": [
    "print('total number of students in this course is', np.multiply(num_groups,team_size))"
   ]
  },
  {
   "cell_type": "markdown",
   "id": "81463bdd-c833-46f3-881e-ebb341af08ed",
   "metadata": {},
   "source": []
  },
  {
   "cell_type": "raw",
   "id": "3a4efbd2-b458-46bc-b5e3-d3f658cdb6fd",
   "metadata": {},
   "source": []
  },
  {
   "cell_type": "markdown",
   "id": "bf17ab9b-98d4-486c-b876-db06791e9647",
   "metadata": {},
   "source": [
    "## Exploring More Specialized Arithmetic\n",
    "\n",
    "Some other useful operators are ``//``, ``%``, and ``**``."
   ]
  },
  {
   "cell_type": "markdown",
   "id": "fe8deeb9-6c45-4304-ad63-a77bc375fc88",
   "metadata": {},
   "source": [
    "# Order of Operations\n",
    "![operations](operations_order_new.png)"
   ]
  },
  {
   "cell_type": "markdown",
   "id": "8e2706cb-3242-46d5-9001-248a24ae81cb",
   "metadata": {
    "tags": []
   },
   "source": [
    "# Data Structures in Python"
   ]
  },
  {
   "cell_type": "markdown",
   "id": "39e3017b-1966-4e8e-851d-3171b521f80f",
   "metadata": {},
   "source": [
    "### Numbers "
   ]
  },
  {
   "cell_type": "code",
   "execution_count": 4,
   "id": "61a25e8f-2ee2-460c-a3b8-31e00b7b6e80",
   "metadata": {},
   "outputs": [
    {
     "name": "stdout",
     "output_type": "stream",
     "text": [
      "x is a:   <class 'int'>\n",
      "x_1 is a:   <class 'float'>\n"
     ]
    }
   ],
   "source": [
    "x = 1 \n",
    "y = -12 \n",
    "x_1 = 0.2\n",
    "y_1 = -20.2\n",
    "print(\"x is a:  \", type(x))\n",
    "print(\"x_1 is a:  \", type(x_1))"
   ]
  },
  {
   "cell_type": "markdown",
   "id": "e9a3c730-b51b-48f6-8e36-26323af9bb0c",
   "metadata": {},
   "source": [
    "### Strings"
   ]
  },
  {
   "cell_type": "code",
   "execution_count": 6,
   "id": "8f5fc0eb-dc3f-4af8-86cf-d2a2dff6fc4d",
   "metadata": {
    "tags": []
   },
   "outputs": [],
   "source": [
    "name = 'Benson Hall'\n",
    "address = '3781 Okanogan Lane'\n"
   ]
  },
  {
   "cell_type": "code",
   "execution_count": 2,
   "id": "f56b3bad-a385-4a8b-b62c-1065671f50db",
   "metadata": {
    "tags": []
   },
   "outputs": [
    {
     "data": {
      "text/plain": [
       "'B'"
      ]
     },
     "execution_count": 2,
     "metadata": {},
     "output_type": "execute_result"
    }
   ],
   "source": [
    "name[0]\n"
   ]
  },
  {
   "cell_type": "code",
   "execution_count": 3,
   "id": "88e93a49-dfb2-47f6-9b26-c06aef330c91",
   "metadata": {
    "tags": []
   },
   "outputs": [
    {
     "data": {
      "text/plain": [
       "11"
      ]
     },
     "execution_count": 3,
     "metadata": {},
     "output_type": "execute_result"
    }
   ],
   "source": [
    "len(name)"
   ]
  },
  {
   "cell_type": "code",
   "execution_count": 10,
   "id": "ce4d2b2e-d655-4c39-829e-0a175d80fc4e",
   "metadata": {
    "tags": []
   },
   "outputs": [
    {
     "data": {
      "text/plain": [
       "'3781 '"
      ]
     },
     "execution_count": 10,
     "metadata": {},
     "output_type": "execute_result"
    }
   ],
   "source": [
    "# slicing lists\n",
    "address[0:5]"
   ]
  },
  {
   "cell_type": "code",
   "execution_count": null,
   "id": "7be2ffa8-d9e2-424b-937b-557d13954ad0",
   "metadata": {},
   "outputs": [],
   "source": [
    "#cannot modify a particular element\n",
    "address[2] = 4"
   ]
  },
  {
   "cell_type": "code",
   "execution_count": 15,
   "id": "0dd923f7-ab47-4cd6-919b-c252dd59ab83",
   "metadata": {
    "tags": []
   },
   "outputs": [
    {
     "name": "stdout",
     "output_type": "stream",
     "text": [
      "3781 Okanogan Lane,Benson Hall\n"
     ]
    }
   ],
   "source": [
    "# concatenation \n",
    "Full_address = address + ',' + name\n",
    "print(Full_address)"
   ]
  },
  {
   "cell_type": "code",
   "execution_count": 3,
   "id": "d8a4756a-02b8-435a-9b45-216b6a188d92",
   "metadata": {
    "tags": []
   },
   "outputs": [
    {
     "data": {
      "text/plain": [
       "'red'"
      ]
     },
     "execution_count": 3,
     "metadata": {},
     "output_type": "execute_result"
    }
   ],
   "source": [
    "Colors = 'red_blue'\n",
    "Colors[0:3] "
   ]
  },
  {
   "cell_type": "markdown",
   "id": "7290abe1-d7fc-4c58-af9d-ef4f545c3941",
   "metadata": {},
   "source": [
    "### Tuples"
   ]
  },
  {
   "cell_type": "code",
   "execution_count": 17,
   "id": "ae6ab0ae-b114-4a7e-ae77-822bfc6c9134",
   "metadata": {
    "tags": []
   },
   "outputs": [],
   "source": [
    "x = (1,2,3,4,5)\n",
    "z = (5,'john',17.5)"
   ]
  },
  {
   "cell_type": "code",
   "execution_count": 18,
   "id": "de0674c8-b88a-4948-ae23-53f27caa2085",
   "metadata": {
    "tags": []
   },
   "outputs": [
    {
     "data": {
      "text/plain": [
       "tuple"
      ]
     },
     "execution_count": 18,
     "metadata": {},
     "output_type": "execute_result"
    }
   ],
   "source": [
    "type(z)"
   ]
  },
  {
   "cell_type": "code",
   "execution_count": 19,
   "id": "dd24523f-696d-455c-acea-69ffe52ffb3b",
   "metadata": {
    "tags": []
   },
   "outputs": [
    {
     "data": {
      "text/plain": [
       "17.5"
      ]
     },
     "execution_count": 19,
     "metadata": {},
     "output_type": "execute_result"
    }
   ],
   "source": [
    "z[2] # indexing in python starts from zero "
   ]
  },
  {
   "cell_type": "code",
   "execution_count": 26,
   "id": "7b388bd1-69b0-48bf-8b9a-cd0c0cfa617b",
   "metadata": {
    "tags": []
   },
   "outputs": [
    {
     "data": {
      "text/plain": [
       "3"
      ]
     },
     "execution_count": 26,
     "metadata": {},
     "output_type": "execute_result"
    }
   ],
   "source": [
    "len(z) # gives you the number of elements in a particular list "
   ]
  },
  {
   "cell_type": "code",
   "execution_count": 22,
   "id": "69064996-4243-4915-861c-9e18da2ff9f9",
   "metadata": {
    "tags": []
   },
   "outputs": [
    {
     "ename": "TypeError",
     "evalue": "'tuple' object does not support item assignment",
     "output_type": "error",
     "traceback": [
      "\u001b[0;31m---------------------------------------------------------------------------\u001b[0m",
      "\u001b[0;31mTypeError\u001b[0m                                 Traceback (most recent call last)",
      "Cell \u001b[0;32mIn[22], line 2\u001b[0m\n\u001b[1;32m      1\u001b[0m \u001b[38;5;66;03m#cannot modify a particular element in place\u001b[39;00m\n\u001b[0;32m----> 2\u001b[0m \u001b[43mz\u001b[49m\u001b[43m[\u001b[49m\u001b[38;5;241;43m2\u001b[39;49m\u001b[43m]\u001b[49m \u001b[38;5;241m=\u001b[39m \u001b[38;5;241m10\u001b[39m\n",
      "\u001b[0;31mTypeError\u001b[0m: 'tuple' object does not support item assignment"
     ]
    }
   ],
   "source": [
    "#cannot modify a particular element in place\n",
    "z[2] = 10"
   ]
  },
  {
   "cell_type": "code",
   "execution_count": 6,
   "id": "a63ea4dc-717b-476c-a044-871d5dcd34a6",
   "metadata": {
    "tags": []
   },
   "outputs": [],
   "source": [
    "#tuple packing and unpacking\n",
    "student_record = ('Parker', 'Jim', 1980, 'Math 550', 'C+', 'Cpsc 302', 'A+')\n",
    "\n",
    "(fname, lname, year, cmin, gmin, cmax, gmax) = student_record\n"
   ]
  },
  {
   "cell_type": "markdown",
   "id": "90a80e0d-b101-4009-86b5-ffd71d83f61b",
   "metadata": {},
   "source": [
    "### Lists"
   ]
  },
  {
   "cell_type": "code",
   "execution_count": 24,
   "id": "25ca7bfb-be93-451e-ba2a-ee931f43d427",
   "metadata": {
    "tags": []
   },
   "outputs": [],
   "source": [
    "z_list = [5,'john',17.5]"
   ]
  },
  {
   "cell_type": "code",
   "execution_count": 25,
   "id": "c985a766-c5f7-4558-a702-f7a62420d9e1",
   "metadata": {
    "tags": []
   },
   "outputs": [
    {
     "data": {
      "text/plain": [
       "3"
      ]
     },
     "execution_count": 25,
     "metadata": {},
     "output_type": "execute_result"
    }
   ],
   "source": [
    "len(z_list)"
   ]
  },
  {
   "cell_type": "code",
   "execution_count": 27,
   "id": "e1159d0a-d7a8-4257-8480-10b4a8508ccf",
   "metadata": {
    "tags": []
   },
   "outputs": [],
   "source": [
    "#can modify elements\n",
    "z_list[2] = 10"
   ]
  },
  {
   "cell_type": "code",
   "execution_count": 28,
   "id": "b781230d-bb44-4675-892e-4d9f5d2297bd",
   "metadata": {
    "tags": []
   },
   "outputs": [
    {
     "data": {
      "text/plain": [
       "[5, 'john', 10]"
      ]
     },
     "execution_count": 28,
     "metadata": {},
     "output_type": "execute_result"
    }
   ],
   "source": [
    "z_list"
   ]
  },
  {
   "cell_type": "code",
   "execution_count": 29,
   "id": "3d6b4464-13b0-4c92-8bcb-2b96af4362a3",
   "metadata": {
    "tags": []
   },
   "outputs": [
    {
     "data": {
      "text/plain": [
       "[5, 'john']"
      ]
     },
     "execution_count": 29,
     "metadata": {},
     "output_type": "execute_result"
    }
   ],
   "source": [
    "#slicing\n",
    "z_list[0:2]"
   ]
  },
  {
   "cell_type": "code",
   "execution_count": 31,
   "id": "7f601033-4a9c-4838-8d9d-9f1e5568f9af",
   "metadata": {
    "tags": []
   },
   "outputs": [
    {
     "data": {
      "text/plain": [
       "[5, 'john', 10, 1, 2, 3, 4]"
      ]
     },
     "execution_count": 31,
     "metadata": {},
     "output_type": "execute_result"
    }
   ],
   "source": [
    "#lists can be concatenated \n",
    "x_list = [1,2,3,4]\n",
    "new_list = z_list + x_list\n",
    "new_list"
   ]
  },
  {
   "cell_type": "markdown",
   "id": "94737b88-a749-4faa-9a5c-c426c84cc08b",
   "metadata": {},
   "source": [
    "### List Comprehensions"
   ]
  },
  {
   "cell_type": "code",
   "execution_count": 34,
   "id": "05cbc5ba-b4ef-4e50-822e-9b75d000aa84",
   "metadata": {
    "tags": []
   },
   "outputs": [
    {
     "name": "stdout",
     "output_type": "stream",
     "text": [
      "[0, 1, 4, 9, 16, 25, 36, 49, 64, 81]\n"
     ]
    }
   ],
   "source": [
    "t = []\n",
    "for i in range(0,10):\n",
    "    t = t + [i*i]\n",
    "print (t)\n"
   ]
  },
  {
   "cell_type": "code",
   "execution_count": 36,
   "id": "9627bb29-c417-47a4-bd8d-54d0649a75e4",
   "metadata": {
    "tags": []
   },
   "outputs": [
    {
     "name": "stdout",
     "output_type": "stream",
     "text": [
      "[0, 1, 4, 9, 16, 25, 36, 49, 64, 81]\n"
     ]
    }
   ],
   "source": [
    "tt = [i**2 for i in range(10)]\n",
    "print(tt)"
   ]
  },
  {
   "cell_type": "markdown",
   "id": "4e704271-c3eb-4ccf-95d5-4e05c4e1c4e0",
   "metadata": {},
   "source": [
    "### Numpy Arrays"
   ]
  },
  {
   "cell_type": "code",
   "execution_count": 39,
   "id": "fd5467e0-514d-4cfa-97da-3376a5e6d236",
   "metadata": {
    "tags": []
   },
   "outputs": [
    {
     "name": "stdout",
     "output_type": "stream",
     "text": [
      "the last element is  5\n"
     ]
    }
   ],
   "source": [
    "#ndarrays\n",
    "# creating an array\n",
    "x = np.array([1,2,3,4,5])\n",
    "\n",
    "# accessing elements\n",
    "#second_element = x[1]\n",
    "print(\"the last element is \",x[-1])"
   ]
  },
  {
   "cell_type": "code",
   "execution_count": 40,
   "id": "6f36c177-6619-45da-8a6c-922a4906ca46",
   "metadata": {
    "tags": []
   },
   "outputs": [
    {
     "data": {
      "text/plain": [
       "(1, 5)"
      ]
     },
     "execution_count": 40,
     "metadata": {},
     "output_type": "execute_result"
    }
   ],
   "source": [
    "z = np.ones((1,5))\n",
    "z.shape"
   ]
  },
  {
   "cell_type": "code",
   "execution_count": 41,
   "id": "b30b311a-e5c6-412e-a1c0-b3049fbb5ed2",
   "metadata": {
    "tags": []
   },
   "outputs": [
    {
     "data": {
      "text/plain": [
       "(3,)"
      ]
     },
     "execution_count": 41,
     "metadata": {},
     "output_type": "execute_result"
    }
   ],
   "source": [
    "x = np.ones(3)\n",
    "x.shape"
   ]
  },
  {
   "cell_type": "markdown",
   "id": "0d1affc9-a0c7-4e82-84de-fadcaea4a845",
   "metadata": {},
   "source": [
    "### Dictionary"
   ]
  },
  {
   "cell_type": "code",
   "execution_count": 44,
   "id": "c93b931e-300d-49ce-b7c8-5cccb4fdeea1",
   "metadata": {
    "tags": []
   },
   "outputs": [],
   "source": [
    "# empty dictionary\n",
    "my_dict = {}\n",
    "# dictionary with integer keys\n",
    "my_dict = {1: 'apple', 2: 'ball'}\n",
    "\n"
   ]
  },
  {
   "cell_type": "code",
   "execution_count": 47,
   "id": "12198aec-118b-46fb-847e-91f879579bb6",
   "metadata": {
    "tags": []
   },
   "outputs": [
    {
     "data": {
      "text/plain": [
       "'John'"
      ]
     },
     "execution_count": 47,
     "metadata": {},
     "output_type": "execute_result"
    }
   ],
   "source": [
    "# dictionary with mixed keys\n",
    "my_dict = {'name': 'John', 1: [2, 4, 3]}\n",
    "#Accessing values using keys\n",
    "my_dict['name']"
   ]
  },
  {
   "cell_type": "markdown",
   "id": "3f3292d7-b44b-45a4-a2d9-c2f88f62bde8",
   "metadata": {},
   "source": [
    "### Dict Comprehensions"
   ]
  },
  {
   "cell_type": "code",
   "execution_count": 48,
   "id": "05d383e4-c1d1-499f-b8e0-d611e4c5c3e9",
   "metadata": {
    "tags": []
   },
   "outputs": [
    {
     "name": "stdout",
     "output_type": "stream",
     "text": [
      "{0: 0, 1: 1, 2: 4, 3: 9, 4: 16, 5: 25, 6: 36, 7: 49, 8: 64, 9: 81}\n"
     ]
    }
   ],
   "source": [
    "tt_dict = {i:i**2 for i in range(10)}\n",
    "print(tt_dict)"
   ]
  },
  {
   "cell_type": "code",
   "execution_count": 72,
   "id": "a4beb48a-1c1c-413a-98ef-adc3ab9606c0",
   "metadata": {},
   "outputs": [
    {
     "name": "stdout",
     "output_type": "stream",
     "text": [
      "large number\n",
      "outside the loop\n"
     ]
    }
   ],
   "source": [
    "# conditional statements (if-else)\n",
    "x = 11\n",
    "if x<10:\n",
    "    print(\"small number\")\n",
    "else:\n",
    "    print(\"large number\")\n",
    "print ('outside the loop')"
   ]
  },
  {
   "cell_type": "code",
   "execution_count": 29,
   "id": "362c1e81-aa1f-48ca-8911-1c9233f64dfe",
   "metadata": {},
   "outputs": [
    {
     "name": "stdout",
     "output_type": "stream",
     "text": [
      "0\n",
      "1\n",
      "2\n",
      "3\n",
      "4\n",
      "5\n"
     ]
    }
   ],
   "source": [
    "# for loops\n",
    "for i in range(6):\n",
    "    print(i)"
   ]
  },
  {
   "cell_type": "code",
   "execution_count": 30,
   "id": "ab526832-10c4-4895-a5da-dfad97bcf997",
   "metadata": {},
   "outputs": [
    {
     "name": "stdout",
     "output_type": "stream",
     "text": [
      "red apple\n",
      "red banana\n",
      "red cherry\n",
      "tart apple\n",
      "tart banana\n",
      "tart cherry\n",
      "sweet apple\n",
      "sweet banana\n",
      "sweet cherry\n"
     ]
    }
   ],
   "source": [
    "adj = [\"red\",\"tart\",\"sweet\"]\n",
    "fruits = [\"apple\",\"banana\",\"cherry\"]\n",
    "for x in adj:\n",
    "    for y in fruits:\n",
    "        print(x,y)"
   ]
  },
  {
   "cell_type": "code",
   "execution_count": null,
   "id": "945370dd-6861-42b3-ab3d-8b8a778f4861",
   "metadata": {},
   "outputs": [],
   "source": []
  }
 ],
 "metadata": {
  "kernelspec": {
   "display_name": "Python 3 (ipykernel)",
   "language": "python",
   "name": "python3"
  },
  "language_info": {
   "codemirror_mode": {
    "name": "ipython",
    "version": 3
   },
   "file_extension": ".py",
   "mimetype": "text/x-python",
   "name": "python",
   "nbconvert_exporter": "python",
   "pygments_lexer": "ipython3",
   "version": "3.10.10"
  }
 },
 "nbformat": 4,
 "nbformat_minor": 5
}
