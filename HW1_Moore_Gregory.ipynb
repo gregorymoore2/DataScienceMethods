{
 "cells": [
  {
   "cell_type": "markdown",
   "id": "31248c73-4237-4825-90dc-6868e86f5da4",
   "metadata": {},
   "source": [
    "## HW 1 ( 30 points)"
   ]
  },
  {
   "cell_type": "markdown",
   "id": "78957f83-fa97-4d36-ae0b-2f5331f91fc7",
   "metadata": {},
   "source": [
    "#### Submit your homework as a. ipynb file. Use the format 'HW1_LastName_FirstName.ipynb'. If there are no comments/markdown describing what you have done, your work will not be graded. Follow the code of conduct. "
   ]
  },
  {
   "cell_type": "markdown",
   "id": "5e3c0416-838e-4b72-8851-92d9e788e810",
   "metadata": {},
   "source": [
    "### Question 1 (15 points)"
   ]
  },
  {
   "cell_type": "markdown",
   "id": "8afb4315-0c70-4aa5-aaca-db1b615a927e",
   "metadata": {},
   "source": [
    "You are given a list and a dictionary. For the elements in the list that are same as the keys in the dictionary, replace those elements in the list with 'cheme' + the nth element of the value corresponding to that particular key in the dictionary. \n",
    "\n",
    "course_list = ['unit-operations','clean-energy','thermodynamics','math','data-science'] <br/>\n",
    "course_code = {'unit-operations': [510,410,310], 'thermodynamics':[375,475,575], 'data-science':[345,445,545]} <br/>\n",
    "for n = 2, the output list should be printed:<br/>\n",
    "output_list = ['cheme310','clean-energy','cheme575','math','cheme545']"
   ]
  },
  {
   "cell_type": "code",
   "execution_count": 1,
   "id": "bc79a14c-736d-43d0-99e9-15305807ae70",
   "metadata": {
    "tags": []
   },
   "outputs": [],
   "source": [
    "course_list = ['unit-operations','clean-energy','thermodynamics','math','data-science']\n",
    "course_code = {'unit-operations': [510,410,310], 'thermodynamics':[375,475,575], 'data-science':[345,445,545]}\n"
   ]
  },
  {
   "cell_type": "code",
   "execution_count": 111,
   "id": "4067e851-1339-4c09-8040-66c4a5117e45",
   "metadata": {
    "tags": []
   },
   "outputs": [
    {
     "name": "stdout",
     "output_type": "stream",
     "text": [
      "N is 0\n",
      "['cheme510', 'clean-energy', 'cheme375', 'math', 'cheme345']\n",
      "N is 1\n",
      "['cheme410', 'clean-energy', 'cheme475', 'math', 'cheme445']\n",
      "N is 2\n",
      "['cheme310', 'clean-energy', 'cheme575', 'math', 'cheme545']\n"
     ]
    }
   ],
   "source": [
    "for n in range(0,3): #iterating over 0,1,2 for the elements in the list of the course_code list values\n",
    "    print(\"N is \" + str(n)) #for clarity, start the loop by printing what N it is on \n",
    "    output_list = [0]*len(course_list) #generate an output list of 0s of length 5, (course_list length) \n",
    "    for i in range(0,len(course_list)):\n",
    "        if course_list[i] in course_code:\n",
    "            output_list[i] = \"cheme\" + str(course_code[str(course_list[i])][n])\n",
    "            #If the i-th element of course_list is present in course_code, assign the i-th element of output_list to \"cheme\" + the n-th element in the list\n",
    "            #of the i-th key in the dict\n",
    "        else:\n",
    "            output_list[i] = course_list[i]\n",
    "            #Otherwise if it is not present, outputlist[i] will just be assigned to course_list[i] and the loop will continue\n",
    "    print(output_list)"
   ]
  },
  {
   "cell_type": "markdown",
   "id": "1efd46aa-7454-41f8-927c-f3cecd7d5d2e",
   "metadata": {
    "tags": []
   },
   "source": [
    "### Question 2 (15 points)"
   ]
  },
  {
   "cell_type": "markdown",
   "id": "2b307912-0fe6-45c9-b3b9-5a16057e9aac",
   "metadata": {},
   "source": [
    "Write a function that takes in a string and returns a reversed copy of the string.\tThe only string operation you are allowed to use is string concatenation.  </br>a) without recursion </br>\n",
    "b) using recursion </br> "
   ]
  },
  {
   "cell_type": "code",
   "execution_count": 114,
   "id": "72313142-ae9d-4947-a893-5a9606536ba8",
   "metadata": {},
   "outputs": [
    {
     "name": "stdout",
     "output_type": "stream",
     "text": [
      "gnirtS tseT\n"
     ]
    }
   ],
   "source": [
    "#2a\n",
    "string_in = 'Test String'\n",
    "string_backwards = ''\n",
    "\n",
    "for i in range(len(string_in)):\n",
    "    string_backwards = string_in[i] + string_backwards\n",
    "print(string_backwards)\n",
    "\n",
    "#create a blank string variable called string_backwards\n",
    "#Use a for loop to iterate over the length of the input string\n",
    "#Update string_backwards by concatenating the i-th term of the input string to the beginning of the backwards string\n",
    "#for example for the word test: string_backwards start as '', then after one interation becomes 't' then gets resassigned as 'e' + 't' -> 'et' and so on \n",
    "#The for loop will go for the entire length of the input string and once it is finished it will print the backwards string"
   ]
  },
  {
   "cell_type": "code",
   "execution_count": 115,
   "id": "e7a0f763-8568-4ebe-9352-c8b37cc22a49",
   "metadata": {},
   "outputs": [
    {
     "data": {
      "text/plain": [
       "'krowemoHtsriF'"
      ]
     },
     "execution_count": 115,
     "metadata": {},
     "output_type": "execute_result"
    }
   ],
   "source": [
    "#2b\n",
    "def string_reverser(string):\n",
    "    if string == '':\n",
    "        return string\n",
    "    else:\n",
    "        reverse_string = string_reverser(string[1:]) + string[0]\n",
    "        return(reverse_string)\n",
    "\n",
    "string_reverser('FirstHomework')\n",
    "\n",
    "#Define a function called string_reverser\n",
    "#if the string is blank, then return the string because a blank string is already its own reverse\n",
    "#otherwise assign reverse_string variable to the string_reverser function of string[1:] + the first element of the string\n",
    "#string[1:] represents the string from the First (not Zeroth) character to the last\n",
    "#by passing string[1:] into the string_reverser function we are sending a shorter and shorter string into the function \n",
    "#and each time taking the new 0th element of the string and adding it on to the end \n",
    "#ex with 'test'  string[0] is 't', string[1:] is 'est', new string becomes 'est' so string[0] is 'e' and string[1:] is 'st'"
   ]
  },
  {
   "cell_type": "code",
   "execution_count": 96,
   "id": "88dbdc5a-1068-47d8-b69a-e8cb9a29ad80",
   "metadata": {
    "tags": []
   },
   "outputs": [],
   "source": [
    "#2b scratch work\n",
    "# string = 'test'\n",
    "\n",
    "# def string_reverser(string):\n",
    "#     if string == '':\n",
    "#         print('string is blank')\n",
    "#         return string\n",
    "#     else:\n",
    "#         print('string is ' + string)\n",
    "#         print('string[0] before operation is ' + string[0])\n",
    "#         print('string[1:] is ' + string[1:])\n",
    "#         reverse_string = string_reverser(string[1:]) + string[0]\n",
    "#         print('string[0] after operation is ' + string[0])\n",
    "#         return(reverse_string)\n",
    "\n",
    "# string_reverser(string)"
   ]
  }
 ],
 "metadata": {
  "kernelspec": {
   "display_name": "Python 3 (ipykernel)",
   "language": "python",
   "name": "python3"
  },
  "language_info": {
   "codemirror_mode": {
    "name": "ipython",
    "version": 3
   },
   "file_extension": ".py",
   "mimetype": "text/x-python",
   "name": "python",
   "nbconvert_exporter": "python",
   "pygments_lexer": "ipython3",
   "version": "3.10.10"
  }
 },
 "nbformat": 4,
 "nbformat_minor": 5
}
