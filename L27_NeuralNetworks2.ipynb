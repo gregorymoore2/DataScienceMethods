{
 "cells": [
  {
   "cell_type": "code",
   "execution_count": 37,
   "id": "4bd044f6-6f3d-48ec-af9d-8706dd5ad9d9",
   "metadata": {
    "tags": []
   },
   "outputs": [],
   "source": [
    "#importing all the packages \n",
    "import numpy as np\n",
    "import matplotlib \n",
    "from matplotlib import pyplot as plt\n",
    "matplotlib.rcParams.update({'font.size': 20})\n",
    "plt.rcParams.update({'font.size': 22})\n",
    "\n",
    "import pandas as pd\n",
    "from sklearn import datasets, linear_model\n",
    "from sklearn.datasets import load_iris\n",
    "from sklearn.datasets import make_regression\n",
    "from sklearn.metrics import mean_squared_error, r2_score\n",
    "from sklearn.model_selection import train_test_split"
   ]
  },
  {
   "cell_type": "code",
   "execution_count": 38,
   "id": "86c5cd9b-b9a7-4794-8c91-d0be2ab48c61",
   "metadata": {},
   "outputs": [],
   "source": [
    "import tensorflow as tf\n",
    "from sklearn.model_selection import cross_val_score\n",
    "from sklearn.model_selection import KFold\n",
    "from sklearn.preprocessing import StandardScaler"
   ]
  },
  {
   "cell_type": "markdown",
   "id": "9db18b5d-ae60-463e-a386-aab4e7d2cc40",
   "metadata": {},
   "source": [
    "### Loading and preprocessing the dataset"
   ]
  },
  {
   "cell_type": "code",
   "execution_count": 39,
   "id": "83d112ea-a712-493f-81f1-a1facc918a4d",
   "metadata": {
    "tags": []
   },
   "outputs": [],
   "source": [
    "# we will use the handwritten MNIST digit dataset\n",
    "\n",
    "digits_mnist = tf.keras.datasets.mnist.load_data()"
   ]
  },
  {
   "cell_type": "code",
   "execution_count": 40,
   "id": "e323d5a5-2342-4be9-89c0-d8a72db5c2ab",
   "metadata": {
    "tags": []
   },
   "outputs": [],
   "source": [
    "(X_train_full, y_train_full), (X_test, y_test) = digits_mnist"
   ]
  },
  {
   "cell_type": "code",
   "execution_count": 41,
   "id": "b34430f5-ec34-4e56-b496-9dadba5360d2",
   "metadata": {
    "tags": []
   },
   "outputs": [],
   "source": [
    "X_train, y_train = X_train_full[:-5000], y_train_full[:-5000]\n",
    "X_valid, y_valid = X_train_full[-5000:], y_train_full[-5000:]"
   ]
  },
  {
   "cell_type": "code",
   "execution_count": 42,
   "id": "aadf340c-af60-4891-a056-8bfc15c4dfbd",
   "metadata": {
    "tags": []
   },
   "outputs": [
    {
     "data": {
      "text/plain": [
       "(55000, 28, 28)"
      ]
     },
     "execution_count": 42,
     "metadata": {},
     "output_type": "execute_result"
    }
   ],
   "source": [
    "X_train.shape\n"
   ]
  },
  {
   "cell_type": "code",
   "execution_count": 7,
   "id": "5a7f6513-248e-4232-9958-a1932bb7374e",
   "metadata": {
    "tags": []
   },
   "outputs": [
    {
     "data": {
      "text/plain": [
       "dtype('uint8')"
      ]
     },
     "execution_count": 7,
     "metadata": {},
     "output_type": "execute_result"
    }
   ],
   "source": [
    "X_train.dtype"
   ]
  },
  {
   "cell_type": "code",
   "execution_count": 43,
   "id": "42159d3c-1cbc-49aa-8d97-7523b155c1ae",
   "metadata": {
    "tags": []
   },
   "outputs": [],
   "source": [
    "# scaling the pixel intensities\n",
    "X_train, X_valid, X_test = X_train / 255., X_valid / 255., X_test / 255.\n"
   ]
  },
  {
   "cell_type": "markdown",
   "id": "05a3e5f9-3fb7-42ff-951e-1c6fb959a44e",
   "metadata": {},
   "source": [
    "### Defining the model Architecture "
   ]
  },
  {
   "cell_type": "code",
   "execution_count": 44,
   "id": "8c274c85-049a-4fb6-99d3-efc5539a6726",
   "metadata": {
    "tags": []
   },
   "outputs": [],
   "source": [
    "# defining the model (one way to do it) \n",
    "tf.random.set_seed(42)\n",
    "model = tf.keras.Sequential()\n",
    "model.add(tf.keras.layers.Input(shape=[28, 28]))\n",
    "model.add(tf.keras.layers.Flatten())\n",
    "model.add(tf.keras.layers.Dense(300, activation=\"relu\"))\n",
    "model.add(tf.keras.layers.Dense(100, activation=\"relu\"))\n",
    "model.add(tf.keras.layers.Dense(10, activation=\"softmax\"))"
   ]
  },
  {
   "cell_type": "code",
   "execution_count": null,
   "id": "d29a250c-8c1e-471e-946c-d4cbf8ef781f",
   "metadata": {},
   "outputs": [],
   "source": [
    "# same as above\n",
    "\n",
    "#model = tf.keras.Sequential([\n",
    "    #tf.keras.layers.Flatten(input_shape=[28, 28]),\n",
    "    #tf.keras.layers.Dense(300, activation=\"relu\"),\n",
    "    #tf.keras.layers.Dense(100, activation=\"relu\"),\n",
    "    #tf.keras.layers.Dense(10, activation=\"softmax\")\n",
    "#])"
   ]
  },
  {
   "cell_type": "markdown",
   "id": "d87fabe1-edea-4091-b5d4-a41aaf0d0b0e",
   "metadata": {},
   "source": [
    "### Displaying the model Architecture "
   ]
  },
  {
   "cell_type": "code",
   "execution_count": 45,
   "id": "232ab032-9fab-4350-9f7b-0ce8fa249022",
   "metadata": {
    "tags": []
   },
   "outputs": [
    {
     "name": "stdout",
     "output_type": "stream",
     "text": [
      "Model: \"sequential_1\"\n",
      "_________________________________________________________________\n",
      " Layer (type)                Output Shape              Param #   \n",
      "=================================================================\n",
      " flatten_1 (Flatten)         (None, 784)               0         \n",
      "                                                                 \n",
      " dense_3 (Dense)             (None, 300)               235500    \n",
      "                                                                 \n",
      " dense_4 (Dense)             (None, 100)               30100     \n",
      "                                                                 \n",
      " dense_5 (Dense)             (None, 10)                1010      \n",
      "                                                                 \n",
      "=================================================================\n",
      "Total params: 266,610\n",
      "Trainable params: 266,610\n",
      "Non-trainable params: 0\n",
      "_________________________________________________________________\n"
     ]
    }
   ],
   "source": [
    "model.summary()"
   ]
  },
  {
   "cell_type": "code",
   "execution_count": null,
   "id": "1add7466-8341-4c3d-842a-11eac0054abb",
   "metadata": {},
   "outputs": [],
   "source": []
  },
  {
   "cell_type": "code",
   "execution_count": 46,
   "id": "4f525b53-e037-4354-b5c8-0b68e40b4203",
   "metadata": {
    "tags": []
   },
   "outputs": [],
   "source": [
    "# you can get weights of any layer in the model\n",
    "hidden2 = model.layers[2]\n",
    "weights, biases = hidden2.get_weights()"
   ]
  },
  {
   "cell_type": "code",
   "execution_count": null,
   "id": "9e0601a4-fa20-4ce8-b667-7be7e27596c3",
   "metadata": {
    "tags": []
   },
   "outputs": [],
   "source": []
  },
  {
   "cell_type": "markdown",
   "id": "b79ca656-3470-4826-b397-bc1c8aad5833",
   "metadata": {},
   "source": [
    "### Compiling the model "
   ]
  },
  {
   "cell_type": "code",
   "execution_count": 49,
   "id": "de2d1741-1114-4d3a-8812-469e815cced9",
   "metadata": {
    "tags": []
   },
   "outputs": [],
   "source": [
    "model.compile(loss=\"sparse_categorical_crossentropy\",\n",
    "              optimizer=\"sgd\",\n",
    "              metrics=[\"accuracy\"])"
   ]
  },
  {
   "cell_type": "markdown",
   "id": "afd0ecf7-3f78-4a29-a78d-4d04eb20dd3c",
   "metadata": {},
   "source": [
    "### Training and Evaluating the model  "
   ]
  },
  {
   "cell_type": "code",
   "execution_count": 50,
   "id": "30903a75-bb62-4cf6-8f0e-40ccda5b42bb",
   "metadata": {
    "tags": []
   },
   "outputs": [],
   "source": [
    "history = model.fit(X_train, y_train, epochs=30, verbose = 0, validation_data=(X_valid, y_valid))"
   ]
  },
  {
   "cell_type": "code",
   "execution_count": null,
   "id": "dc2ee959-bd64-4adf-8919-fbaae85be422",
   "metadata": {
    "tags": []
   },
   "outputs": [],
   "source": [
    "pd.DataFrame(history.history).plot(\n",
    "    figsize=(8, 5), xlim=[0, 29], ylim=[0, 1], grid=True, xlabel=\"Epoch\",\n",
    "    style=[\"r--\", \"r--.\", \"b-\", \"b-*\"])\n",
    "plt.show()"
   ]
  },
  {
   "cell_type": "code",
   "execution_count": null,
   "id": "38781f69-2a2f-4dac-9c53-a4eb9da70f95",
   "metadata": {
    "tags": []
   },
   "outputs": [],
   "source": [
    "model.evaluate(X_test, y_test)"
   ]
  },
  {
   "cell_type": "code",
   "execution_count": null,
   "id": "c9fa8f9c-4da2-43d2-b1c2-92006689605f",
   "metadata": {
    "tags": []
   },
   "outputs": [],
   "source": [
    "X_new = X_test[:3]\n",
    "y_proba = model.predict(X_new)"
   ]
  },
  {
   "cell_type": "code",
   "execution_count": null,
   "id": "4c9bd584-2c13-4aec-b554-5640a17a930e",
   "metadata": {
    "tags": []
   },
   "outputs": [],
   "source": [
    "y_proba.round(2)"
   ]
  },
  {
   "cell_type": "code",
   "execution_count": null,
   "id": "c28c9f67-69af-493f-b76d-744691deecd8",
   "metadata": {
    "tags": []
   },
   "outputs": [],
   "source": [
    "y_pred = y_proba.argmax(axis=-1)\n",
    "y_pred"
   ]
  },
  {
   "cell_type": "code",
   "execution_count": null,
   "id": "df0e2ad1-0d8b-437e-8f54-ee58fa885cb9",
   "metadata": {
    "tags": []
   },
   "outputs": [],
   "source": [
    "#check if our predictions are correct or not\n",
    "plt.imshow(X_test[1], cmap= 'binary')\n",
    "plt.axis('off')\n",
    "plt.show()"
   ]
  },
  {
   "cell_type": "code",
   "execution_count": null,
   "id": "8d840703-4870-42f5-bf37-d747a89cacd6",
   "metadata": {},
   "outputs": [],
   "source": [
    "pd.DataFrame(history.history).plot(\n",
    "    figsize=(8, 5), xlim=[0, 29], ylim=[0, 1], grid=True, xlabel=\"Epoch\",\n",
    "    style=[\"r--\", \"r--.\", \"b-\", \"b-*\"])\n",
    "plt.show()"
   ]
  },
  {
   "cell_type": "markdown",
   "id": "f7332283-9d9c-4159-b1f4-563a7e6dede4",
   "metadata": {},
   "source": [
    "### Saving and loading the model"
   ]
  },
  {
   "cell_type": "code",
   "execution_count": null,
   "id": "8217b67d-b60a-41b0-b2e4-c1d655b817cd",
   "metadata": {
    "tags": []
   },
   "outputs": [],
   "source": [
    "model.save(\"keras_digits_model\", save_format=\"tf\")\n"
   ]
  },
  {
   "cell_type": "code",
   "execution_count": null,
   "id": "b7c32b3a-5234-4213-bf96-764c2f287e07",
   "metadata": {
    "tags": []
   },
   "outputs": [],
   "source": [
    "# extra code – show the contents of the my_keras_model/ directory\n",
    "from pathlib import Path\n",
    "for path in sorted(Path(\"keras_digits_model\").glob(\"**/*\")):\n",
    "    print(path)"
   ]
  },
  {
   "cell_type": "code",
   "execution_count": null,
   "id": "7ac9be47-2451-413b-b834-9e44bae86211",
   "metadata": {
    "tags": []
   },
   "outputs": [],
   "source": [
    "model_load  = tf.keras.models.load_model(\"keras_digits_model\")"
   ]
  },
  {
   "cell_type": "markdown",
   "id": "7b0e1a19-4d06-43ef-82f7-bc589f10170e",
   "metadata": {},
   "source": [
    "### Model Callbacks"
   ]
  },
  {
   "cell_type": "code",
   "execution_count": 29,
   "id": "d57dbfca-6a30-4dac-8284-5839cbe03598",
   "metadata": {
    "tags": []
   },
   "outputs": [],
   "source": [
    "checkpoint_cb = tf.keras.callbacks.ModelCheckpoint(\"my_mnist_model\", save_best_only=True)\n",
    "history = model.fit(X_train, y_train, epochs=30,verbose =0, validation_data=(X_valid, y_valid), callbacks=[checkpoint_cb])"
   ]
  },
  {
   "cell_type": "code",
   "execution_count": 30,
   "id": "154f9112-e591-4a79-99b6-ef9873c6ca5c",
   "metadata": {
    "tags": []
   },
   "outputs": [
    {
     "name": "stderr",
     "output_type": "stream",
     "text": [
      "WARNING:absl:Found untraced functions such as _update_step_xla while saving (showing 1 of 1). These functions will not be directly callable after loading.\n"
     ]
    },
    {
     "name": "stdout",
     "output_type": "stream",
     "text": [
      "INFO:tensorflow:Assets written to: my_mnist_model/assets\n"
     ]
    },
    {
     "name": "stderr",
     "output_type": "stream",
     "text": [
      "INFO:tensorflow:Assets written to: my_mnist_model/assets\n",
      "WARNING:absl:Found untraced functions such as _update_step_xla while saving (showing 1 of 1). These functions will not be directly callable after loading.\n"
     ]
    },
    {
     "name": "stdout",
     "output_type": "stream",
     "text": [
      "INFO:tensorflow:Assets written to: my_mnist_model/assets\n"
     ]
    },
    {
     "name": "stderr",
     "output_type": "stream",
     "text": [
      "INFO:tensorflow:Assets written to: my_mnist_model/assets\n",
      "WARNING:absl:Found untraced functions such as _update_step_xla while saving (showing 1 of 1). These functions will not be directly callable after loading.\n"
     ]
    },
    {
     "name": "stdout",
     "output_type": "stream",
     "text": [
      "INFO:tensorflow:Assets written to: my_mnist_model/assets\n"
     ]
    },
    {
     "name": "stderr",
     "output_type": "stream",
     "text": [
      "INFO:tensorflow:Assets written to: my_mnist_model/assets\n",
      "WARNING:absl:Found untraced functions such as _update_step_xla while saving (showing 1 of 1). These functions will not be directly callable after loading.\n"
     ]
    },
    {
     "name": "stdout",
     "output_type": "stream",
     "text": [
      "INFO:tensorflow:Assets written to: my_mnist_model/assets\n"
     ]
    },
    {
     "name": "stderr",
     "output_type": "stream",
     "text": [
      "INFO:tensorflow:Assets written to: my_mnist_model/assets\n"
     ]
    }
   ],
   "source": [
    "early_stopping_cb = tf.keras.callbacks.EarlyStopping(patience=10,\n",
    "                                                     restore_best_weights=True)\n",
    "history = model.fit(X_train, y_train, epochs=30,verbose =0, validation_data=(X_valid, y_valid), callbacks=[checkpoint_cb, early_stopping_cb])\n"
   ]
  },
  {
   "cell_type": "code",
   "execution_count": 36,
   "id": "9df9ff11-d033-431a-b042-0860a0617861",
   "metadata": {
    "tags": []
   },
   "outputs": [
    {
     "name": "stdout",
     "output_type": "stream",
     "text": [
      "313/313 [==============================] - 1s 3ms/step - loss: 0.0682 - accuracy: 0.9791\n"
     ]
    },
    {
     "data": {
      "text/plain": [
       "[0.06824850291013718, 0.9790999889373779]"
      ]
     },
     "execution_count": 36,
     "metadata": {},
     "output_type": "execute_result"
    }
   ],
   "source": [
    "model = tf.keras.models.load_model(\"my_mnist_model\") # rollback to best model\n",
    "model.evaluate(X_test, y_test)"
   ]
  },
  {
   "cell_type": "code",
   "execution_count": null,
   "id": "baab1650-2d22-40c2-bec9-fd24bd8bf175",
   "metadata": {},
   "outputs": [],
   "source": []
  }
 ],
 "metadata": {
  "kernelspec": {
   "display_name": "Python 3 (ipykernel)",
   "language": "python",
   "name": "python3"
  },
  "language_info": {
   "codemirror_mode": {
    "name": "ipython",
    "version": 3
   },
   "file_extension": ".py",
   "mimetype": "text/x-python",
   "name": "python",
   "nbconvert_exporter": "python",
   "pygments_lexer": "ipython3",
   "version": "3.9.12"
  }
 },
 "nbformat": 4,
 "nbformat_minor": 5
}
