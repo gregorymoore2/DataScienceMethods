{
 "cells": [
  {
   "cell_type": "markdown",
   "id": "0e0bb468-a718-43f8-8898-c22648999951",
   "metadata": {},
   "source": [
    "### CHEM E 545 Homework 6 (30 points) "
   ]
  },
  {
   "cell_type": "markdown",
   "id": "7dd7221c-3d63-450b-b960-9912dce41acc",
   "metadata": {},
   "source": [
    "##### Load the cirrhosis dataset as provided in the .csv file.  Visualize the distribution of the target variable. Do any processing of the data that you feel is important for classification downstream (5 points)"
   ]
  },
  {
   "cell_type": "markdown",
   "id": "b425303f-11b0-4914-be40-1858b5ffad4e",
   "metadata": {},
   "source": [
    "##### Apply decision tree classifier on the resulting data. Print the accuracy of the model on the test set. Also visualize the decision tree as a graph. (5 points)"
   ]
  },
  {
   "cell_type": "code",
   "execution_count": null,
   "id": "3f4b092d-34b3-4c77-86da-6b6ba4ced501",
   "metadata": {},
   "outputs": [],
   "source": []
  },
  {
   "cell_type": "markdown",
   "id": "ba34d623-af97-4369-90ac-9829c00808d6",
   "metadata": {},
   "source": [
    "##### Next, compare the performance of decision tree model with the three ensemble methods we learnt in class. Describe your results (10 points) "
   ]
  },
  {
   "cell_type": "code",
   "execution_count": null,
   "id": "157e1c49-8925-4824-9afd-78cf3fb605ce",
   "metadata": {},
   "outputs": [],
   "source": []
  },
  {
   "cell_type": "markdown",
   "id": "203fcc61-ee05-44b4-a4e7-c2f7ec62a87c",
   "metadata": {},
   "source": [
    "##### Choose the best type of classifier and optimize its hyperparamters to get the best performance (10 points)"
   ]
  },
  {
   "cell_type": "code",
   "execution_count": null,
   "id": "2d2591c0-d52f-4af2-a768-d4e2fa4376ad",
   "metadata": {},
   "outputs": [],
   "source": []
  },
  {
   "cell_type": "markdown",
   "id": "b7fffd2b-6367-4d02-97a7-1b257a5cb740",
   "metadata": {},
   "source": [
    "##### Extract the feature importance scores from the chosen model and use only the top 5 features with the best model parameters to create the final model. Report both the training and test accuracy. (5 points)\n"
   ]
  },
  {
   "cell_type": "code",
   "execution_count": null,
   "id": "dbdd7fb1-e578-4821-9c4f-3399976e5986",
   "metadata": {},
   "outputs": [],
   "source": []
  }
 ],
 "metadata": {
  "kernelspec": {
   "display_name": "Python 3 (ipykernel)",
   "language": "python",
   "name": "python3"
  },
  "language_info": {
   "codemirror_mode": {
    "name": "ipython",
    "version": 3
   },
   "file_extension": ".py",
   "mimetype": "text/x-python",
   "name": "python",
   "nbconvert_exporter": "python",
   "pygments_lexer": "ipython3",
   "version": "3.10.10"
  }
 },
 "nbformat": 4,
 "nbformat_minor": 5
}
