{
 "cells": [
  {
   "cell_type": "code",
   "execution_count": 3,
   "id": "33bccbf0-720c-4715-9cac-c62d88d94310",
   "metadata": {
    "tags": []
   },
   "outputs": [],
   "source": [
    "import numpy as np"
   ]
  },
  {
   "cell_type": "markdown",
   "id": "4d106d66-22f9-40e4-9c3a-f1214d6b7d87",
   "metadata": {},
   "source": [
    "### Numpy Arrays"
   ]
  },
  {
   "cell_type": "code",
   "execution_count": 4,
   "id": "04b36a08-e3d5-4d09-b16d-a2ee1e47c059",
   "metadata": {
    "tags": []
   },
   "outputs": [
    {
     "name": "stdout",
     "output_type": "stream",
     "text": [
      "the last element is  5\n"
     ]
    }
   ],
   "source": [
    "#ndarrays\n",
    "# creating an array\n",
    "x = np.array([1,2,3,4,5])\n",
    "\n",
    "# accessing elements\n",
    "#second_element = x[1]\n",
    "print(\"the last element is \",x[-1])"
   ]
  },
  {
   "cell_type": "code",
   "execution_count": 5,
   "id": "fd8a9bfe-78a2-40d6-8434-9edd13ef49f7",
   "metadata": {
    "tags": []
   },
   "outputs": [
    {
     "data": {
      "text/plain": [
       "(1, 5)"
      ]
     },
     "execution_count": 5,
     "metadata": {},
     "output_type": "execute_result"
    }
   ],
   "source": [
    "z = np.ones((1,5))\n",
    "z.shape"
   ]
  },
  {
   "cell_type": "code",
   "execution_count": 6,
   "id": "c5995bcc-3f32-4544-82c8-e889ccd4d44c",
   "metadata": {
    "tags": []
   },
   "outputs": [
    {
     "data": {
      "text/plain": [
       "(3,)"
      ]
     },
     "execution_count": 6,
     "metadata": {},
     "output_type": "execute_result"
    }
   ],
   "source": [
    "x = np.ones(3)\n",
    "x.shape"
   ]
  },
  {
   "cell_type": "markdown",
   "id": "0a73e021-2939-444d-8cd0-890bab044c3f",
   "metadata": {},
   "source": [
    "### Dictionary"
   ]
  },
  {
   "cell_type": "code",
   "execution_count": 7,
   "id": "ee992357-85cb-4673-b4a1-ac8c8d33d180",
   "metadata": {
    "tags": []
   },
   "outputs": [],
   "source": [
    "# empty dictionary\n",
    "my_dict = {}\n",
    "# dictionary with integer keys\n",
    "my_dict = {1: 'apple', 2: 'ball'}"
   ]
  },
  {
   "cell_type": "code",
   "execution_count": 8,
   "id": "dc535386-9f2a-4074-b519-21f4f7268494",
   "metadata": {
    "tags": []
   },
   "outputs": [
    {
     "data": {
      "text/plain": [
       "'John'"
      ]
     },
     "execution_count": 8,
     "metadata": {},
     "output_type": "execute_result"
    }
   ],
   "source": [
    "# dictionary with mixed keys\n",
    "my_dict = {'name': 'John', 1: [2, 4, 3]}\n",
    "#Accessing values using keys\n",
    "my_dict['name']"
   ]
  },
  {
   "cell_type": "code",
   "execution_count": 9,
   "id": "4e7a5da7-2731-495b-80c1-500958ca7d90",
   "metadata": {
    "tags": []
   },
   "outputs": [
    {
     "ename": "TypeError",
     "evalue": "unhashable type: 'list'",
     "output_type": "error",
     "traceback": [
      "\u001b[0;31m---------------------------------------------------------------------------\u001b[0m",
      "\u001b[0;31mTypeError\u001b[0m                                 Traceback (most recent call last)",
      "Cell \u001b[0;32mIn[9], line 2\u001b[0m\n\u001b[1;32m      1\u001b[0m \u001b[38;5;66;03m# Mutable types, such as a list, can't be used as the key\u001b[39;00m\n\u001b[0;32m----> 2\u001b[0m error_dict \u001b[38;5;241m=\u001b[39m {[\u001b[38;5;241m1\u001b[39m,\u001b[38;5;241m2\u001b[39m,\u001b[38;5;241m3\u001b[39m]:\u001b[38;5;124m\"\u001b[39m\u001b[38;5;124mlist\u001b[39m\u001b[38;5;124m\"\u001b[39m, {\u001b[38;5;124m\"\u001b[39m\u001b[38;5;124mkey\u001b[39m\u001b[38;5;124m\"\u001b[39m:\u001b[38;5;124m\"\u001b[39m\u001b[38;5;124mvalue\u001b[39m\u001b[38;5;124m\"\u001b[39m}:\u001b[38;5;124m\"\u001b[39m\u001b[38;5;124mdict\u001b[39m\u001b[38;5;124m\"\u001b[39m} \u001b[38;5;66;03m# Will raise an error\u001b[39;00m\n",
      "\u001b[0;31mTypeError\u001b[0m: unhashable type: 'list'"
     ]
    }
   ],
   "source": [
    "# Mutable types, such as a list, can't be used as the key\n",
    "error_dict = {[1,2,3]:\"list\", {\"key\":\"value\"}:\"dict\"} # Will raise an error"
   ]
  },
  {
   "cell_type": "code",
   "execution_count": 10,
   "id": "6ec2da3a-571b-4d33-9d07-14164c8abaca",
   "metadata": {
    "tags": []
   },
   "outputs": [],
   "source": [
    "# The values can be any type (including lists and functions)\n",
    "yet_another = {1:3.14, \"d\":[1,2,3], \"p\":print}"
   ]
  },
  {
   "cell_type": "code",
   "execution_count": 12,
   "id": "b582b056-1523-4787-9c3d-1cf5c5cb44f4",
   "metadata": {
    "tags": []
   },
   "outputs": [
    {
     "data": {
      "text/plain": [
       "'Parker'"
      ]
     },
     "execution_count": 12,
     "metadata": {},
     "output_type": "execute_result"
    }
   ],
   "source": [
    "# You can change values in a dictionary\n",
    "my_dict['name']='Parker'\n",
    "my_dict['name']"
   ]
  },
  {
   "cell_type": "code",
   "execution_count": 13,
   "id": "dd0450bc-5385-4feb-b2ec-cef8439e750b",
   "metadata": {
    "tags": []
   },
   "outputs": [
    {
     "data": {
      "text/plain": [
       "{1: [2, 4, 3]}"
      ]
     },
     "execution_count": 13,
     "metadata": {},
     "output_type": "execute_result"
    }
   ],
   "source": [
    "# You can also remove keys from a dict\n",
    "my_dict.pop('name')\n",
    "my_dict"
   ]
  },
  {
   "cell_type": "markdown",
   "id": "51515650-0480-4c4e-9008-57fd7b6a8b5e",
   "metadata": {},
   "source": [
    "### Dict Comprehensions"
   ]
  },
  {
   "cell_type": "code",
   "execution_count": 14,
   "id": "480ffa88-834f-4a86-b95a-67f1c3844347",
   "metadata": {
    "tags": []
   },
   "outputs": [
    {
     "name": "stdout",
     "output_type": "stream",
     "text": [
      "{0: 0, 1: 1, 2: 4, 3: 9, 4: 16, 5: 25, 6: 36, 7: 49, 8: 64, 9: 81}\n"
     ]
    }
   ],
   "source": [
    "tt_dict = {i:i**2 for i in range(10)}\n",
    "print(tt_dict)"
   ]
  },
  {
   "cell_type": "markdown",
   "id": "0ea5d4cc-606c-46d6-9bac-5035641cb14f",
   "metadata": {},
   "source": [
    "### conditional statements (if-else)"
   ]
  },
  {
   "cell_type": "code",
   "execution_count": null,
   "id": "def63559-9e97-4a11-9ab5-c29229531dc6",
   "metadata": {},
   "outputs": [],
   "source": [
    "x = 11\n",
    "if x<10:\n",
    "    print(\"small number\")\n",
    "else:\n",
    "    print(\"large number\")\n",
    "print ('outside the loop')"
   ]
  },
  {
   "cell_type": "code",
   "execution_count": 15,
   "id": "76bf9063-88cc-4ac5-a374-c032c8915229",
   "metadata": {
    "tags": []
   },
   "outputs": [
    {
     "name": "stdout",
     "output_type": "stream",
     "text": [
      "Your grade is: A-\n"
     ]
    }
   ],
   "source": [
    "score = 85\n",
    "if score >= 93:\n",
    "    grade = \"A\"\n",
    "elif score >= 85:\n",
    "    grade = \"A-\"\n",
    "elif score >= 70:\n",
    "    grade = \"B\"\n",
    "elif score >= 60:\n",
    "    grade = \"C\"\n",
    "else:\n",
    "    grade = \"F\"\n",
    "\n",
    "print(\"Your grade is:\", grade)"
   ]
  },
  {
   "cell_type": "markdown",
   "id": "c29611cc-81f4-45cb-8892-cb820153820d",
   "metadata": {},
   "source": [
    "### While loop"
   ]
  },
  {
   "cell_type": "code",
   "execution_count": 18,
   "id": "9046b32f-6779-4aed-85d7-c2850a16e5e7",
   "metadata": {
    "tags": []
   },
   "outputs": [
    {
     "name": "stdout",
     "output_type": "stream",
     "text": [
      "The greatest common divisor of a and b is:  8\n"
     ]
    }
   ],
   "source": [
    "a=40\n",
    "b=32\n",
    "while b!=0:\n",
    "    t=b\n",
    "    b=a%b\n",
    "    a=t\n",
    "print(\"The greatest common divisor of a and b is: \",a)"
   ]
  },
  {
   "cell_type": "markdown",
   "id": "021b3128-5669-4f6c-999f-6aa000e66d90",
   "metadata": {},
   "source": [
    "### For loop"
   ]
  },
  {
   "cell_type": "code",
   "execution_count": 19,
   "id": "e9c0db68-c4a1-4ab6-8abd-7a5ce0ded2e1",
   "metadata": {
    "tags": []
   },
   "outputs": [
    {
     "name": "stdout",
     "output_type": "stream",
     "text": [
      "2\n",
      "3\n",
      "4\n",
      "5\n",
      "6\n"
     ]
    }
   ],
   "source": [
    "for i in [1,2,3,4,5]:\n",
    "    print(i+1)\n"
   ]
  },
  {
   "cell_type": "code",
   "execution_count": 25,
   "id": "8e4200a6-b7c4-4d1b-b2d1-9c69716f3a4d",
   "metadata": {
    "tags": []
   },
   "outputs": [
    {
     "name": "stdout",
     "output_type": "stream",
     "text": [
      "starting loop 1\n",
      "2\n",
      "5\n",
      "10\n",
      "17\n",
      "26\n",
      "starting loop 2\n",
      "3\n",
      "6\n",
      "11\n",
      "18\n",
      "27\n",
      "starting loop 3\n",
      "4\n",
      "7\n",
      "12\n",
      "19\n",
      "28\n",
      "starting loop 4\n",
      "5\n",
      "8\n",
      "13\n",
      "20\n",
      "29\n",
      "starting loop 5\n",
      "6\n",
      "9\n",
      "14\n",
      "21\n",
      "30\n"
     ]
    }
   ],
   "source": [
    "for i in [1,2,3,4,5]:\n",
    "    print('starting loop',i)\n",
    "    for j in [1,4,9,16,25]:\n",
    "        print( j+i)\n",
    "\n"
   ]
  },
  {
   "cell_type": "markdown",
   "id": "5f79866d-8dd5-4881-bce5-1de86c51743e",
   "metadata": {},
   "source": [
    "### Functions"
   ]
  },
  {
   "cell_type": "code",
   "execution_count": 26,
   "id": "94c1b6d9-a158-479e-9087-b359a5b8a01f",
   "metadata": {
    "tags": []
   },
   "outputs": [],
   "source": [
    "def  addition(x,y):\n",
    "    added = x + y\n",
    "    return added\n"
   ]
  },
  {
   "cell_type": "code",
   "execution_count": 27,
   "id": "0f2c0676-3ee3-4539-bef3-e51553eb5fd2",
   "metadata": {
    "tags": []
   },
   "outputs": [
    {
     "data": {
      "text/plain": [
       "5"
      ]
     },
     "execution_count": 27,
     "metadata": {},
     "output_type": "execute_result"
    }
   ],
   "source": [
    "addition(2,3)\n"
   ]
  },
  {
   "cell_type": "markdown",
   "id": "c2783255-2c8f-42fd-91ac-f4c5e2d7aa5a",
   "metadata": {},
   "source": [
    "### Recursion"
   ]
  },
  {
   "cell_type": "code",
   "execution_count": 28,
   "id": "e09b4001-d166-4a6d-913a-eddd05a92456",
   "metadata": {
    "tags": []
   },
   "outputs": [
    {
     "data": {
      "text/plain": [
       "24"
      ]
     },
     "execution_count": 28,
     "metadata": {},
     "output_type": "execute_result"
    }
   ],
   "source": [
    "#factorial with recursion \n",
    "def factorial(n): \n",
    "    return 1 if n <= 1 else n * factorial(n - 1)\n",
    "factorial(4)"
   ]
  },
  {
   "cell_type": "code",
   "execution_count": 29,
   "id": "e50d545e-bec6-4212-860a-1dfe4f42f4ec",
   "metadata": {
    "tags": []
   },
   "outputs": [
    {
     "data": {
      "text/plain": [
       "24"
      ]
     },
     "execution_count": 29,
     "metadata": {},
     "output_type": "execute_result"
    }
   ],
   "source": [
    "#factorial without recursion \n",
    "def factorial(n): \n",
    "    return_value = 1 \n",
    "    for i in range(2, n + 1):\n",
    "        return_value *=i # this represents return_value = return_value*i\n",
    "    return return_value\n",
    "factorial(4)\n"
   ]
  },
  {
   "cell_type": "code",
   "execution_count": null,
   "id": "e562f51f-0c46-4448-8841-9d5051ff5081",
   "metadata": {},
   "outputs": [],
   "source": []
  }
 ],
 "metadata": {
  "kernelspec": {
   "display_name": "Python 3 (ipykernel)",
   "language": "python",
   "name": "python3"
  },
  "language_info": {
   "codemirror_mode": {
    "name": "ipython",
    "version": 3
   },
   "file_extension": ".py",
   "mimetype": "text/x-python",
   "name": "python",
   "nbconvert_exporter": "python",
   "pygments_lexer": "ipython3",
   "version": "3.10.10"
  }
 },
 "nbformat": 4,
 "nbformat_minor": 5
}
