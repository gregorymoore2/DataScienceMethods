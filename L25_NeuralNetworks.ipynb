{
 "cells": [
  {
   "cell_type": "code",
   "execution_count": 1,
   "id": "4bd044f6-6f3d-48ec-af9d-8706dd5ad9d9",
   "metadata": {
    "tags": []
   },
   "outputs": [
    {
     "name": "stderr",
     "output_type": "stream",
     "text": [
      "C:\\Users\\grego\\anaconda3\\lib\\site-packages\\scipy\\__init__.py:146: UserWarning: A NumPy version >=1.16.5 and <1.23.0 is required for this version of SciPy (detected version 1.26.2\n",
      "  warnings.warn(f\"A NumPy version >={np_minversion} and <{np_maxversion}\"\n"
     ]
    }
   ],
   "source": [
    "#importing all the packages \n",
    "import numpy as np\n",
    "import matplotlib \n",
    "from matplotlib import pyplot as plt\n",
    "matplotlib.rcParams.update({'font.size': 20})\n",
    "plt.rcParams.update({'font.size': 22})\n",
    "\n",
    "import pandas as pd\n",
    "from sklearn import datasets, linear_model\n",
    "from sklearn.datasets import load_iris\n",
    "from sklearn.datasets import make_regression\n",
    "from sklearn.metrics import mean_squared_error, r2_score\n",
    "from sklearn.model_selection import train_test_split"
   ]
  },
  {
   "cell_type": "code",
   "execution_count": 2,
   "id": "86c5cd9b-b9a7-4794-8c91-d0be2ab48c61",
   "metadata": {},
   "outputs": [
    {
     "name": "stdout",
     "output_type": "stream",
     "text": [
      "WARNING:tensorflow:From C:\\Users\\grego\\anaconda3\\lib\\site-packages\\keras\\src\\losses.py:2976: The name tf.losses.sparse_softmax_cross_entropy is deprecated. Please use tf.compat.v1.losses.sparse_softmax_cross_entropy instead.\n",
      "\n"
     ]
    },
    {
     "ename": "ModuleNotFoundError",
     "evalue": "No module named 'keras.wrappers'",
     "output_type": "error",
     "traceback": [
      "\u001b[1;31m---------------------------------------------------------------------------\u001b[0m",
      "\u001b[1;31mModuleNotFoundError\u001b[0m                       Traceback (most recent call last)",
      "Input \u001b[1;32mIn [2]\u001b[0m, in \u001b[0;36m<cell line: 4>\u001b[1;34m()\u001b[0m\n\u001b[0;32m      2\u001b[0m \u001b[38;5;28;01mfrom\u001b[39;00m \u001b[38;5;21;01mkeras\u001b[39;00m\u001b[38;5;21;01m.\u001b[39;00m\u001b[38;5;21;01mmodels\u001b[39;00m \u001b[38;5;28;01mimport\u001b[39;00m Sequential\n\u001b[0;32m      3\u001b[0m \u001b[38;5;28;01mfrom\u001b[39;00m \u001b[38;5;21;01mkeras\u001b[39;00m\u001b[38;5;21;01m.\u001b[39;00m\u001b[38;5;21;01mlayers\u001b[39;00m \u001b[38;5;28;01mimport\u001b[39;00m Dense\n\u001b[1;32m----> 4\u001b[0m \u001b[38;5;28;01mfrom\u001b[39;00m \u001b[38;5;21;01mkeras\u001b[39;00m\u001b[38;5;21;01m.\u001b[39;00m\u001b[38;5;21;01mwrappers\u001b[39;00m\u001b[38;5;21;01m.\u001b[39;00m\u001b[38;5;21;01mscikit_learn\u001b[39;00m \u001b[38;5;28;01mimport\u001b[39;00m KerasRegressor\n\u001b[0;32m      6\u001b[0m \u001b[38;5;28;01mfrom\u001b[39;00m \u001b[38;5;21;01msklearn\u001b[39;00m\u001b[38;5;21;01m.\u001b[39;00m\u001b[38;5;21;01mmodel_selection\u001b[39;00m \u001b[38;5;28;01mimport\u001b[39;00m cross_val_score\n\u001b[0;32m      7\u001b[0m \u001b[38;5;28;01mfrom\u001b[39;00m \u001b[38;5;21;01msklearn\u001b[39;00m\u001b[38;5;21;01m.\u001b[39;00m\u001b[38;5;21;01mmodel_selection\u001b[39;00m \u001b[38;5;28;01mimport\u001b[39;00m KFold\n",
      "\u001b[1;31mModuleNotFoundError\u001b[0m: No module named 'keras.wrappers'"
     ]
    }
   ],
   "source": [
    "import keras\n",
    "from keras.models import Sequential\n",
    "from keras.layers import Dense\n",
    "from keras.wrappers.scikit_learn import KerasRegressor\n",
    "\n",
    "from sklearn.model_selection import cross_val_score\n",
    "from sklearn.model_selection import KFold\n",
    "from sklearn.preprocessing import StandardScaler"
   ]
  },
  {
   "cell_type": "code",
   "execution_count": null,
   "id": "83d112ea-a712-493f-81f1-a1facc918a4d",
   "metadata": {
    "tags": []
   },
   "outputs": [],
   "source": [
    "# first we will try a single layer perceptron \n",
    "from sklearn.datasets import load_iris\n",
    "from sklearn.linear_model import Perceptron\n",
    "\n",
    "iris = load_iris(as_frame=True)\n",
    "X = iris.data[[\"petal length (cm)\", \"petal width (cm)\"]].values\n",
    "y = (iris.target == 0)  # Iris setosa\n",
    "\n",
    "X_train, X_test , y_train, y_test = train_test_split(X, y, test_size=0.20,random_state=42)\n",
    "\n",
    "scaler = StandardScaler()\n",
    "x_train_scaled = scaler.fit_transform(X_train)\n",
    "x_test_scaled = scaler.transform(X_test)\n",
    "\n",
    "per_clf = Perceptron(random_state=42)\n",
    "per_clf.fit(x_train_scaled, y_train)\n"
   ]
  },
  {
   "cell_type": "code",
   "execution_count": null,
   "id": "e323d5a5-2342-4be9-89c0-d8a72db5c2ab",
   "metadata": {
    "tags": []
   },
   "outputs": [],
   "source": [
    "print(\"training set score is : {:.3f}\" .format(per_clf.score(x_train_scaled,y_train)))\n",
    "print(\"test set score is : {:.3f}\" .format(per_clf.score(x_test_scaled,y_test)))\n"
   ]
  },
  {
   "cell_type": "markdown",
   "id": "c28b2c28-5a21-478d-bb5f-3ad3e4956a71",
   "metadata": {},
   "source": [
    "#### Remember the Harvard Clean Energy Project Database that we analyzed in the beginning of the quarter?? \n",
    "\n",
    "If not, please look back at Lecture 4 notes "
   ]
  },
  {
   "cell_type": "code",
   "execution_count": null,
   "id": "dc2ee959-bd64-4adf-8919-fbaae85be422",
   "metadata": {
    "tags": []
   },
   "outputs": [],
   "source": [
    "# reading a csv file using pandas\n",
    "data = pd.read_csv('http://faculty.washington.edu/dacb/HCEPDB_moldata.zip')"
   ]
  },
  {
   "cell_type": "code",
   "execution_count": null,
   "id": "38781f69-2a2f-4dac-9c53-a4eb9da70f95",
   "metadata": {
    "tags": []
   },
   "outputs": [],
   "source": [
    "df_smaller = data.sample(frac=0.01, random_state=42)"
   ]
  },
  {
   "cell_type": "code",
   "execution_count": null,
   "id": "c9fa8f9c-4da2-43d2-b1c2-92006689605f",
   "metadata": {
    "tags": []
   },
   "outputs": [],
   "source": [
    "df_smaller.describe()"
   ]
  },
  {
   "cell_type": "code",
   "execution_count": null,
   "id": "4c9bd584-2c13-4aec-b554-5640a17a930e",
   "metadata": {
    "tags": []
   },
   "outputs": [],
   "source": [
    "#Separate out the input features from the output target `'pce'`\n",
    "X = df_smaller[['mass', 'voc', 'jsc', 'e_homo_alpha', 'e_gap_alpha', \n",
    "        'e_lumo_alpha']].values\n",
    "Y = df_smaller[['pce']].values"
   ]
  },
  {
   "cell_type": "code",
   "execution_count": null,
   "id": "c28c9f67-69af-493f-b76d-744691deecd8",
   "metadata": {
    "tags": []
   },
   "outputs": [],
   "source": [
    "X_train_pn, X_test_pn, y_train, y_test = train_test_split(X, Y,\n",
    "                                                    test_size=0.20,\n",
    "                                                    random_state=42)"
   ]
  },
  {
   "cell_type": "code",
   "execution_count": null,
   "id": "8217b67d-b60a-41b0-b2e4-c1d655b817cd",
   "metadata": {
    "tags": []
   },
   "outputs": [],
   "source": [
    "# Create the scaler from the training data only and keep it for later use\n",
    "X_train_scaler = StandardScaler().fit(X_train_pn)\n",
    "\n",
    "# Apply the scaler transform to the training data\n",
    "X_train = X_train_scaler.transform(X_train_pn)"
   ]
  },
  {
   "cell_type": "code",
   "execution_count": null,
   "id": "b7c32b3a-5234-4213-bf96-764c2f287e07",
   "metadata": {
    "tags": []
   },
   "outputs": [],
   "source": [
    "#visualizing test data before scaling\n",
    "fig, ax = plt.subplots(1,2,figsize=(10,4))\n",
    "ax[0].hist(X_test_pn[:,0], alpha=0.6, color='mediumvioletred')\n",
    "ax[0].set_xlabel('mass')\n",
    "ax[0].set_ylabel('count')\n",
    "ax[0].set_title('mass distribution',fontsize=18)\n",
    "ax[1].hist(X_test_pn[:,1], alpha=0.6, color='royalblue')\n",
    "ax[1].set_xlabel('voc')\n",
    "ax[1].set_ylabel('count')\n",
    "ax[1].set_title('voc distribution',fontsize=18)\n",
    "plt.tight_layout()\n",
    "plt.show()"
   ]
  },
  {
   "cell_type": "code",
   "execution_count": null,
   "id": "7ac9be47-2451-413b-b834-9e44bae86211",
   "metadata": {
    "tags": []
   },
   "outputs": [],
   "source": [
    "X_test = X_train_scaler.transform(X_test_pn)"
   ]
  },
  {
   "cell_type": "code",
   "execution_count": null,
   "id": "154f9112-e591-4a79-99b6-ef9873c6ca5c",
   "metadata": {
    "tags": []
   },
   "outputs": [],
   "source": [
    "#visualizing test data after scaling\n",
    "fig, ax = plt.subplots(1,2,figsize=(10,4))\n",
    "ax[0].hist(X_test[:,0], alpha=0.6, color='mediumvioletred')\n",
    "ax[0].set_xlabel('mass')\n",
    "ax[0].set_ylabel('count')\n",
    "ax[0].set_title('mass distribution',fontsize=18)\n",
    "ax[1].hist(X_test[:,1], alpha=0.6, color='royalblue')\n",
    "ax[1].set_xlabel('voc')\n",
    "ax[1].set_ylabel('count')\n",
    "ax[1].set_title('voc distribution',fontsize=18)\n",
    "plt.tight_layout()\n",
    "plt.show()"
   ]
  },
  {
   "cell_type": "markdown",
   "id": "4ca0f7f2-5a84-484e-b6d8-4f0de1f49c0f",
   "metadata": {},
   "source": [
    "## 2. Creating the neural network model\n",
    "\n",
    "This is a simple neural network with no hidden layer and one output layer. Here we will use `Keras` functions [Keras documentation](https://keras.io/guides/). We will use `Dense` layers as defined [here](https://keras.io/api/layers/core_layers/dense/), and the `Adam` [optimizer](https://keras.io/api/optimizers/adam/) which relies on gradient descent."
   ]
  },
  {
   "cell_type": "code",
   "execution_count": null,
   "id": "f873fe26-0646-4cf9-a035-89d59b93037a",
   "metadata": {
    "tags": []
   },
   "outputs": [],
   "source": [
    "def simple_model():\n",
    "    # assemble the structure\n",
    "    model = Sequential()\n",
    "    model.add(Dense(6, input_dim=6, kernel_initializer='normal', activation='relu'))\n",
    "    model.add(Dense(1, kernel_initializer='normal'))\n",
    "    # compile the model\n",
    "    model.compile(loss='mean_squared_error', optimizer='adam')\n",
    "    return model"
   ]
  },
  {
   "cell_type": "code",
   "execution_count": null,
   "id": "e364c068-b9ca-4140-bd16-2e32215f6cd5",
   "metadata": {
    "tags": []
   },
   "outputs": [],
   "source": [
    "# initialize the andom seed as this is used to generate\n",
    "# the starting weights\n",
    "np.random.seed(42)\n",
    "# create the NN framework\n",
    "model = simple_model()\n",
    "history = model.fit(X_train, y_train, validation_split=0.33, epochs=150, \n",
    "        batch_size=10000, verbose=0)"
   ]
  },
  {
   "cell_type": "code",
   "execution_count": null,
   "id": "4ce0724f-fb03-4551-ae10-7356f802fa2c",
   "metadata": {
    "tags": []
   },
   "outputs": [],
   "source": [
    "# summarize history for loss\n",
    "plt.plot(history.history['loss'])\n",
    "plt.plot(history.history['val_loss'])\n",
    "plt.title('model loss')\n",
    "plt.ylabel('loss')\n",
    "plt.xlabel('epoch')\n",
    "plt.legend(['train', 'validation'], loc='upper left')\n",
    "plt.show()"
   ]
  },
  {
   "cell_type": "code",
   "execution_count": null,
   "id": "baab1650-2d22-40c2-bec9-fd24bd8bf175",
   "metadata": {},
   "outputs": [],
   "source": []
  }
 ],
 "metadata": {
  "kernelspec": {
   "display_name": "Python 3 (ipykernel)",
   "language": "python",
   "name": "python3"
  },
  "language_info": {
   "codemirror_mode": {
    "name": "ipython",
    "version": 3
   },
   "file_extension": ".py",
   "mimetype": "text/x-python",
   "name": "python",
   "nbconvert_exporter": "python",
   "pygments_lexer": "ipython3",
   "version": "3.9.12"
  }
 },
 "nbformat": 4,
 "nbformat_minor": 5
}
