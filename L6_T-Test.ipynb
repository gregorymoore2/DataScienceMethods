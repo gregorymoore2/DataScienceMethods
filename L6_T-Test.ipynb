{
 "cells": [
  {
   "cell_type": "code",
   "execution_count": 5,
   "id": "9e68bcc3-6c81-4e96-a898-8000fe39a8cf",
   "metadata": {
    "tags": []
   },
   "outputs": [],
   "source": [
    "import scipy\n",
    "import matplotlib.pyplot as plt\n",
    "import numpy as np\n",
    "import seaborn as sns\n",
    "import pandas as pd"
   ]
  },
  {
   "cell_type": "code",
   "execution_count": 3,
   "id": "18c7c322-bab0-469d-88a6-114c9e9da14f",
   "metadata": {
    "tags": []
   },
   "outputs": [],
   "source": [
    "distr = scipy.stats.norm()"
   ]
  },
  {
   "cell_type": "markdown",
   "id": "d0e49ad4-afa6-4c9f-96cc-53e38e7750f6",
   "metadata": {
    "tags": []
   },
   "source": [
    "#### Standard Error of the Mean"
   ]
  },
  {
   "cell_type": "code",
   "execution_count": 4,
   "id": "09d5e965-8152-4872-9831-f3a1b83e9f69",
   "metadata": {
    "tags": []
   },
   "outputs": [
    {
     "data": {
      "text/plain": [
       "(-1.0, 3.0)"
      ]
     },
     "execution_count": 4,
     "metadata": {},
     "output_type": "execute_result"
    },
    {
     "data": {
      "image/png": "[encoded data removed]",
      "text/plain": [
       "<Figure size 640x480 with 1 Axes>"
      ]
     },
     "metadata": {},
     "output_type": "display_data"
    }
   ],
   "source": [
    "means = []\n",
    "\n",
    "for i in range(10000):\n",
    "    sample = distr.rvs(20)\n",
    "    means.append(sample.mean())\n",
    "\n",
    "fig, ax = plt.subplots()\n",
    "sns.histplot(means, ax=ax)\n",
    "ax.set_xlim(-1, 3)"
   ]
  },
  {
   "cell_type": "code",
   "execution_count": 6,
   "id": "fc73b4c3-e7db-46c5-818c-4818c2d84d72",
   "metadata": {},
   "outputs": [],
   "source": [
    "df = pd.read_csv('http://faculty.washington.edu/dacb/HCEPDB_moldata.zip')"
   ]
  },
  {
   "cell_type": "code",
   "execution_count": 8,
   "id": "db246ce2-fd82-40a1-8500-a3fa97330e1c",
   "metadata": {
    "tags": []
   },
   "outputs": [
    {
     "name": "stdout",
     "output_type": "stream",
     "text": [
      "Population mean: 120.46948830191943\n"
     ]
    }
   ],
   "source": [
    "popmean=df['jsc'].mean()\n",
    "print(f\"Population mean: {popmean}\")"
   ]
  },
  {
   "cell_type": "code",
   "execution_count": 9,
   "id": "508fc17e-b164-4fe2-a8ae-aa5cba43f060",
   "metadata": {
    "tags": []
   },
   "outputs": [],
   "source": [
    "random_sample = df['jsc'].sample(n=500)"
   ]
  },
  {
   "cell_type": "code",
   "execution_count": 10,
   "id": "b1b67c0a-7fd3-4580-aa71-7e847937849b",
   "metadata": {
    "tags": []
   },
   "outputs": [],
   "source": [
    "small_mass_sample = df.sort_values(by='mass').iloc[:500]['jsc']"
   ]
  },
  {
   "cell_type": "code",
   "execution_count": 23,
   "id": "d3e07ccc-47c1-4524-bf9d-2ca148e70d5b",
   "metadata": {
    "tags": []
   },
   "outputs": [
    {
     "data": {
      "text/html": [
       "<div>\n",
       "<style scoped>\n",
       "    .dataframe tbody tr th:only-of-type {\n",
       "        vertical-align: middle;\n",
       "    }\n",
       "\n",
       "    .dataframe tbody tr th {\n",
       "        vertical-align: top;\n",
       "    }\n",
       "\n",
       "    .dataframe thead th {\n",
       "        text-align: right;\n",
       "    }\n",
       "</style>\n",
       "<table border=\"1\" class=\"dataframe\">\n",
       "  <thead>\n",
       "    <tr style=\"text-align: right;\">\n",
       "      <th></th>\n",
       "      <th>id</th>\n",
       "      <th>SMILES_str</th>\n",
       "      <th>stoich_str</th>\n",
       "      <th>mass</th>\n",
       "      <th>pce</th>\n",
       "      <th>voc</th>\n",
       "      <th>jsc</th>\n",
       "      <th>e_homo_alpha</th>\n",
       "      <th>e_gap_alpha</th>\n",
       "      <th>e_lumo_alpha</th>\n",
       "      <th>tmp_smiles_str</th>\n",
       "    </tr>\n",
       "  </thead>\n",
       "  <tbody>\n",
       "    <tr>\n",
       "      <th>1453031</th>\n",
       "      <td>2100819</td>\n",
       "      <td>c1c[se]c(c1)-c1sc(-c2sc(-c3scc4[se]ccc34)c3cc[...</td>\n",
       "      <td>C22H10S3Se4</td>\n",
       "      <td>686.359</td>\n",
       "      <td>3.491911</td>\n",
       "      <td>0.372659</td>\n",
       "      <td>144.211321</td>\n",
       "      <td>-4.972659</td>\n",
       "      <td>1.710349</td>\n",
       "      <td>-3.262310</td>\n",
       "      <td>c1ccc([se]1)-c1sc(-c2sc(-c3scc4[se]ccc34)c3cc[...</td>\n",
       "    </tr>\n",
       "    <tr>\n",
       "      <th>2174115</th>\n",
       "      <td>2395376</td>\n",
       "      <td>c1cc2csc(-c3sc(-c4ccc([se]4)-c4scc5[se]ccc45)c...</td>\n",
       "      <td>C22H10S3Se4</td>\n",
       "      <td>686.359</td>\n",
       "      <td>3.607274</td>\n",
       "      <td>0.410628</td>\n",
       "      <td>135.200490</td>\n",
       "      <td>-5.010628</td>\n",
       "      <td>1.760545</td>\n",
       "      <td>-3.250083</td>\n",
       "      <td>c1sc(-c2sc(-c3ccc([se]3)-c3scc4[se]ccc34)c3cc[...</td>\n",
       "    </tr>\n",
       "    <tr>\n",
       "      <th>2078758</th>\n",
       "      <td>1932458</td>\n",
       "      <td>c1cc2csc(-c3ccc([se]3)-c3sc(-c4scc5cc[se]c45)c...</td>\n",
       "      <td>C22H10S3Se4</td>\n",
       "      <td>686.359</td>\n",
       "      <td>3.182133</td>\n",
       "      <td>0.372708</td>\n",
       "      <td>131.400556</td>\n",
       "      <td>-4.972708</td>\n",
       "      <td>1.780890</td>\n",
       "      <td>-3.191818</td>\n",
       "      <td>c1sc(-c2ccc([se]2)-c2sc(-c3scc4cc[se]c34)c3[se...</td>\n",
       "    </tr>\n",
       "    <tr>\n",
       "      <th>2174073</th>\n",
       "      <td>1674313</td>\n",
       "      <td>c1cc2csc(-c3sc(-c4ccc([se]4)-c4scc5[se]ccc45)c...</td>\n",
       "      <td>C22H10S3Se4</td>\n",
       "      <td>686.359</td>\n",
       "      <td>3.345704</td>\n",
       "      <td>0.365229</td>\n",
       "      <td>140.983873</td>\n",
       "      <td>-4.965229</td>\n",
       "      <td>1.730501</td>\n",
       "      <td>-3.234729</td>\n",
       "      <td>c1sc(-c2sc(-c3ccc([se]3)-c3scc4[se]ccc34)c3[se...</td>\n",
       "    </tr>\n",
       "    <tr>\n",
       "      <th>1456440</th>\n",
       "      <td>2638094</td>\n",
       "      <td>c1c[se]c(c1)-c1sc(-c2sc(-c3scc4[se]ccc34)c3[se...</td>\n",
       "      <td>C22H10S3Se4</td>\n",
       "      <td>686.359</td>\n",
       "      <td>3.674986</td>\n",
       "      <td>0.354503</td>\n",
       "      <td>159.545234</td>\n",
       "      <td>-4.954503</td>\n",
       "      <td>1.637787</td>\n",
       "      <td>-3.316716</td>\n",
       "      <td>c1ccc([se]1)-c1sc(-c2sc(-c3scc4[se]ccc34)c3[se...</td>\n",
       "    </tr>\n",
       "    <tr>\n",
       "      <th>1454969</th>\n",
       "      <td>2173747</td>\n",
       "      <td>c1c[se]c(c1)-c1sc(-c2sc(-c3scc4[se]ccc34)c3cc[...</td>\n",
       "      <td>C22H10S3Se4</td>\n",
       "      <td>686.359</td>\n",
       "      <td>3.310891</td>\n",
       "      <td>0.393337</td>\n",
       "      <td>129.547072</td>\n",
       "      <td>-4.993337</td>\n",
       "      <td>1.790304</td>\n",
       "      <td>-3.203033</td>\n",
       "      <td>c1ccc([se]1)-c1sc(-c2sc(-c3scc4[se]ccc34)c3cc[...</td>\n",
       "    </tr>\n",
       "    <tr>\n",
       "      <th>2074606</th>\n",
       "      <td>2407369</td>\n",
       "      <td>c1cc2csc(-c3ccc([se]3)-c3sc(-c4scc5cc[se]c45)c...</td>\n",
       "      <td>C22H10S3Se4</td>\n",
       "      <td>686.359</td>\n",
       "      <td>3.044733</td>\n",
       "      <td>0.344115</td>\n",
       "      <td>136.173774</td>\n",
       "      <td>-4.944115</td>\n",
       "      <td>1.753864</td>\n",
       "      <td>-3.190251</td>\n",
       "      <td>c1sc(-c2ccc([se]2)-c2sc(-c3scc4cc[se]c34)c3cc[...</td>\n",
       "    </tr>\n",
       "    <tr>\n",
       "      <th>1454550</th>\n",
       "      <td>3089645</td>\n",
       "      <td>c1c[se]c(c1)-c1sc(-c2sc(-c3scc4cc[se]c34)c3cc[...</td>\n",
       "      <td>C22H10S3Se4</td>\n",
       "      <td>686.359</td>\n",
       "      <td>3.036713</td>\n",
       "      <td>0.372103</td>\n",
       "      <td>125.599652</td>\n",
       "      <td>-4.972103</td>\n",
       "      <td>1.812920</td>\n",
       "      <td>-3.159183</td>\n",
       "      <td>c1ccc([se]1)-c1sc(-c2sc(-c3scc4cc[se]c34)c3cc[...</td>\n",
       "    </tr>\n",
       "    <tr>\n",
       "      <th>1456533</th>\n",
       "      <td>2578907</td>\n",
       "      <td>c1c[se]c(c1)-c1sc(-c2sc(-c3scc4cc[se]c34)c3cc[...</td>\n",
       "      <td>C22H10S3Se4</td>\n",
       "      <td>686.359</td>\n",
       "      <td>3.185788</td>\n",
       "      <td>0.344061</td>\n",
       "      <td>142.504759</td>\n",
       "      <td>-4.944061</td>\n",
       "      <td>1.720578</td>\n",
       "      <td>-3.223483</td>\n",
       "      <td>c1ccc([se]1)-c1sc(-c2sc(-c3scc4cc[se]c34)c3cc[...</td>\n",
       "    </tr>\n",
       "    <tr>\n",
       "      <th>2076721</th>\n",
       "      <td>1825961</td>\n",
       "      <td>c1cc2csc(-c3ccc([se]3)-c3sc(-c4scc5[se]ccc45)c...</td>\n",
       "      <td>C22H10S3Se4</td>\n",
       "      <td>686.359</td>\n",
       "      <td>3.361639</td>\n",
       "      <td>0.363052</td>\n",
       "      <td>142.504759</td>\n",
       "      <td>-4.963052</td>\n",
       "      <td>1.720357</td>\n",
       "      <td>-3.242696</td>\n",
       "      <td>c1sc(-c2ccc([se]2)-c2sc(-c3scc4[se]ccc34)c3cc[...</td>\n",
       "    </tr>\n",
       "  </tbody>\n",
       "</table>\n",
       "</div>"
      ],
      "text/plain": [
       "              id                                         SMILES_str   \n",
       "1453031  2100819  c1c[se]c(c1)-c1sc(-c2sc(-c3scc4[se]ccc34)c3cc[...  \\\n",
       "2174115  2395376  c1cc2csc(-c3sc(-c4ccc([se]4)-c4scc5[se]ccc45)c...   \n",
       "2078758  1932458  c1cc2csc(-c3ccc([se]3)-c3sc(-c4scc5cc[se]c45)c...   \n",
       "2174073  1674313  c1cc2csc(-c3sc(-c4ccc([se]4)-c4scc5[se]ccc45)c...   \n",
       "1456440  2638094  c1c[se]c(c1)-c1sc(-c2sc(-c3scc4[se]ccc34)c3[se...   \n",
       "1454969  2173747  c1c[se]c(c1)-c1sc(-c2sc(-c3scc4[se]ccc34)c3cc[...   \n",
       "2074606  2407369  c1cc2csc(-c3ccc([se]3)-c3sc(-c4scc5cc[se]c45)c...   \n",
       "1454550  3089645  c1c[se]c(c1)-c1sc(-c2sc(-c3scc4cc[se]c34)c3cc[...   \n",
       "1456533  2578907  c1c[se]c(c1)-c1sc(-c2sc(-c3scc4cc[se]c34)c3cc[...   \n",
       "2076721  1825961  c1cc2csc(-c3ccc([se]3)-c3sc(-c4scc5[se]ccc45)c...   \n",
       "\n",
       "          stoich_str     mass       pce       voc         jsc  e_homo_alpha   \n",
       "1453031  C22H10S3Se4  686.359  3.491911  0.372659  144.211321     -4.972659  \\\n",
       "2174115  C22H10S3Se4  686.359  3.607274  0.410628  135.200490     -5.010628   \n",
       "2078758  C22H10S3Se4  686.359  3.182133  0.372708  131.400556     -4.972708   \n",
       "2174073  C22H10S3Se4  686.359  3.345704  0.365229  140.983873     -4.965229   \n",
       "1456440  C22H10S3Se4  686.359  3.674986  0.354503  159.545234     -4.954503   \n",
       "1454969  C22H10S3Se4  686.359  3.310891  0.393337  129.547072     -4.993337   \n",
       "2074606  C22H10S3Se4  686.359  3.044733  0.344115  136.173774     -4.944115   \n",
       "1454550  C22H10S3Se4  686.359  3.036713  0.372103  125.599652     -4.972103   \n",
       "1456533  C22H10S3Se4  686.359  3.185788  0.344061  142.504759     -4.944061   \n",
       "2076721  C22H10S3Se4  686.359  3.361639  0.363052  142.504759     -4.963052   \n",
       "\n",
       "         e_gap_alpha  e_lumo_alpha   \n",
       "1453031     1.710349     -3.262310  \\\n",
       "2174115     1.760545     -3.250083   \n",
       "2078758     1.780890     -3.191818   \n",
       "2174073     1.730501     -3.234729   \n",
       "1456440     1.637787     -3.316716   \n",
       "1454969     1.790304     -3.203033   \n",
       "2074606     1.753864     -3.190251   \n",
       "1454550     1.812920     -3.159183   \n",
       "1456533     1.720578     -3.223483   \n",
       "2076721     1.720357     -3.242696   \n",
       "\n",
       "                                            tmp_smiles_str  \n",
       "1453031  c1ccc([se]1)-c1sc(-c2sc(-c3scc4[se]ccc34)c3cc[...  \n",
       "2174115  c1sc(-c2sc(-c3ccc([se]3)-c3scc4[se]ccc34)c3cc[...  \n",
       "2078758  c1sc(-c2ccc([se]2)-c2sc(-c3scc4cc[se]c34)c3[se...  \n",
       "2174073  c1sc(-c2sc(-c3ccc([se]3)-c3scc4[se]ccc34)c3[se...  \n",
       "1456440  c1ccc([se]1)-c1sc(-c2sc(-c3scc4[se]ccc34)c3[se...  \n",
       "1454969  c1ccc([se]1)-c1sc(-c2sc(-c3scc4[se]ccc34)c3cc[...  \n",
       "2074606  c1sc(-c2ccc([se]2)-c2sc(-c3scc4cc[se]c34)c3cc[...  \n",
       "1454550  c1ccc([se]1)-c1sc(-c2sc(-c3scc4cc[se]c34)c3cc[...  \n",
       "1456533  c1ccc([se]1)-c1sc(-c2sc(-c3scc4cc[se]c34)c3cc[...  \n",
       "2076721  c1sc(-c2ccc([se]2)-c2sc(-c3scc4[se]ccc34)c3cc[...  "
      ]
     },
     "execution_count": 23,
     "metadata": {},
     "output_type": "execute_result"
    }
   ],
   "source": [
    "df.sort_values(by='mass').tail(10)"
   ]
  },
  {
   "cell_type": "code",
   "execution_count": 20,
   "id": "9d208c86-3213-4f38-bbe8-8fc3d6f3c7c0",
   "metadata": {
    "tags": []
   },
   "outputs": [
    {
     "data": {
      "text/plain": [
       "<matplotlib.legend.Legend at 0x7f9cc1bf4220>"
      ]
     },
     "execution_count": 20,
     "metadata": {},
     "output_type": "execute_result"
    },
    {
     "data": {
      "image/png": "[encoded data removed]",
      "text/plain": [
       "<Figure size 640x480 with 1 Axes>"
      ]
     },
     "metadata": {},
     "output_type": "display_data"
    }
   ],
   "source": [
    "fig, ax = plt.subplots()\n",
    "x = np.linspace(-3, 3, num=100)\n",
    "ax.hist(x=random_sample, label='random sample', alpha=.5)\n",
    "ax.hist(x=small_mass_sample, label='small mass sample', alpha=.5)\n",
    "ax.set_xlabel('jsc')\n",
    "ax.set_ylabel('Counts in sample')\n",
    "plt.legend()"
   ]
  },
  {
   "cell_type": "markdown",
   "id": "bc3a18a1-c174-4362-97da-cbbc99d3675b",
   "metadata": {
    "tags": []
   },
   "source": [
    "###  Single and double T test"
   ]
  },
  {
   "cell_type": "code",
   "execution_count": 22,
   "id": "74189f7f-b00f-40fe-83fa-010d756b5563",
   "metadata": {
    "tags": []
   },
   "outputs": [
    {
     "data": {
      "text/plain": [
       "TtestResult(statistic=-111.98575076209326, pvalue=0.0, df=499)"
      ]
     },
     "execution_count": 22,
     "metadata": {},
     "output_type": "execute_result"
    }
   ],
   "source": [
    "scipy.stats.ttest_1samp(small_mass_sample, popmean=popmean, alternative='two-sided')"
   ]
  },
  {
   "cell_type": "markdown",
   "id": "c7ab40ec-b977-42a3-879e-13a17c4715c1",
   "metadata": {},
   "source": [
    "<font size=3>This gives us a number to work with: __`pvalue` indicates significance of the result__. Since it is less than 0.01, we can say that we are 99% confident that the sample did not come randomly from the known population.\n",
    "    \n",
    "<font size=3>The `alternative='two_sided'` comes from the fact that we wanted to ask if the sample mean is either significantly __less__ or __more__. We can choose a different alternative."
   ]
  },
  {
   "cell_type": "markdown",
   "id": "8cbf5f43-4292-46e0-afab-7676c98ccc2a",
   "metadata": {},
   "source": [
    "<font size=5><center>What if instead of wanting to know if a population produced a sample, we cared that __two samples came from the same place (or were different?)__"
   ]
  },
  {
   "cell_type": "code",
   "execution_count": 24,
   "id": "aa6e17ff-3fff-456e-9e5d-3f9428aecb79",
   "metadata": {
    "tags": []
   },
   "outputs": [
    {
     "data": {
      "text/plain": [
       "Ttest_indResult(statistic=-29.936507299354687, pvalue=4.961093570695728e-141)"
      ]
     },
     "execution_count": 24,
     "metadata": {},
     "output_type": "execute_result"
    }
   ],
   "source": [
    "scipy.stats.ttest_ind(small_mass_sample, random_sample, alternative='two-sided', equal_var=True)"
   ]
  },
  {
   "cell_type": "markdown",
   "id": "1f6d4f31-9665-40fc-a8cf-8d9d202a004e",
   "metadata": {},
   "source": [
    "<font size=3>__Extremely unlikely that the two samples were randomly drawn from the same population (indeed they were not!)__."
   ]
  },
  {
   "cell_type": "markdown",
   "id": "2811faf1-e53a-4e84-acfe-fbcecd727781",
   "metadata": {},
   "source": [
    "###  Distribution of sample quantiles"
   ]
  },
  {
   "cell_type": "markdown",
   "id": "ff35b15e-4d24-41d1-a9af-9a9cb0288f6f",
   "metadata": {},
   "source": [
    "<font size=4>For the Photovoltaic materials, we often care about the LUMO - HOMO energy gap. Specifically, we want it to be as low as possible. For this reason we may be intersted in estimating __the 10th percentile of the LUMO - HOMO gap__ in the data with some confidence.\n",
    "    "
   ]
  },
  {
   "cell_type": "code",
   "execution_count": 25,
   "id": "e94e43c0-d1ab-4b32-b5a8-1387197fa822",
   "metadata": {
    "tags": []
   },
   "outputs": [],
   "source": [
    "data = df['e_lumo_alpha'] - df['e_homo_alpha']"
   ]
  },
  {
   "cell_type": "code",
   "execution_count": 26,
   "id": "5afef826-b076-4ec6-96d9-b57f044c21b3",
   "metadata": {
    "tags": []
   },
   "outputs": [],
   "source": [
    "qs = []\n",
    "for i in range(100):\n",
    "    s = data.sample(100)\n",
    "    qs.append(s.quantile(.1))"
   ]
  },
  {
   "cell_type": "code",
   "execution_count": 27,
   "id": "614e1171-9189-4514-b567-616a5468643d",
   "metadata": {
    "tags": []
   },
   "outputs": [
    {
     "data": {
      "text/plain": [
       "<Axes: ylabel='Count'>"
      ]
     },
     "execution_count": 27,
     "metadata": {},
     "output_type": "execute_result"
    },
    {
     "data": {
      "image/png": "[encoded data removed]",
      "text/plain": [
       "<Figure size 640x480 with 1 Axes>"
      ]
     },
     "metadata": {},
     "output_type": "display_data"
    }
   ],
   "source": [
    "sns.histplot(qs)"
   ]
  },
  {
   "cell_type": "code",
   "execution_count": 29,
   "id": "0a154c3a-e5b2-47b4-9ba0-ab27548ff8ff",
   "metadata": {
    "tags": []
   },
   "outputs": [
    {
     "name": "stdout",
     "output_type": "stream",
     "text": [
      "The probability that the true 10th percentile is less than 1.3 is 0.16500858166729285\n"
     ]
    }
   ],
   "source": [
    "distr = scipy.stats.gaussian_kde(qs)\n",
    "prob = distr.integrate_box(-np.inf, 1.3)\n",
    "print(f\"The probability that the true 10th percentile is less than 1.3 is {prob}\")"
   ]
  },
  {
   "cell_type": "code",
   "execution_count": null,
   "id": "16accdb2-5f23-48eb-8705-0a9b41838340",
   "metadata": {},
   "outputs": [],
   "source": []
  }
 ],
 "metadata": {
  "kernelspec": {
   "display_name": "Python 3 (ipykernel)",
   "language": "python",
   "name": "python3"
  },
  "language_info": {
   "codemirror_mode": {
    "name": "ipython",
    "version": 3
   },
   "file_extension": ".py",
   "mimetype": "text/x-python",
   "name": "python",
   "nbconvert_exporter": "python",
   "pygments_lexer": "ipython3",
   "version": "3.10.10"
  }
 },
 "nbformat": 4,
 "nbformat_minor": 5
}
