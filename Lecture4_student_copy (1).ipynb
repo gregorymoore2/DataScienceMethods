{
 "cells": [
  {
   "cell_type": "code",
   "execution_count": 2,
   "id": "4372b331-271a-4e21-a8d1-6335b4989976",
   "metadata": {
    "tags": []
   },
   "outputs": [],
   "source": [
    "# importing all the packages\n",
    "import numpy as np\n",
    "import pandas as pd\n",
    "import matplotlib.pyplot as plt \n"
   ]
  },
  {
   "cell_type": "markdown",
   "id": "1e963261-cc5f-4d9b-bb07-cb3a8c6399e6",
   "metadata": {},
   "source": [
    "### Pandas "
   ]
  },
  {
   "cell_type": "markdown",
   "id": "0cff0d53-1f1f-46f2-a15d-f8321e3a3738",
   "metadata": {
    "jp-MarkdownHeadingCollapsed": true,
    "tags": []
   },
   "source": [
    "### Loading data with pandas"
   ]
  },
  {
   "cell_type": "markdown",
   "id": "a3bdd065-7b50-4791-a1bf-7627b7ac3e3d",
   "metadata": {},
   "source": [
    "Now we can use the ``read_csv`` command to read the comma-separated-value data.  This command is pretty sophisticated.  It can read data via a URL (Uniform Resource Locator, see Lecture 2).  Not only that, it can load data from a `.zip` file by on the fly decompressing it and opening the first `.csv` it finds.  You can open different `.csv` files in the `.zip` file with additional arguments.  See the [docs](https://pandas.pydata.org/docs/reference/api/pandas.read_csv.html) for more information."
   ]
  },
  {
   "cell_type": "code",
   "execution_count": 3,
   "id": "191912de-f6ea-4485-aff6-a9282f09d6c6",
   "metadata": {
    "tags": []
   },
   "outputs": [],
   "source": [
    "# reading a csv file using pandas\n",
    "data = pd.read_csv('http://faculty.washington.edu/dacb/HCEPDB_moldata.zip')"
   ]
  },
  {
   "cell_type": "code",
   "execution_count": null,
   "id": "2d0822fb-f07a-4f8e-b4f3-6ef370aaa045",
   "metadata": {
    "tags": []
   },
   "outputs": [],
   "source": [
    "data.head()"
   ]
  },
  {
   "cell_type": "code",
   "execution_count": 4,
   "id": "2f9b3fef-6cbb-4899-8139-fe823ca6574d",
   "metadata": {
    "tags": []
   },
   "outputs": [],
   "source": [
    "data.set_index('id', inplace=True)"
   ]
  },
  {
   "cell_type": "markdown",
   "id": "3699649f-29e9-45ad-910d-2fb41d3a1447",
   "metadata": {
    "jp-MarkdownHeadingCollapsed": true,
    "tags": []
   },
   "source": [
    "### Manipulating data with Pandas "
   ]
  },
  {
   "cell_type": "code",
   "execution_count": 5,
   "id": "7817fc7f-6c15-4e7c-b022-1589cf75e08a",
   "metadata": {
    "tags": []
   },
   "outputs": [],
   "source": [
    "data['mass_ratio_H2O'] = data['mass'] / 18.01528"
   ]
  },
  {
   "cell_type": "code",
   "execution_count": null,
   "id": "98c32eb9-a485-416d-a09e-261520f14c3c",
   "metadata": {
    "tags": []
   },
   "outputs": [],
   "source": [
    "data.head()"
   ]
  },
  {
   "cell_type": "markdown",
   "id": "3788582c-c306-42c8-b1cb-08c3899ecc77",
   "metadata": {
    "tags": []
   },
   "source": [
    "### Data Visualization"
   ]
  },
  {
   "cell_type": "code",
   "execution_count": 6,
   "id": "e5cdacef-0a22-420f-9eae-9833f91cb55b",
   "metadata": {
    "tags": []
   },
   "outputs": [],
   "source": [
    "df = data.sample(500, random_state=200)"
   ]
  },
  {
   "cell_type": "code",
   "execution_count": null,
   "id": "695fc6d5-a4ae-4bfb-9884-b48b38d69ec9",
   "metadata": {
    "tags": []
   },
   "outputs": [],
   "source": [
    "df.shape"
   ]
  },
  {
   "cell_type": "markdown",
   "id": "31095440-4381-48dd-9b77-8363133c0088",
   "metadata": {
    "jp-MarkdownHeadingCollapsed": true,
    "tags": []
   },
   "source": [
    "#### Scatter Plots "
   ]
  },
  {
   "cell_type": "code",
   "execution_count": null,
   "id": "2aed675a-2301-4735-a311-6306fb5f2cee",
   "metadata": {
    "tags": []
   },
   "outputs": [],
   "source": [
    "# plotting with python \n",
    "plt.scatter(df['jsc'], df['voc'])\n",
    "#asthetics\n",
    "plt.xlabel('Jsc')\n",
    "plt.ylabel('VOC')\n",
    "plt.title('VOC vs Jsc')\n",
    "#Show the plot\n",
    "plt.show()\n",
    "\n"
   ]
  },
  {
   "cell_type": "code",
   "execution_count": null,
   "id": "6661c322-226d-436d-a78a-9a3f2e0358fd",
   "metadata": {
    "tags": []
   },
   "outputs": [],
   "source": [
    "#changing the color of the markers\n",
    "plt.scatter(df['jsc'], df['voc'], color='red')\n",
    "plt.xlabel('Jsc')\n",
    "plt.ylabel('VOC')\n",
    "plt.title('VOC vs Jsc')"
   ]
  },
  {
   "cell_type": "code",
   "execution_count": null,
   "id": "3fd2bfba-fc03-4b69-ba43-d4048f253c2c",
   "metadata": {
    "tags": []
   },
   "outputs": [],
   "source": [
    "# changing marker type and size\n",
    "plt.scatter(df['jsc'], df['voc'], color='green', marker='s', s=20)\n",
    "plt.xlabel('Jsc')\n",
    "plt.ylabel('VOC')\n",
    "plt.title('VOC vs Jsc')"
   ]
  },
  {
   "cell_type": "markdown",
   "id": "55013a54-6117-4a3f-9a35-15143957e023",
   "metadata": {
    "jp-MarkdownHeadingCollapsed": true,
    "tags": []
   },
   "source": [
    "#### Subplots"
   ]
  },
  {
   "cell_type": "code",
   "execution_count": null,
   "id": "070dcf8b-3f03-4cac-a994-08b6bfda653c",
   "metadata": {
    "tags": []
   },
   "outputs": [],
   "source": [
    "# Plotting two types of data points in the same subplot\n",
    "small_mass = df[df['mass'] < 500] # data has mass less than 300\n",
    "large_mass = df[df['mass'] >= 500] # data has mass greater than 300\n",
    "\n",
    "fig, ax = plt.subplots()\n",
    "\n",
    "# plot the different data groups as different colors\n",
    "ax.scatter(small_mass['jsc'], small_mass['voc'], color='green', label='mass < 500')\n",
    "ax.scatter(large_mass['jsc'], large_mass['voc'], color='blue', label='mass >= 500')\n",
    "\n",
    "ax.set_xlabel('Jsc')\n",
    "ax.set_ylabel('VOC')\n",
    "ax.set_title('VOC vs Jsc')\n",
    "plt.legend() # add a legend"
   ]
  },
  {
   "cell_type": "code",
   "execution_count": null,
   "id": "8e2786e3-079e-4b27-8f4c-c7d681a35993",
   "metadata": {
    "tags": []
   },
   "outputs": [],
   "source": [
    "# subplots with 2 plots in two rows\n",
    "fig, axes = plt.subplots(2,1, figsize=(5,10), sharex=True)\n",
    "\n",
    "print(axes) # axes is now an array of axes objects instead of just one\n",
    "\n",
    "# first plot\n",
    "axes[0].scatter(df['jsc'], df['voc'])\n",
    "axes[0].set_xlabel('Jsc')\n",
    "axes[0].set_ylabel('VOC')\n",
    "\n",
    "# second plot\n",
    "axes[1].scatter(df['jsc'], df['mass'])\n",
    "axes[1].set_xlabel('Jsc')\n",
    "axes[1].set_ylabel('Mass')"
   ]
  },
  {
   "cell_type": "code",
   "execution_count": null,
   "id": "66603001-f57a-4b72-9a64-cce39c10a75e",
   "metadata": {},
   "outputs": [],
   "source": []
  },
  {
   "cell_type": "markdown",
   "id": "85ad17d3-6660-44bf-93f1-af95d540bfd7",
   "metadata": {
    "jp-MarkdownHeadingCollapsed": true,
    "tags": []
   },
   "source": [
    "#### Line Plot"
   ]
  },
  {
   "cell_type": "code",
   "execution_count": null,
   "id": "e63acee0-fbff-484a-8d2f-dfb9e70ed2a6",
   "metadata": {
    "tags": []
   },
   "outputs": [],
   "source": [
    "# plotting with python \n",
    "plt.plot(df['mass'], df['pce'])\n",
    "#asthetics\n",
    "plt.xlabel('mass')\n",
    "plt.ylabel('pce')\n",
    "plt.title('pce vs mass')\n",
    "#Show the plot\n",
    "plt.show()"
   ]
  },
  {
   "cell_type": "markdown",
   "id": "5adc3a47-aa65-4d17-9fc2-b98a2f49bd49",
   "metadata": {
    "jp-MarkdownHeadingCollapsed": true,
    "tags": []
   },
   "source": [
    "#### Bar Plot"
   ]
  },
  {
   "cell_type": "code",
   "execution_count": null,
   "id": "1fe7b3ce-6c3d-4547-97ca-32e449057fbd",
   "metadata": {
    "tags": []
   },
   "outputs": [],
   "source": [
    "df['has silicon'] = df['SMILES_str'].apply(lambda s: 'Si' in s) # add a column that indicates if the material is silicon based"
   ]
  },
  {
   "cell_type": "code",
   "execution_count": null,
   "id": "9da7ffef-80f8-4ea3-939d-29eced3390c8",
   "metadata": {
    "tags": []
   },
   "outputs": [],
   "source": [
    "df2 = df.groupby('has silicon').mean(numeric_only = 'True').reset_index()"
   ]
  },
  {
   "cell_type": "code",
   "execution_count": null,
   "id": "00c0f7b4-9256-4afc-a441-d7c5df021806",
   "metadata": {
    "tags": []
   },
   "outputs": [],
   "source": [
    "df2"
   ]
  },
  {
   "cell_type": "code",
   "execution_count": null,
   "id": "89b28d88-eace-4564-925e-bc83465da5b1",
   "metadata": {
    "tags": []
   },
   "outputs": [],
   "source": [
    "#plotting using pandas\n",
    "df2.plot(kind='bar', x='has silicon', y='jsc')"
   ]
  },
  {
   "cell_type": "code",
   "execution_count": null,
   "id": "7a73a033-5d61-40a7-94b8-eec2febc9564",
   "metadata": {
    "tags": []
   },
   "outputs": [],
   "source": [
    "#plotting two columns in one bar plot\n",
    "df2.iloc[:,[0,2,3]].plot(kind='bar', x='has silicon')"
   ]
  },
  {
   "cell_type": "code",
   "execution_count": null,
   "id": "0133d97c-f411-4eb6-b980-5ddde5a39fd4",
   "metadata": {
    "tags": []
   },
   "outputs": [],
   "source": [
    "# ploting using matplotlib (stacked bar plots)\n",
    "fig = plt.figure(figsize = (5, 5))\n",
    "plt.bar(df2['has silicon'], df2['pce'], width = 0.4, label ='pce', color = 'grey')\n",
    "plt.bar(df2['has silicon'], df2['voc'], width = 0.4, label ='voc', color = 'orange')\n",
    "plt.xlabel('Has Silicon', fontweight ='bold', fontsize = 10)\n",
    "plt.ylabel('pce', fontweight ='bold', fontsize = 10)\n",
    "plt.legend()"
   ]
  },
  {
   "cell_type": "code",
   "execution_count": null,
   "id": "17806996-1c49-41ad-97d4-ad9849ffd29c",
   "metadata": {
    "tags": []
   },
   "outputs": [],
   "source": [
    "# ploting using matplotlib (unstacked bar plot with multiple columns)\n",
    "\n",
    "fig, ax = plt.subplots(layout='constrained')\n",
    "offset = 0.4\n",
    "ax.bar(df2['has silicon'], df2['pce'], width = 0.4, label ='pce', color = 'grey')\n",
    "ax.bar(df2['has silicon'] + offset, df2['voc'], width = 0.4, label ='voc', color = 'orange')\n",
    "ax.set_xlabel('Has Silicon', fontweight ='bold', fontsize = 10)\n",
    "ax.set_ylabel('pce', fontweight ='bold', fontsize = 10)\n",
    "ax.legend()"
   ]
  },
  {
   "cell_type": "code",
   "execution_count": null,
   "id": "8b9166f6-e9ed-4786-9c69-3f7ee53446b6",
   "metadata": {},
   "outputs": [],
   "source": []
  },
  {
   "cell_type": "markdown",
   "id": "834523f5-53c9-443c-89f6-4509f1aec06e",
   "metadata": {
    "jp-MarkdownHeadingCollapsed": true,
    "tags": []
   },
   "source": [
    "#### Histogram"
   ]
  },
  {
   "cell_type": "code",
   "execution_count": null,
   "id": "a7f845f7-516f-4805-b6a4-80cff31a7a63",
   "metadata": {
    "tags": []
   },
   "outputs": [],
   "source": [
    "#ploting using pandas\n",
    "df.plot(kind='hist', y='mass')"
   ]
  },
  {
   "cell_type": "code",
   "execution_count": null,
   "id": "be8bb132-4feb-4d6d-8d28-f1db4d6fe901",
   "metadata": {
    "tags": []
   },
   "outputs": [],
   "source": [
    "#ploting using matplotlib\n",
    "plt.hist(df['mass'], label ='mass')\n",
    "plt.xlabel('mass', fontweight ='bold', fontsize = 10)\n",
    "plt.ylabel('Frequency', fontweight ='bold', fontsize = 10)\n",
    "plt.legend()"
   ]
  },
  {
   "cell_type": "markdown",
   "id": "7d508ddb-ad72-4b25-8dec-23dd50290866",
   "metadata": {
    "jp-MarkdownHeadingCollapsed": true,
    "tags": []
   },
   "source": [
    "#### Box and Whisker Plot"
   ]
  },
  {
   "cell_type": "code",
   "execution_count": null,
   "id": "d4da079a-3e3d-4d89-a39f-596adb66d66c",
   "metadata": {
    "tags": []
   },
   "outputs": [],
   "source": [
    "#ploting using pandas\n",
    "df.plot(kind='box', y=['mass', 'jsc'])"
   ]
  },
  {
   "cell_type": "code",
   "execution_count": null,
   "id": "bb2a2577-da3d-4175-98c0-b5801eaf07a5",
   "metadata": {
    "tags": []
   },
   "outputs": [],
   "source": [
    "#plotting using matplotlib\n",
    "df.boxplot(column=['mass', 'jsc'], color='blue', figsize=(10, 6))\n"
   ]
  },
  {
   "cell_type": "code",
   "execution_count": null,
   "id": "b286c81c-7bd0-4e05-b8ee-745882ed5747",
   "metadata": {},
   "outputs": [],
   "source": []
  },
  {
   "cell_type": "markdown",
   "id": "23536ea1-16f8-4da8-bc91-6644fff3352a",
   "metadata": {
    "jp-MarkdownHeadingCollapsed": true,
    "tags": []
   },
   "source": [
    "#### Pie Chart"
   ]
  },
  {
   "cell_type": "code",
   "execution_count": null,
   "id": "8aaf788d-183f-49fe-8891-6784f1e6fc9d",
   "metadata": {
    "tags": []
   },
   "outputs": [],
   "source": [
    "#plotting using pandas\n",
    "df.groupby('has silicon').count().plot(kind='pie', y = 'pce')"
   ]
  },
  {
   "cell_type": "code",
   "execution_count": null,
   "id": "99fc0259-e993-4293-9392-a36c24a85061",
   "metadata": {
    "tags": []
   },
   "outputs": [],
   "source": [
    "#plotting using matplotlib\n",
    "df3 = df.groupby('has silicon').count()\n",
    "plt.pie(df3['pce'], labels = df3.index)\n",
    "plt.ylabel('pce')\n",
    "plt.legend()"
   ]
  },
  {
   "cell_type": "markdown",
   "id": "b229bfd3-63ed-4564-9e3e-7ebaa6eb1c36",
   "metadata": {
    "jp-MarkdownHeadingCollapsed": true,
    "tags": []
   },
   "source": [
    "#### Density Estimate"
   ]
  },
  {
   "cell_type": "code",
   "execution_count": 7,
   "id": "e463186f-5798-41d8-9b6a-773b9b536768",
   "metadata": {
    "tags": []
   },
   "outputs": [
    {
     "data": {
      "text/plain": [
       "<Axes: ylabel='Density'>"
      ]
     },
     "execution_count": 7,
     "metadata": {},
     "output_type": "execute_result"
    },
    {
     "data": {
      "image/png": "[encoded data removed]",
      "text/plain": [
       "<Figure size 640x480 with 1 Axes>"
      ]
     },
     "metadata": {},
     "output_type": "display_data"
    }
   ],
   "source": [
    "df.plot(kind='kde', y='mass')"
   ]
  },
  {
   "cell_type": "markdown",
   "id": "993500d6-4599-4dfd-90ca-621d1b23e7fc",
   "metadata": {},
   "source": []
  },
  {
   "cell_type": "markdown",
   "id": "e9af6b7a-f15e-4a1f-be63-350cb0b47aa3",
   "metadata": {
    "jp-MarkdownHeadingCollapsed": true,
    "tags": []
   },
   "source": [
    "#### Density Estimate"
   ]
  },
  {
   "cell_type": "code",
   "execution_count": 1,
   "id": "201600a2-3174-4d7b-be80-a98aad9360de",
   "metadata": {
    "tags": []
   },
   "outputs": [
    {
     "ename": "NameError",
     "evalue": "name 'df' is not defined",
     "output_type": "error",
     "traceback": [
      "\u001b[0;31m---------------------------------------------------------------------------\u001b[0m",
      "\u001b[0;31mNameError\u001b[0m                                 Traceback (most recent call last)",
      "Cell \u001b[0;32mIn[1], line 3\u001b[0m\n\u001b[1;32m      1\u001b[0m \u001b[38;5;66;03m#plotting using pandas\u001b[39;00m\n\u001b[0;32m----> 3\u001b[0m \u001b[43mdf\u001b[49m\u001b[38;5;241m.\u001b[39mplot(kind\u001b[38;5;241m=\u001b[39m\u001b[38;5;124m'\u001b[39m\u001b[38;5;124mkde\u001b[39m\u001b[38;5;124m'\u001b[39m, y\u001b[38;5;241m=\u001b[39m\u001b[38;5;124m'\u001b[39m\u001b[38;5;124mmass\u001b[39m\u001b[38;5;124m'\u001b[39m)\n",
      "\u001b[0;31mNameError\u001b[0m: name 'df' is not defined"
     ]
    }
   ],
   "source": [
    "#plotting using pandas\n",
    "\n",
    "df.plot(kind='kde', y='mass')"
   ]
  },
  {
   "cell_type": "markdown",
   "id": "de7563e0-defc-45b5-bbee-12724b6cab37",
   "metadata": {
    "tags": []
   },
   "source": [
    "#### Make a density plot of both e-homo-alpha and e-lumo-alpha on the same plot"
   ]
  },
  {
   "cell_type": "markdown",
   "id": "9ce9912a-c18d-4040-ae4c-8a7a3c89ff77",
   "metadata": {
    "jp-MarkdownHeadingCollapsed": true,
    "tags": []
   },
   "source": [
    "### Seaborn"
   ]
  },
  {
   "cell_type": "code",
   "execution_count": null,
   "id": "8c3e1314-b7c5-4b56-89d7-7119833d295d",
   "metadata": {
    "tags": []
   },
   "outputs": [],
   "source": [
    "import seaborn as sns\n"
   ]
  },
  {
   "cell_type": "code",
   "execution_count": null,
   "id": "cbe65565-aabf-460a-8b5b-300094a9a390",
   "metadata": {
    "tags": []
   },
   "outputs": [],
   "source": [
    "sns.kdeplot(df['mass'])"
   ]
  },
  {
   "cell_type": "code",
   "execution_count": null,
   "id": "172b07dc-e303-41d7-9c34-e3e52527fd31",
   "metadata": {
    "tags": []
   },
   "outputs": [],
   "source": [
    "sns.relplot(kind = 'scatter', data = df, x=\"jsc\", y=\"voc\")"
   ]
  },
  {
   "cell_type": "code",
   "execution_count": null,
   "id": "ba4c1084-79f2-411b-b482-26d03b67e987",
   "metadata": {
    "tags": []
   },
   "outputs": [],
   "source": [
    "sns.displot(kind='hist', data = df, x ='mass')"
   ]
  },
  {
   "cell_type": "markdown",
   "id": "6af3ca92-efcc-47dd-b483-0fa6c1874e67",
   "metadata": {
    "tags": []
   },
   "source": [
    "##### Faster aggregation, color, and style encodings for basic plot types"
   ]
  },
  {
   "cell_type": "code",
   "execution_count": null,
   "id": "7ac58a88-76c7-48a9-83b9-8031ff728e32",
   "metadata": {
    "tags": []
   },
   "outputs": [],
   "source": [
    "df['LUMO - HOMO'] = df['e_lumo_alpha'] - df['e_homo_alpha']"
   ]
  },
  {
   "cell_type": "code",
   "execution_count": null,
   "id": "55ce7c4d-f705-4f76-a389-65f3f685f935",
   "metadata": {
    "tags": []
   },
   "outputs": [],
   "source": [
    "df['mass bin'] = pd.cut(df['mass'], 5)\n"
   ]
  },
  {
   "cell_type": "code",
   "execution_count": null,
   "id": "7476af41-19d2-4d8c-b780-f8bae358c7fe",
   "metadata": {
    "tags": []
   },
   "outputs": [],
   "source": [
    "fig, ax = plt.subplots(figsize=(12,5))\n",
    "sns.kdeplot(data=df, x='LUMO - HOMO', hue='mass bin', common_norm=False, palette='viridis')"
   ]
  },
  {
   "cell_type": "code",
   "execution_count": null,
   "id": "ec473289-ca21-4a71-886d-219838f1910b",
   "metadata": {},
   "outputs": [],
   "source": []
  }
 ],
 "metadata": {
  "kernelspec": {
   "display_name": "Python 3 (ipykernel)",
   "language": "python",
   "name": "python3"
  },
  "language_info": {
   "codemirror_mode": {
    "name": "ipython",
    "version": 3
   },
   "file_extension": ".py",
   "mimetype": "text/x-python",
   "name": "python",
   "nbconvert_exporter": "python",
   "pygments_lexer": "ipython3",
   "version": "3.10.10"
  }
 },
 "nbformat": 4,
 "nbformat_minor": 5
}
