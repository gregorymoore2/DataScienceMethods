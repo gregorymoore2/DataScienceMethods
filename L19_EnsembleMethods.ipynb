{
 "cells": [
  {
   "cell_type": "code",
   "execution_count": 1,
   "id": "4bd044f6-6f3d-48ec-af9d-8706dd5ad9d9",
   "metadata": {
    "tags": []
   },
   "outputs": [
    {
     "name": "stderr",
     "output_type": "stream",
     "text": [
      "C:\\Users\\grego\\anaconda3\\lib\\site-packages\\scipy\\__init__.py:146: UserWarning: A NumPy version >=1.16.5 and <1.23.0 is required for this version of SciPy (detected version 1.26.2\n",
      "  warnings.warn(f\"A NumPy version >={np_minversion} and <{np_maxversion}\"\n"
     ]
    }
   ],
   "source": [
    "import numpy as np\n",
    "import matplotlib.pyplot as plt\n",
    "import pandas as pd\n",
    "from sklearn import datasets, linear_model\n",
    "from sklearn.datasets import load_iris\n",
    "from sklearn.datasets import make_regression\n",
    "from sklearn.metrics import mean_squared_error, r2_score\n",
    "from sklearn.model_selection import train_test_split"
   ]
  },
  {
   "cell_type": "markdown",
   "id": "02eb4701-5998-4b56-ad08-bca0332b8a6f",
   "metadata": {},
   "source": [
    "##### Decision Boundary Function (one small modification)"
   ]
  },
  {
   "cell_type": "code",
   "execution_count": 2,
   "id": "060fc74c-b010-4ca2-9b7c-a7d7dc7c9db3",
   "metadata": {
    "tags": []
   },
   "outputs": [],
   "source": [
    "## a function for plotting the decision boundary\n",
    "# Set min and max values and give it some padding\n",
    "def decision_boundary(X,y,clf,ax):\n",
    "    x_min, x_max = X[:, 0].min(), X[:, 0].max() \n",
    "    y_min, y_max = X[:, 1].min(), X[:, 1].max() \n",
    "    # Generate a grid of points with distance h between them\n",
    "    xx, yy = np.meshgrid(np.linspace(x_min, x_max, 100).reshape(-1,1), np.linspace(y_min, y_max, 100).reshape(-1,1))\n",
    "    # Predict the function value for the whole gid\n",
    "    X_new = np.c_[xx.ravel(), yy.ravel()]\n",
    "    y_pred = clf.predict(X_new) # Translates slice objects to concatenation along the second axis\n",
    "    print(y_pred.shape)\n",
    "    zz = y_pred.reshape(xx.shape)\n",
    "    print(zz.shape)\n",
    "    # Plot the contour and training examples\n",
    "    #fig, ax = plt.subplots()\n",
    "    from matplotlib.colors import ListedColormap\n",
    "    cm2 = ListedColormap(['#0000aa', '#ff2020','#386cb0'])\n",
    "    ax.contourf(xx, yy, zz,alpha=.4, cmap=cm2) \n",
    "    ax.scatter(X[:, 0], X[:, 1], c =y)\n",
    "    ax.set_xlabel('feature1')\n",
    "    ax.set_ylabel('feature2')\n",
    "    return ax"
   ]
  },
  {
   "cell_type": "markdown",
   "id": "03abf5fd-0b7d-4a7c-8a7a-fdf1e0d88814",
   "metadata": {},
   "source": [
    "#### Implementing a Bagging  Classifier on Iris Dataset"
   ]
  },
  {
   "cell_type": "code",
   "execution_count": 5,
   "id": "0b0f59d9-11ce-4ded-9447-b4de99d475ed",
   "metadata": {
    "tags": []
   },
   "outputs": [
    {
     "data": {
      "text/plain": [
       "BaggingClassifier(base_estimator=DecisionTreeClassifier(), max_samples=100,\n",
       "                  n_estimators=50, n_jobs=-1, random_state=42)"
      ]
     },
     "execution_count": 5,
     "metadata": {},
     "output_type": "execute_result"
    }
   ],
   "source": [
    "from sklearn.ensemble import BaggingClassifier\n",
    "from sklearn.tree import DecisionTreeClassifier\n",
    "\n",
    "bag_clf = BaggingClassifier(DecisionTreeClassifier(), n_estimators=50,\n",
    "                            max_samples=100, n_jobs=-1, random_state=42)\n",
    "bag_clf.fit(X_train, y_train)"
   ]
  },
  {
   "cell_type": "code",
   "execution_count": 6,
   "id": "b41e20d2-704e-4545-8a96-938bc70fbd21",
   "metadata": {
    "tags": []
   },
   "outputs": [
    {
     "name": "stdout",
     "output_type": "stream",
     "text": [
      "Accuracy on training set: 0.983\n",
      "Accuracy on test set: 0.800\n"
     ]
    }
   ],
   "source": [
    "print(\"Accuracy on training set: {:.3f}\".format(bag_clf.score(X_train, y_train)))\n",
    "print(\"Accuracy on test set: {:.3f}\".format(bag_clf.score(X_test, y_test)))"
   ]
  },
  {
   "cell_type": "code",
   "execution_count": 7,
   "id": "b4114092-318f-49b5-8c61-574f7942d640",
   "metadata": {
    "tags": []
   },
   "outputs": [
    {
     "name": "stdout",
     "output_type": "stream",
     "text": [
      "(10000,)\n",
      "(100, 100)\n"
     ]
    },
    {
     "data": {
      "text/plain": [
       "<AxesSubplot:xlabel='feature1', ylabel='feature2'>"
      ]
     },
     "execution_count": 7,
     "metadata": {},
     "output_type": "execute_result"
    },
    {
     "data": {
      "image/png": "[encoded data removed]",
      "text/plain": [
       "<Figure size 432x288 with 1 Axes>"
      ]
     },
     "metadata": {
      "needs_background": "light"
     },
     "output_type": "display_data"
    }
   ],
   "source": [
    "ax = plt.gca()\n",
    "decision_boundary(X_train,y_train,bag_clf,ax)"
   ]
  },
  {
   "cell_type": "code",
   "execution_count": 8,
   "id": "eba02d81-10b3-4d43-8f1f-8b2f35e65334",
   "metadata": {
    "tags": []
   },
   "outputs": [
    {
     "data": {
      "text/plain": [
       "0.85"
      ]
     },
     "execution_count": 8,
     "metadata": {},
     "output_type": "execute_result"
    }
   ],
   "source": [
    "bag_clf = BaggingClassifier(DecisionTreeClassifier(), n_estimators=50,\n",
    "                           oob_score=True, n_jobs=-1, random_state=42)\n",
    "bag_clf.fit(X_train, y_train)\n",
    "bag_clf.oob_score_"
   ]
  },
  {
   "cell_type": "markdown",
   "id": "c7fb7058-8ae0-4797-94f4-b3a054e260c3",
   "metadata": {},
   "source": [
    "#### Implementing RF Classifier on Iris Dataset"
   ]
  },
  {
   "cell_type": "code",
   "execution_count": 9,
   "id": "55ec38c4-201f-45e9-b10c-e763698dfd43",
   "metadata": {
    "tags": []
   },
   "outputs": [
    {
     "data": {
      "text/plain": [
       "RandomForestClassifier(n_estimators=50, random_state=42)"
      ]
     },
     "execution_count": 9,
     "metadata": {},
     "output_type": "execute_result"
    }
   ],
   "source": [
    "from sklearn.datasets import load_iris\n",
    "from sklearn.ensemble import RandomForestClassifier\n",
    "\n",
    "\n",
    "iris = load_iris(as_frame=True)\n",
    "X_iris = iris.data[[\"petal length (cm)\", \"petal width (cm)\"]].values\n",
    "y_iris = iris.target\n",
    "\n",
    "X_train, X_test , y_train, y_test = train_test_split(X_iris, y_iris, test_size=0.20,random_state=42)\n",
    "\n",
    "RF_clf = RandomForestClassifier(n_estimators=50, random_state=42)\n",
    "RF_clf.fit(X_train, y_train)"
   ]
  },
  {
   "cell_type": "code",
   "execution_count": 10,
   "id": "c3d9e338-e235-467c-8ce1-cb1becedd371",
   "metadata": {
    "tags": []
   },
   "outputs": [
    {
     "data": {
      "text/plain": [
       "(120, 2)"
      ]
     },
     "execution_count": 10,
     "metadata": {},
     "output_type": "execute_result"
    }
   ],
   "source": [
    "X_train.shape"
   ]
  },
  {
   "cell_type": "code",
   "execution_count": 11,
   "id": "b7d3cdcd-6d0c-43da-9be0-90918c33e5a0",
   "metadata": {
    "tags": []
   },
   "outputs": [
    {
     "name": "stdout",
     "output_type": "stream",
     "text": [
      "Accuracy on training set: 0.992\n",
      "Accuracy on test set: 1.000\n"
     ]
    }
   ],
   "source": [
    "print(\"Accuracy on training set: {:.3f}\".format(RF_clf.score(X_train, y_train)))\n",
    "print(\"Accuracy on test set: {:.3f}\".format(RF_clf.score(X_test, y_test)))"
   ]
  },
  {
   "cell_type": "markdown",
   "id": "591f1d19-9656-49f9-9155-71a2b9f788aa",
   "metadata": {},
   "source": [
    "##### Visualizing the Decision Boundary "
   ]
  },
  {
   "cell_type": "code",
   "execution_count": null,
   "id": "e00b2d6a-1db1-45c9-b065-b850d269eb79",
   "metadata": {
    "tags": []
   },
   "outputs": [],
   "source": [
    "ax = plt.gca()\n",
    "decision_boundary(X_train,y_train,RF_clf,ax)"
   ]
  },
  {
   "cell_type": "markdown",
   "id": "5a824c27-6281-4bc8-a91f-0edaee1fe631",
   "metadata": {},
   "source": [
    "#### Implementing AdaBoost Classifier on Iris Dataset"
   ]
  },
  {
   "cell_type": "code",
   "execution_count": null,
   "id": "bb750e3c-2e6a-4af5-aefc-fce03e798c86",
   "metadata": {
    "tags": []
   },
   "outputs": [],
   "source": [
    "from sklearn.ensemble import AdaBoostClassifier\n",
    "\n",
    "ada_clf = AdaBoostClassifier(\n",
    "    DecisionTreeClassifier(max_depth=1), n_estimators=30,\n",
    "    learning_rate=0.5, random_state=42)\n",
    "ada_clf.fit(X_train, y_train)"
   ]
  },
  {
   "cell_type": "code",
   "execution_count": null,
   "id": "1a971f97-41b5-4ce3-b7d9-34d98646c528",
   "metadata": {
    "tags": []
   },
   "outputs": [],
   "source": [
    "print(\"Accuracy on training set: {:.3f}\".format(ada_clf.score(X_train, y_train)))\n",
    "print(\"Accuracy on test set: {:.3f}\".format(ada_clf.score(X_test, y_test)))"
   ]
  },
  {
   "cell_type": "markdown",
   "id": "0b3a33cc-62a1-45df-8cfb-416e23248dfb",
   "metadata": {},
   "source": [
    "#### Calculating feature importance for the RF model"
   ]
  },
  {
   "cell_type": "code",
   "execution_count": null,
   "id": "737d5422-34ad-411a-b7cc-4ce01a9d4348",
   "metadata": {
    "tags": []
   },
   "outputs": [],
   "source": [
    "#feature importance\n",
    "rnd_clf = RandomForestClassifier(n_estimators=500, random_state=42)\n",
    "rnd_clf.fit(iris.data, iris.target)\n",
    "for score, name in zip(rnd_clf.feature_importances_, iris.data.columns):\n",
    "    print(round(score, 2), name)"
   ]
  },
  {
   "cell_type": "markdown",
   "id": "c3e5d4a5-9885-44d4-acb2-9a2e7203565f",
   "metadata": {},
   "source": [
    "##### Ensemble methods using the make moons dataset"
   ]
  },
  {
   "cell_type": "code",
   "execution_count": 4,
   "id": "3df2e3f7-7b9a-47d2-b504-0ae709975655",
   "metadata": {},
   "outputs": [
    {
     "data": {
      "text/plain": [
       "Text(0, 0.5, 'feature2')"
      ]
     },
     "execution_count": 4,
     "metadata": {},
     "output_type": "execute_result"
    },
    {
     "data": {
      "image/png": "[encoded data removed]",
      "text/plain": [
       "<Figure size 432x288 with 1 Axes>"
      ]
     },
     "metadata": {
      "needs_background": "light"
     },
     "output_type": "display_data"
    }
   ],
   "source": [
    "from sklearn.datasets import make_moons\n",
    "X,y = make_moons(n_samples=150, noise = 0.25, random_state=42)\n",
    "X_train, X_test , y_train, y_test = train_test_split(X, y, test_size=0.20,random_state=42)\n",
    "#from sklearn.preprocessing import StandardScaler\n",
    "#scaler = StandardScaler()\n",
    "#X_train_scaled = scaler.fit_transform(X_train)\n",
    "#X_test_scaled = scaler.transform(X_test)\n",
    "plt.scatter(X_train[:,0],X_train[:,1], marker = 'o', c= y_train)\n",
    "plt.xlabel('feature1')\n",
    "plt.ylabel('feature2')"
   ]
  },
  {
   "cell_type": "markdown",
   "id": "6411f0f9-e66a-4497-9460-adb18ca621d8",
   "metadata": {},
   "source": [
    "### Decision Tree Regression"
   ]
  },
  {
   "cell_type": "code",
   "execution_count": null,
   "id": "f361c634-6eb2-4409-afd4-be21bc8dda89",
   "metadata": {
    "tags": []
   },
   "outputs": [],
   "source": [
    "import numpy as np\n",
    "from sklearn.tree import DecisionTreeRegressor\n",
    "\n",
    "np.random.seed(42)\n",
    "X_quad = np.random.rand(200, 1) - 0.5  # a single random input feature\n",
    "y_quad = X_quad ** 2 + 0.025 * np.random.randn(200, 1)\n",
    "\n",
    "tree_reg = DecisionTreeRegressor(max_depth=2, random_state=42)\n",
    "tree_reg.fit(X_quad, y_quad)"
   ]
  },
  {
   "cell_type": "code",
   "execution_count": null,
   "id": "ea949327-0a1b-4734-ba1c-c6688de073c6",
   "metadata": {
    "tags": []
   },
   "outputs": [],
   "source": [
    "from sklearn import tree\n",
    "text_representation = tree.export_text(tree_reg)\n",
    "print(text_representation)"
   ]
  },
  {
   "cell_type": "code",
   "execution_count": null,
   "id": "4307965f-29d0-4985-a549-9d968739f013",
   "metadata": {
    "tags": []
   },
   "outputs": [],
   "source": [
    "fig = plt.figure(figsize=(25,20))\n",
    "_ = tree.plot_tree(tree_reg, feature_names='x', filled=True)"
   ]
  },
  {
   "cell_type": "markdown",
   "id": "df63975b-9def-4f02-9d7c-a3b60a8177fb",
   "metadata": {},
   "source": [
    "#### Implementing a RF  Classifier on make moons dataset"
   ]
  },
  {
   "cell_type": "code",
   "execution_count": null,
   "id": "bb9f67ee-68e6-4aec-a613-d862a116aa04",
   "metadata": {},
   "outputs": [],
   "source": [
    "from sklearn.ensemble import RandomForestClassifier\n",
    "forest = RandomForestClassifier(n_estimators=5, random_state=2)\n",
    "forest.fit(X_train, y_train)"
   ]
  },
  {
   "cell_type": "code",
   "execution_count": null,
   "id": "ef3328eb-0444-44cb-a2e6-73b72b491dbc",
   "metadata": {
    "tags": []
   },
   "outputs": [],
   "source": [
    "fig, axes = plt.subplots(2, 3, figsize=(20, 10))\n",
    "for i, (ax, tree) in enumerate(zip(axes.ravel(), forest.estimators_)):\n",
    "    ax.set_title(\"Tree {}\".format(i+1))\n",
    "    decision_boundary(X_train, y_train, tree,ax)\n",
    "decision_boundary(X_train,y_train,forest,ax=axes.ravel()[5])\n",
    "axes.ravel()[5].set_title(\"Random Forest\")"
   ]
  },
  {
   "cell_type": "code",
   "execution_count": null,
   "id": "929fe680-a2e9-4706-a796-014e0729d880",
   "metadata": {
    "tags": []
   },
   "outputs": [],
   "source": [
    "forest_100 = RandomForestClassifier(n_estimators=100, random_state=2)\n",
    "forest_100.fit(X_train, y_train)"
   ]
  },
  {
   "cell_type": "code",
   "execution_count": null,
   "id": "7c4be72b-0672-4d85-ab42-7be5a606296c",
   "metadata": {
    "tags": []
   },
   "outputs": [],
   "source": [
    "ax = plt.gca()\n",
    "decision_boundary(X_train,y_train,forest_100,ax)"
   ]
  },
  {
   "cell_type": "code",
   "execution_count": null,
   "id": "5cbc53f2-6c19-407a-a826-6629abff525b",
   "metadata": {},
   "outputs": [],
   "source": []
  }
 ],
 "metadata": {
  "kernelspec": {
   "display_name": "Python 3 (ipykernel)",
   "language": "python",
   "name": "python3"
  },
  "language_info": {
   "codemirror_mode": {
    "name": "ipython",
    "version": 3
   },
   "file_extension": ".py",
   "mimetype": "text/x-python",
   "name": "python",
   "nbconvert_exporter": "python",
   "pygments_lexer": "ipython3",
   "version": "3.9.12"
  }
 },
 "nbformat": 4,
 "nbformat_minor": 5
}
